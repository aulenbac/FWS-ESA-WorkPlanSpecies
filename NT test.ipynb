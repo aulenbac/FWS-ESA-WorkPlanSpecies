{
 "cells": [
  {
   "cell_type": "code",
   "execution_count": 1,
   "metadata": {},
   "outputs": [
    {
     "name": "stdout",
     "output_type": "stream",
     "text": [
      "Collection(Database(MongoClient(host=['54.91.95.139:27017'], document_class=dict, tz_aware=False, connect=True), 'bis'), 'FWS_Work_Plan_Species')\n"
     ]
    }
   ],
   "source": [
    "from pybis import db\n",
    "from IPython.display import display\n",
    "import pandas as pd\n",
    "\n",
    "bisDB = db.Db.connect_mongodb(\"bis\")\n",
    "esaWPSpecies = bisDB[\"FWS_Work_Plan_Species\"]\n",
    "print(esaWPSpecies)"
   ]
  }
 ],
 "metadata": {
  "kernelspec": {
   "display_name": "Python 3",
   "language": "python",
   "name": "python3"
  },
  "language_info": {
   "codemirror_mode": {
    "name": "ipython",
    "version": 3
   },
   "file_extension": ".py",
   "mimetype": "text/x-python",
   "name": "python",
   "nbconvert_exporter": "python",
   "pygments_lexer": "ipython3",
   "version": "3.6.6"
  }
 },
 "nbformat": 4,
 "nbformat_minor": 2
}
