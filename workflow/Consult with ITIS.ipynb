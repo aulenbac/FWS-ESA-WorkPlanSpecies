{
 "cells": [
  {
   "cell_type": "markdown",
   "metadata": {},
   "source": [
    "Once we have the best available assertion of what FWS thinks the appropriate ITIS identifier is for as many species as possible (via ECOS scraping and TESS search), we can go consult the ITIS API to retrieve information and cache for later processing. This is done via the ITIS module in the bispy package that uses various search mechanisms against ITIS and slightly repackages the returned data for use."
   ]
  },
  {
   "cell_type": "code",
   "execution_count": 2,
   "metadata": {},
   "outputs": [],
   "source": [
    "import requests\n",
    "import json\n",
    "import bispy\n",
    "from IPython.display import display\n",
    "from joblib import Parallel, delayed\n",
    "import jsonschema\n",
    "\n",
    "itis = bispy.itis.Itis()\n",
    "bis_utils = bispy.bis.Utils()\n",
    "\n",
    "import helperfunctions"
   ]
  },
  {
   "cell_type": "code",
   "execution_count": 2,
   "metadata": {},
   "outputs": [],
   "source": [
    "# Open up the cached workplan species\n",
    "with open(\"../cache/workplan_species.json\", \"r\") as f:\n",
    "    workplan_species = json.loads(f.read())\n",
    "    f.close()"
   ]
  },
  {
   "cell_type": "code",
   "execution_count": 3,
   "metadata": {},
   "outputs": [],
   "source": [
    "# The ITIS search function is intelligent enough to determine if a TSN is provided as search criteria\n",
    "# Here, we pull lists together of ITIS TSNs where we have them and lookup name where we do not and put both together to run the process\n",
    "tsn_list = [r[\"ITIS TSN\"] for r in workplan_species if r[\"ITIS TSN\"] is not None]\n",
    "names_without_tsns = [r[\"Lookup Name\"] for r in workplan_species if r[\"ITIS TSN\"] is None]\n",
    "itis_search_list = tsn_list\n",
    "itis_search_list.extend(names_without_tsns)"
   ]
  },
  {
   "cell_type": "code",
   "execution_count": 4,
   "metadata": {},
   "outputs": [
    {
     "name": "stdout",
     "output_type": "stream",
     "text": [
      "CPU times: user 965 ms, sys: 111 ms, total: 1.08 s\n",
      "Wall time: 40.1 s\n"
     ]
    }
   ],
   "source": [
    "%%time\n",
    "# Use joblib to run multiple requests for ITIS documents in parallel via known ITIS TSNs\n",
    "itis_cache = Parallel(n_jobs=8)(delayed(itis.search)(name_or_tsn) for name_or_tsn in itis_search_list)"
   ]
  },
  {
   "cell_type": "code",
   "execution_count": 5,
   "metadata": {},
   "outputs": [
    {
     "data": {
      "text/plain": [
       "{'Doc Cache File': '../cache/itis.json',\n",
       " 'Number of Documents in Cache': 363,\n",
       " 'Document Number 62': {'processing_metadata': {'status': 'success',\n",
       "   'date_processed': '2019-09-16T17:30:14.458156',\n",
       "   'status_message': 'Exact Match',\n",
       "   'details': [{'Exact Match': 'https://services.itis.gov/?wt=json&rows=10&q=tsn:80145'}]},\n",
       "  'parameters': {'TSN': '80145'},\n",
       "  'data': [{'tsn': '80145',\n",
       "    'nameWInd': 'Simpsonaias ambigua',\n",
       "    'nameWOInd': 'Simpsonaias ambigua',\n",
       "    'unit1': 'Simpsonaias',\n",
       "    'unit2': 'ambigua',\n",
       "    'usage': 'valid',\n",
       "    'credibilityRating': 'TWG standards met',\n",
       "    'taxonAuthor': '(Say, 1825)',\n",
       "    'kingdom': 'Animalia',\n",
       "    'parentTSN': '80143',\n",
       "    'rankID': '220',\n",
       "    'rank': 'Species',\n",
       "    'synonyms': ['80145:$Simpsoniconcha ambigua$Alasmodonta ambigua$Unio hildrethianus$'],\n",
       "    'synonymTSNs': ['80145:$80146$985772$985773$'],\n",
       "    '_version_': 1643585535292211200,\n",
       "    'date_created': '1996-06-13 14:51:08',\n",
       "    'date_modified': '2015-06-25 00:00:00',\n",
       "    'geographicDivision': [{'geographic_value': 'North America',\n",
       "      'update_date': '2000-03-31 00:00:00'}],\n",
       "    'jurisdiction': [{'jurisdiction_value': 'Canada',\n",
       "      'origin': 'Native',\n",
       "      'update_date': '2013-04-26 00:00:00'},\n",
       "     {'jurisdiction_value': 'Continental US',\n",
       "      'origin': 'Native',\n",
       "      'update_date': '2013-04-26 00:00:00'}],\n",
       "    'publication': [{'reference_type': 'PUB',\n",
       "      'reference_id': '844',\n",
       "      'author': 'Turgeon, D. D., J. F. Quinn, Jr., A. E. Bogan, E. V. Coan, F. G. Hochberg, W. G. Lyons, et al.',\n",
       "      'title': 'American Fisheries Society Special Publication 26',\n",
       "      'other_variable_0': '1998-01-01 00:00:00',\n",
       "      'other_variable_1': '1998-01-01 00:00:00',\n",
       "      'other_variable_2': 'American Fisheries Society',\n",
       "      'other_variable_3': 'Bethesda, Maryland, USA',\n",
       "      'other_variable_4': '1-888569-01-8',\n",
       "      'other_variable_5': '0097-0638',\n",
       "      'other_variable_6': '526',\n",
       "      'other_variable_8': 'N',\n",
       "      'other_variable_9': '2019-04-27 00:00:00'},\n",
       "     {'reference_type': 'PUB',\n",
       "      'reference_id': '4158',\n",
       "      'author': 'Turgeon, D. D., A. E. Bogan, E. V. Coan, W. K. Emerson, W. G. Lyons, W. Pratt, et al.',\n",
       "      'title': 'American Fisheries Society Special Publication 16',\n",
       "      'other_variable_0': '1988-01-01 00:00:00',\n",
       "      'other_variable_1': '1988-01-01 00:00:00',\n",
       "      'other_variable_2': 'American Fisheries Society',\n",
       "      'other_variable_3': 'Bethesda, Maryland, USA',\n",
       "      'other_variable_4': '0-913235-47-4',\n",
       "      'other_variable_5': '0097-0638',\n",
       "      'other_variable_6': 'vii + 277',\n",
       "      'other_variable_8': 'N',\n",
       "      'other_variable_9': '2017-06-28 00:00:00'},\n",
       "     {'reference_type': 'PUB',\n",
       "      'reference_id': '12603',\n",
       "      'author': 'Graf, Daniel L., and Kevin S. Cummings',\n",
       "      'title': 'Journal of Molluscan Studies, vol. 73, part 4',\n",
       "      'other_variable_0': '2007-11-01 00:00:00',\n",
       "      'other_variable_1': '2007-11-01 00:00:00',\n",
       "      'other_variable_5': '0260-1230',\n",
       "      'other_variable_6': '291-314',\n",
       "      'other_variable_7': 'doi: 10.1093/mollus/eym029',\n",
       "      'other_variable_8': 'N',\n",
       "      'other_variable_9': '2015-06-26 00:00:00'},\n",
       "     {'reference_type': 'PUB',\n",
       "      'reference_id': '12604',\n",
       "      'author': 'Williams, James D., Melvin L. Warren, Kevin S. Cummings, John L. Harris, and Richard J. Neves',\n",
       "      'title': 'Fisheries, vol. 18, no. 9',\n",
       "      'other_variable_0': '1993-09-01 00:00:00',\n",
       "      'other_variable_1': '1993-09-01 00:00:00',\n",
       "      'other_variable_6': '6-22',\n",
       "      'other_variable_8': 'N',\n",
       "      'other_variable_9': '2015-06-26 00:00:00'},\n",
       "     {'reference_type': 'PUB',\n",
       "      'reference_id': '12605',\n",
       "      'author': 'Haag, Wendell R.',\n",
       "      'title': 'North American Freshwater Mussels: Natural History, Ecology, and Conservation',\n",
       "      'other_variable_0': '2012-01-01 00:00:00',\n",
       "      'other_variable_1': '2012-01-01 00:00:00',\n",
       "      'other_variable_2': 'Cambridge University Press',\n",
       "      'other_variable_3': 'New York, New York, USA',\n",
       "      'other_variable_4': '9780521199384',\n",
       "      'other_variable_6': '538',\n",
       "      'other_variable_8': 'N',\n",
       "      'other_variable_9': '2015-06-26 00:00:00'}],\n",
       "    'otherSource': [{'reference_type': 'SRC',\n",
       "      'source_id': '7',\n",
       "      'source_type': 'database',\n",
       "      'source_name': 'NODC Taxonomic Code',\n",
       "      'version': '8.0',\n",
       "      'acquisition_date': '1996-07-29 00:00:00',\n",
       "      'source_comment': '',\n",
       "      'create_date': '2010-01-14 00:00:00',\n",
       "      'update_date': ''},\n",
       "     {'reference_type': 'SRC',\n",
       "      'source_id': '1110',\n",
       "      'source_type': 'website',\n",
       "      'source_name': 'MUSSEL Project Web Site',\n",
       "      'version': '08Aug2013',\n",
       "      'acquisition_date': '2013-08-08 00:00:00',\n",
       "      'source_comment': 'Graf, D.L. & K.S. Cummings. 2013. The Freshwater Mussels (Unionoida) of the World (and other less consequential bivalves), updated 8 August 2013. MUSSEL Project Web Site, http://www.mussel-project.net',\n",
       "      'create_date': '2015-06-26 00:00:00',\n",
       "      'update_date': ''}],\n",
       "    'comment': [{'comment_id': '52057',\n",
       "      'commentator': 'MUSSEL Project Web Site',\n",
       "      'comment_text': 'Wide but discontinuous distribution in the Interior and Great Lakes basins of eastern North America',\n",
       "      'create_date': '2015-06-26 01:12:01',\n",
       "      'update_date': '2015-06-26 00:00:00'}],\n",
       "    'biological_taxonomy': [{'rank': 'Kingdom', 'name': 'Animalia'},\n",
       "     {'rank': 'Subkingdom', 'name': 'Bilateria'},\n",
       "     {'rank': 'Infrakingdom', 'name': 'Protostomia'},\n",
       "     {'rank': 'Superphylum', 'name': 'Lophozoa'},\n",
       "     {'rank': 'Phylum', 'name': 'Mollusca'},\n",
       "     {'rank': 'Class', 'name': 'Bivalvia'},\n",
       "     {'rank': 'Subclass', 'name': 'Palaeoheterodonta'},\n",
       "     {'rank': 'Order', 'name': 'Unionoida'},\n",
       "     {'rank': 'Superfamily', 'name': 'Unionoidea'},\n",
       "     {'rank': 'Family', 'name': 'Unionidae'},\n",
       "     {'rank': 'Subfamily', 'name': 'Unioninae'},\n",
       "     {'rank': 'Tribe', 'name': 'Alasmidontini'},\n",
       "     {'rank': 'Genus', 'name': 'Simpsonaias'},\n",
       "     {'rank': 'Species', 'name': 'Simpsonaias ambigua'}],\n",
       "    'hierarchy': ['Animalia',\n",
       "     'Bilateria',\n",
       "     'Protostomia',\n",
       "     'Lophozoa',\n",
       "     'Mollusca',\n",
       "     'Bivalvia',\n",
       "     'Palaeoheterodonta',\n",
       "     'Unionoida',\n",
       "     'Unionoidea',\n",
       "     'Unionidae',\n",
       "     'Unioninae',\n",
       "     'Alasmidontini',\n",
       "     'Simpsonaias',\n",
       "     'Simpsonaias ambigua'],\n",
       "    'commonnames': [{'name': 'salamander mussel', 'language': 'English'}]}]}}"
      ]
     },
     "metadata": {},
     "output_type": "display_data"
    }
   ],
   "source": [
    "# Cache the array of retrieved documents and return/display a random sample for verification\n",
    "display(bis_utils.doc_cache(\"../cache/itis.json\", itis_cache))"
   ]
  },
  {
   "cell_type": "markdown",
   "metadata": {},
   "source": [
    "# Schema Validation\n",
    "In developing the schema documentation for the ITIS cache that this system builds, I referenced the [ITIS Data Model](https://www.itis.gov/pdf/ITIS_ConceptualModelEntityDefinition.pdf), which is the comprehensive source of documentation on what ITIS provides that I could find. There are some discrepancies between what is in the underlying data model and what ITIS expresses through its Solr API, which is the best available online source for working with the data in the type of streaming, continuously updating mode that we are exploring with this dataset for a given species list.\n",
    "\n",
    "The development of the ITIS schema introduced a new element to the set of common properties that I am developing in this work - \"details\" within processing metadata. The ITIS lookup process for a name or identifier is complex enough in terms of what the system has to do (different ways of searching, following the taxonomic record to valid documents, etc.) that the process was set up to record what happens as part of a provenance trace. I modified the underlying ITIS lookup function to place these data into a processing_metadata/details array and documented it as a common property that we will make use of elsewhere."
   ]
  },
  {
   "cell_type": "code",
   "execution_count": 4,
   "metadata": {},
   "outputs": [
    {
     "data": {
      "text/plain": [
       "{'definitions': {'items': {'$id': '#/items',\n",
       "   'type': ['object', 'array'],\n",
       "   'title': 'Generic container for items in a dataset',\n",
       "   'description': 'A JSON array or object property containing one or more items in a dataset or data structure within a dataset.'}},\n",
       " '$schema': 'http://json-schema.org/draft-07/schema#',\n",
       " '$id': 'http://data.usgs.gov/property_registry/',\n",
       " 'type': 'array',\n",
       " 'title': 'ITIS Data Cache',\n",
       " 'description': 'A cache of data assembled for workplan species using either name or ITIS TSN identifiers from the assembled list. Data were assembled using a search function build into the experimental bispy software package (https://github.com/usgs-bcb/bispy).',\n",
       " 'items': {'$ref': '#/definitions/items'},\n",
       " 'properties': {'processing_metadata': {'$ref': 'common_properties.json#/definitions/processing_metadata'},\n",
       "  'data': {'$ref': 'common_properties.json#/definitions/data',\n",
       "   'items': {'$ref': '#/definitions/items',\n",
       "    'type': 'object',\n",
       "    'title': 'ITIS Documents Container',\n",
       "    'description': 'A generic container for the ITIS documents making up the record. The ITIS data model is fully documented here - https://www.itis.gov/pdf/ITIS_ConceptualModelEntityDefinition.pdf.',\n",
       "    'required': ['tsn',\n",
       "     'nameWInd',\n",
       "     'nameWOInd',\n",
       "     'unit1',\n",
       "     'unit2',\n",
       "     'usage',\n",
       "     'kingdom',\n",
       "     'parentTSN',\n",
       "     'rank',\n",
       "     'createDate',\n",
       "     'updateDate',\n",
       "     'taxonomy',\n",
       "     'hierarchy',\n",
       "     'commonnames'],\n",
       "    'properties': {'date_created': {'$ref': 'common_properties.json#/definitions/date_created'},\n",
       "     'date_modified': {'$ref': 'common_properties.json#/definitions/date_modified'},\n",
       "     'biological_taxonomy': {'$ref': 'common_properties.json#/definitions/biological_taxonomy'},\n",
       "     'tsn': {'$id': '#/items/properties/itis_data/items/properties/tsn',\n",
       "      'type': 'string',\n",
       "      'title': 'Taxonomic Serial Number',\n",
       "      'description': 'Persistent unique identifier for an ITIS taxon.',\n",
       "      'examples': ['550250']},\n",
       "     'nameWInd': {'$id': '#/items/properties/itis_data/items/properties/nameWInd',\n",
       "      'type': 'string',\n",
       "      'title': 'Scientific Name with Indicators',\n",
       "      'description': 'Scientific (latin) name with indicators for subspecies, variant, etc.',\n",
       "      'examples': ['Rhyacotriton cascadae']},\n",
       "     'nameWOInd': {'$id': '#/items/properties/itis_data/items/properties/nameWOInd',\n",
       "      'type': 'string',\n",
       "      'title': 'Scientific Name without Indicators',\n",
       "      'description': 'Scientific (latin) name without indicators.',\n",
       "      'examples': ['Rhyacotriton cascadae']},\n",
       "     'unit1': {'$id': '#/items/properties/itis_data/items/properties/unit1',\n",
       "      'type': 'string',\n",
       "      'title': 'Unit Name 1',\n",
       "      'description': 'First scientific name in a binomial taxonomic name structure.',\n",
       "      'examples': ['Rhyacotriton']},\n",
       "     'unit2': {'$id': '#/items/properties/itis_data/items/properties/unit2',\n",
       "      'type': 'string',\n",
       "      'title': 'Unit Name 2',\n",
       "      'description': 'Second scientific name in a binomial taxonomic name structure.',\n",
       "      'examples': ['cascadae']},\n",
       "     'usage': {'$id': '#/items/properties/itis_data/items/properties/usage',\n",
       "      'type': 'string',\n",
       "      'title': 'Usage',\n",
       "      'description': 'Current standing of an occurrence of a Taxonomic Unit. Indicator of whether or not the taxonomic name/record is valid/accepted or not. Values are different for animals and plants.',\n",
       "      'examples': ['valid', 'invalid', 'accepted', 'not accepted']},\n",
       "     'kingdom': {'$id': '#/items/properties/itis_data/items/properties/kingdom',\n",
       "      'type': 'string',\n",
       "      'title': 'Taxonomic Kingdom',\n",
       "      'description': 'The taxonomic kingdom for the record.',\n",
       "      'examples': ['Animalia']},\n",
       "     'parentTSN': {'$id': '#/items/properties/itis_data/items/properties/parentTSN',\n",
       "      'type': 'string',\n",
       "      'title': 'Parent TSN',\n",
       "      'description': 'The taxonomic serial number for the direct parent of the subject record.',\n",
       "      'examples': ['173744']},\n",
       "     'rank': {'$id': '#/items/properties/itis_data/items/properties/rank',\n",
       "      'type': 'string',\n",
       "      'title': 'Taxonomic Rank',\n",
       "      'description': 'Specific level of the subject record in the taxonomic hierarchy.',\n",
       "      'examples': ['Species']},\n",
       "     'hierarchy': {'$id': '#/items/properties/itis_data/items/properties/hierarchy',\n",
       "      'type': 'array',\n",
       "      'title': 'Taxonomic Hierarchy',\n",
       "      'description': 'The taxonomic hierarchy for the subject taxon in an ordered list. This array was derived from the original ITIS API output that provides a delimited list.',\n",
       "      'items': {'$id': '#/items/properties/itis_data/items/properties/hierarchy/items',\n",
       "       'type': 'string',\n",
       "       'title': 'Generic Item Object',\n",
       "       'description': 'A generic container for items in an array.',\n",
       "       'examples': ['Animalia',\n",
       "        'Bilateria',\n",
       "        'Deuterostomia',\n",
       "        'Chordata',\n",
       "        'Vertebrata',\n",
       "        'Gnathostomata',\n",
       "        'Tetrapoda',\n",
       "        'Amphibia',\n",
       "        'Caudata',\n",
       "        'Rhyacotritonidae',\n",
       "        'Rhyacotriton',\n",
       "        'Rhyacotriton cascadae']}},\n",
       "     'commonnames': {'$id': '#/items/properties/itis_data/items/properties/commonnames',\n",
       "      'type': 'array',\n",
       "      'title': 'Common Names',\n",
       "      'description': 'A listing of the common (vernacular) names for the species and their associated language of origin.',\n",
       "      'items': {'$id': '#/items/properties/itis_data/items/properties/commonnames/items',\n",
       "       'type': 'object',\n",
       "       'title': 'Generic Item Object',\n",
       "       'description': 'A generic container for items in an array.',\n",
       "       'required': ['name', 'language'],\n",
       "       'properties': {'name': {'$id': '#/items/properties/itis_data/items/properties/commonnames/items/properties/name',\n",
       "         'type': 'string',\n",
       "         'title': 'Common Name',\n",
       "         'description': 'A common name for a species (taxon) in its language or origin.',\n",
       "         'examples': ['Cascade Torrent Salamander']},\n",
       "        'language': {'$id': '#/items/properties/itis_data/items/properties/commonnames/items/properties/language',\n",
       "         'type': 'string',\n",
       "         'title': 'Language',\n",
       "         'description': 'The language of origin for the common name.',\n",
       "         'examples': ['English']}}}}}}}}}"
      ]
     },
     "metadata": {},
     "output_type": "display_data"
    }
   ],
   "source": [
    "itis_schema = helperfunctions.load_schema('itis')\n",
    "display(itis_schema)\n",
    "\n",
    "jsonschema.validate(itis_cache, itis_schema)"
   ]
  },
  {
   "cell_type": "markdown",
   "metadata": {},
   "source": [
    "# Brief Data Examination\n",
    "There are a couple of things we need to check for in the returned ITIS data just to make sure that we don't need to take any other action based on the taxonomic data and that we have all the right values to work with. At this point, based on pulling together the workplan species list and getting data from the FWS systems, we should have valid ITIS taxonomic records for everything that either had a TSN identified or for which we were able to lookup a scientific name. That means that there should be an ITIS document stored in the data cache that is either valid or accepted. We can verify that with the following list comprehension that should not output anything if our assumption is correct."
   ]
  },
  {
   "cell_type": "code",
   "execution_count": 9,
   "metadata": {},
   "outputs": [
    {
     "data": {
      "text/plain": [
       "[]"
      ]
     },
     "execution_count": 9,
     "metadata": {},
     "output_type": "execute_result"
    }
   ],
   "source": [
    "[r for r in itis_cache if r[\"processing_metadata\"][\"status\"] == \"success\" and (not any(i[\"usage\"] == \"valid\" for i in r[\"data\"]) and not any(i[\"usage\"] == \"accepted\" for i in r[\"data\"]))]\n",
    "        "
   ]
  },
  {
   "cell_type": "markdown",
   "metadata": {},
   "source": [
    "The next thing we take a quick look at are those cases where the taxon was only identified at a taxonomic level higher than species, subspecies, or variety. There are a number of records in the FWS list that appear to not yet have species identified and were \"cleaned up\" ahead of time in the \"Lookup Name\" strings to facilitate at least a higher level taxonomic match. The records resulting from these searches in the various information sources should be treated with care, noting that the resulting information will likely not be specific enough for usage without further refinement. In particular, the searches for genus names will likely return many more records from our search for scientific articles. "
   ]
  },
  {
   "cell_type": "code",
   "execution_count": 10,
   "metadata": {},
   "outputs": [
    {
     "name": "stdout",
     "output_type": "stream",
     "text": [
      "Lookup Name: Oreohelix\n",
      "ITIS Rank: Genus\n",
      "ITIS Name: Oreohelix\n",
      "======\n",
      "Lookup Name: Vertigo\n",
      "ITIS Rank: Genus\n",
      "ITIS Name: Vertigo\n",
      "======\n",
      "Lookup Name: Eurycea\n",
      "ITIS Rank: Genus\n",
      "ITIS Name: Eurycea\n",
      "======\n",
      "Lookup Name: Ictalurus\n",
      "ITIS Rank: Genus\n",
      "ITIS Name: Ictalurus\n",
      "======\n",
      "Lookup Name: Astylis\n",
      "ITIS Rank: Genus\n",
      "ITIS Name: Astyris\n",
      "======\n",
      "Lookup Name: Cottus\n",
      "ITIS Rank: Genus\n",
      "ITIS Name: Cottus\n",
      "======\n",
      "Lookup Name: Hemileuca\n",
      "ITIS Rank: Genus\n",
      "ITIS Name: Hemileuca\n",
      "======\n"
     ]
    }
   ],
   "source": [
    "for record in [r for r in itis_cache if r[\"processing_metadata\"][\"status\"] == \"success\"]:\n",
    "    valid_itis_doc = next(i for i in record[\"data\"] if i[\"usage\"] in [\"valid\",\"accepted\"])\n",
    "    if valid_itis_doc[\"rank\"] not in [\"Species\", \"Subspecies\", \"Variety\"]:\n",
    "        print(\"Lookup Name:\", record[\"parameters\"][\"Scientific Name\"])\n",
    "        print(\"ITIS Rank:\", valid_itis_doc[\"rank\"])\n",
    "        print(\"ITIS Name:\", valid_itis_doc[\"nameWOInd\"])\n",
    "        print(\"======\")\n"
   ]
  },
  {
   "cell_type": "code",
   "execution_count": null,
   "metadata": {},
   "outputs": [],
   "source": []
  }
 ],
 "metadata": {
  "kernelspec": {
   "display_name": "Python 3",
   "language": "python",
   "name": "python3"
  },
  "language_info": {
   "codemirror_mode": {
    "name": "ipython",
    "version": 3
   },
   "file_extension": ".py",
   "mimetype": "text/x-python",
   "name": "python",
   "nbconvert_exporter": "python",
   "pygments_lexer": "ipython3",
   "version": "3.7.3"
  }
 },
 "nbformat": 4,
 "nbformat_minor": 2
}
