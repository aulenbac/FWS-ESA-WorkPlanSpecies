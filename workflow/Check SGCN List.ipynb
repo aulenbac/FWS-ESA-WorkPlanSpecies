{
 "cells": [
  {
   "cell_type": "markdown",
   "metadata": {},
   "source": [
    "One interesting thing to know about the work plan species is their connection to State Species of Greatest Conservation Need. The USGS builds and maintains a synthesis of state species, linking species names to taxonomic authorities (ITIS and WoRMS) to produce a synthesized National list for each decadal reporting period (with some periodic updates during the intervening years). This notebook leverages an sgcn module in the bispy package to search the National List SGCN API. It returns and caches the summarized National List records, which include the list of states that have the species in their conservation planning process."
   ]
  },
  {
   "cell_type": "code",
   "execution_count": 1,
   "metadata": {},
   "outputs": [],
   "source": [
    "import requests\n",
    "import bispy\n",
    "from IPython.display import display\n",
    "from joblib import Parallel, delayed\n",
    "from collections import Counter\n",
    "import jsonschema\n",
    "\n",
    "sgcn = bispy.sgcn.Search()\n",
    "bis_utils = bispy.bis.Utils()\n",
    "\n",
    "import helperfunctions"
   ]
  },
  {
   "cell_type": "code",
   "execution_count": 2,
   "metadata": {},
   "outputs": [],
   "source": [
    "name_list = helperfunctions.workplan_species()"
   ]
  },
  {
   "cell_type": "code",
   "execution_count": 3,
   "metadata": {},
   "outputs": [
    {
     "name": "stdout",
     "output_type": "stream",
     "text": [
      "CPU times: user 1.03 s, sys: 115 ms, total: 1.14 s\n",
      "Wall time: 39.2 s\n"
     ]
    }
   ],
   "source": [
    "%%time\n",
    "# Use joblib to run multiple requests for SGCN records in parallel via scientific names\n",
    "sgcn_results = Parallel(n_jobs=8)(delayed(sgcn.search)(name, name_source) for name, name_source in name_list)\n"
   ]
  },
  {
   "cell_type": "code",
   "execution_count": 4,
   "metadata": {},
   "outputs": [
    {
     "data": {
      "text/plain": [
       "{'Doc Cache File': '../cache/sgcn.json',\n",
       " 'Number of Documents in Cache': 386,\n",
       " 'Document Number 244': {'processing_metadata': {'status': 'success',\n",
       "   'date_processed': '2019-09-16T18:08:56.798238',\n",
       "   'status_message': 'Name Match',\n",
       "   'api': 'https://api.sciencebase.gov/bis-api/api/v1/swap/nationallist?scientificname=Cicindela marginipennis'},\n",
       "  'parameters': {'Scientific Name': 'Cicindela marginipennis',\n",
       "   'Name Source': 'Lookup Name'},\n",
       "  'data': {'statelist_2005': 'Indiana,Massachusetts,New Hampshire,New York,Pennsylvania,Vermont,West Virginia',\n",
       "   'statelist_2015': 'Maine,Massachusetts,New Hampshire,New Jersey,New York,Pennsylvania,Vermont,West Virginia',\n",
       "   'scientificname': 'Cicindela marginipennis',\n",
       "   'commonname': 'Cobblestone Tiger Beetle',\n",
       "   'taxonomicgroup': 'Insects',\n",
       "   'taxonomicrank': 'Species',\n",
       "   'matchmethod': 'Exact Match',\n",
       "   'acceptedauthorityurl': 'https://www.itis.gov/servlet/SingleRpt/SingleRpt?search_topic=TSN&search_value=697708'}}}"
      ]
     },
     "metadata": {},
     "output_type": "display_data"
    }
   ],
   "source": [
    "# Cache the array of retrieved documents and return/display a random sample for verification\n",
    "display(bis_utils.doc_cache(\"../cache/sgcn.json\", sgcn_results))"
   ]
  },
  {
   "cell_type": "markdown",
   "metadata": {},
   "source": [
    "# Schema Validation"
   ]
  },
  {
   "cell_type": "code",
   "execution_count": 10,
   "metadata": {},
   "outputs": [
    {
     "data": {
      "text/plain": [
       "{'definitions': {'items': {'$id': '#/items',\n",
       "   'type': ['object', 'array'],\n",
       "   'title': 'Generic container for items in a dataset',\n",
       "   'description': 'A JSON array or object property containing one or more items in a dataset or data structure within a dataset.'}},\n",
       " '$schema': 'http://json-schema.org/draft-07/schema#',\n",
       " '$id': 'http://data.usgs.gov/property_registry/',\n",
       " 'type': 'array',\n",
       " 'title': 'SGCN Species on the FWS Listing Workplan',\n",
       " 'description': 'This dataset contains the results of a search for Workplan Species that are on a US State Species of Greatest Conservation Need list. It uses a synthesis of SGCN species maintained by the USGS and provided via an API.',\n",
       " 'items': {'$ref': '#/definitions/items',\n",
       "  'required': ['processing_metadata'],\n",
       "  'properties': {'processing_metadata': {'$ref': 'common_properties.json#/definitions/processing_metadata'},\n",
       "   'parameters': {'$ref': 'common_properties.json#/definitions/parameters'},\n",
       "   'data': {'$ref': 'common_properties.json#/definitions/data',\n",
       "    'required': ['statelist_2005',\n",
       "     'statelist_2015',\n",
       "     'scientificname',\n",
       "     'commonname',\n",
       "     'taxonomicgroup',\n",
       "     'taxonomicrank',\n",
       "     'matchmethod',\n",
       "     'acceptedauthorityurl'],\n",
       "    'properties': {'statelist_2005': {'$id': '#/items/properties/sgcn_species/properties/statelist_2005',\n",
       "      'type': 'string',\n",
       "      'title': 'Statelist_2005',\n",
       "      'description': \"A list of US State and Territory names where the species was included on the State's Wildlife Action Plan (SWAP) in 2005.\",\n",
       "      'examples': ['Oregon,Washington']},\n",
       "     'statelist_2015': {'$id': '#/items/properties/sgcn_species/properties/statelist_2015',\n",
       "      'type': 'string',\n",
       "      'title': 'Statelist_2015',\n",
       "      'description': 'A list of US State and Territory names where the species was submitted as a Species of Greatest Conservation Need in 2015.',\n",
       "      'examples': ['Oregon,Washington']},\n",
       "     'scientificname': {'$ref': 'common_properties.json#/definitions/species_scientific_name'},\n",
       "     'commonname': {'$ref': 'common_properties.json#/definitions/species_common_name'},\n",
       "     'taxonomicgroup': {'$id': '#/items/properties/sgcn_species/properties/taxonomicgroup',\n",
       "      'type': 'string',\n",
       "      'title': 'Taxonomic Group',\n",
       "      'description': 'A high level conceptual grouping for the species. Values are similar and some align with the species guild concept but also include other names in common use.',\n",
       "      'examples': ['Amphibians']},\n",
       "     'taxonomicrank': {'$id': '#/items/properties/sgcn_species/properties/taxonomicrank',\n",
       "      'type': 'string',\n",
       "      'title': 'Taxonomic Rank',\n",
       "      'description': 'Rank for the taxon in the taxonomic tree.',\n",
       "      'examples': ['Species']},\n",
       "     'matchmethod': {'$id': '#/items/properties/sgcn_species/properties/matchmethod',\n",
       "      'type': 'string',\n",
       "      'title': 'Match Method',\n",
       "      'description': 'An indication of how the species name from State lists was matched to taxonomic authorities.',\n",
       "      'examples': ['Exact Match']},\n",
       "     'acceptedauthorityurl': {'$id': '#/items/properties/sgcn_species/properties/acceptedauthorityurl',\n",
       "      'type': 'string',\n",
       "      'title': 'Accepted Authority URL',\n",
       "      'description': 'A URL link to the taxonomic authority record to which the submitted species name(s) was/were matched to place the species on the national synthesized list.',\n",
       "      'examples': ['https://www.itis.gov/servlet/SingleRpt/SingleRpt?search_topic=TSN&search_value=550250']}}}}}}"
      ]
     },
     "metadata": {},
     "output_type": "display_data"
    }
   ],
   "source": [
    "sgcn_schema = helperfunctions.load_schema('sgcn')\n",
    "display(sgcn_schema)\n",
    "\n",
    "jsonschema.validate(sgcn_results, sgcn_schema)"
   ]
  },
  {
   "cell_type": "markdown",
   "metadata": {},
   "source": [
    "# Interesting Facets\n",
    "As a point of reference, we were able to find a number of additional matches to the SGCN species based on having established a linkage to a valid ITIS record. The following code block provides a quick reference on the number of SGCN matches found (high number linked to state species of conservation need as we would expect) and the number found by having the ITIS information included in the name lookup.\n",
    "\n",
    "Also, in looking at the overall results, we see that there are 72 names in the workplan species list that are not found on any current state list of species of greatest conservation need."
   ]
  },
  {
   "cell_type": "code",
   "execution_count": 11,
   "metadata": {},
   "outputs": [
    {
     "data": {
      "text/plain": [
       "Counter({'Lookup Name': 301, 'Valid ITIS Scientific Name': 15})"
      ]
     },
     "execution_count": 11,
     "metadata": {},
     "output_type": "execute_result"
    }
   ],
   "source": [
    "Counter(spp[\"parameters\"][\"Name Source\"] for spp in [r for r in sgcn_results if r[\"processing_metadata\"][\"status\"] == \"success\"])"
   ]
  },
  {
   "cell_type": "code",
   "execution_count": 12,
   "metadata": {},
   "outputs": [
    {
     "data": {
      "text/plain": [
       "Counter({'success': 316, 'failure': 70})"
      ]
     },
     "execution_count": 12,
     "metadata": {},
     "output_type": "execute_result"
    }
   ],
   "source": [
    "Counter(spp[\"processing_metadata\"][\"status\"] for spp in sgcn_results)"
   ]
  },
  {
   "cell_type": "code",
   "execution_count": null,
   "metadata": {},
   "outputs": [],
   "source": []
  }
 ],
 "metadata": {
  "kernelspec": {
   "display_name": "Python 3",
   "language": "python",
   "name": "python3"
  },
  "language_info": {
   "codemirror_mode": {
    "name": "ipython",
    "version": 3
   },
   "file_extension": ".py",
   "mimetype": "text/x-python",
   "name": "python",
   "nbconvert_exporter": "python",
   "pygments_lexer": "ipython3",
   "version": "3.7.3"
  }
 },
 "nbformat": 4,
 "nbformat_minor": 2
}
