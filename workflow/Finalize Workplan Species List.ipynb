{
 "cells": [
  {
   "cell_type": "markdown",
   "metadata": {},
   "source": [
    "Before we move on to other data retrieval activities, it is useful to explore what we found in consulting ITIS with either declared TSN identifiers or scientific name searches to see if there is any further work that can be done to improve our ability and accuracy in getting other data sources pulled together. This notebook examines the cached ITIS results and makes some decisions about what to do next."
   ]
  },
  {
   "cell_type": "code",
   "execution_count": 1,
   "metadata": {},
   "outputs": [],
   "source": [
    "import json\n",
    "import bispy\n",
    "import jsonschema\n",
    "from collections import Counter\n",
    "\n",
    "bis_utils = bispy.bis.Utils()\n",
    "\n",
    "import helperfunctions"
   ]
  },
  {
   "cell_type": "code",
   "execution_count": 2,
   "metadata": {},
   "outputs": [],
   "source": [
    "with open(\"../cache/workplan_species.json\", \"r\") as f:\n",
    "    workplan_species = json.load(f)\n",
    "    f.close()\n",
    "\n",
    "with open(\"../cache/itis.json\", \"r\") as f:\n",
    "    itis_cache = json.load(f)\n",
    "    f.close()"
   ]
  },
  {
   "cell_type": "markdown",
   "metadata": {},
   "source": [
    "All of the cases where we returned more than one ITIS record from the function mean that something interesting happened. We can check this pretty quickly by looking at the \"Processing Metadata\" that our function records. In all of the cases here, our code followed the accepted TSN declared at the point of discovery, whether based on what appears to have been an invalid TSN assignment from the FWS source information or a name lookup that was invalid but for which there is a valid record in ITIS.\n",
    "\n",
    "The following codeblock lets us examine what is going on in these cases. The Processing Metadata structure is what our function records about what it did. It includes the URLs to the ITIS API that resulted in some action. We record both the valid/accepted and invalid/unaccepted names from ITIS and reach back to the workplan_species to show that record."
   ]
  },
  {
   "cell_type": "code",
   "execution_count": 3,
   "metadata": {},
   "outputs": [
    {
     "name": "stdout",
     "output_type": "stream",
     "text": [
      "ITIS TSN used in lookup: 207135\n"
     ]
    },
    {
     "data": {
      "text/plain": [
       "{'status': 'success',\n",
       " 'date_processed': '2019-09-16T17:30:10.297976',\n",
       " 'status_message': 'Followed Accepted TSN',\n",
       " 'details': [{'TSN Search': 'https://services.itis.gov/?wt=json&rows=10&q=tsn:773525'},\n",
       "  {'Exact Match': 'https://services.itis.gov/?wt=json&rows=10&q=tsn:207135'}]}"
      ]
     },
     "metadata": {},
     "output_type": "display_data"
    },
    {
     "name": "stdout",
     "output_type": "stream",
     "text": [
      "ITIS TSN used in lookup: 80066\n"
     ]
    },
    {
     "data": {
      "text/plain": [
       "{'status': 'success',\n",
       " 'date_processed': '2019-09-16T17:30:10.479797',\n",
       " 'status_message': 'Followed Accepted TSN',\n",
       " 'details': [{'TSN Search': 'https://services.itis.gov/?wt=json&rows=10&q=tsn:983630'},\n",
       "  {'Exact Match': 'https://services.itis.gov/?wt=json&rows=10&q=tsn:80066'}]}"
      ]
     },
     "metadata": {},
     "output_type": "display_data"
    },
    {
     "name": "stdout",
     "output_type": "stream",
     "text": [
      "ITIS TSN used in lookup: 80079\n"
     ]
    },
    {
     "data": {
      "text/plain": [
       "{'status': 'success',\n",
       " 'date_processed': '2019-09-16T17:30:11.067607',\n",
       " 'status_message': 'Followed Accepted TSN',\n",
       " 'details': [{'TSN Search': 'https://services.itis.gov/?wt=json&rows=10&q=tsn:983775'},\n",
       "  {'Exact Match': 'https://services.itis.gov/?wt=json&rows=10&q=tsn:80079'}]}"
      ]
     },
     "metadata": {},
     "output_type": "display_data"
    },
    {
     "name": "stdout",
     "output_type": "stream",
     "text": [
      "ITIS TSN used in lookup: 173717\n"
     ]
    },
    {
     "data": {
      "text/plain": [
       "{'status': 'success',\n",
       " 'date_processed': '2019-09-16T17:30:15.196176',\n",
       " 'status_message': 'Followed Accepted TSN',\n",
       " 'details': [{'TSN Search': 'https://services.itis.gov/?wt=json&rows=10&q=tsn:775913'},\n",
       "  {'Exact Match': 'https://services.itis.gov/?wt=json&rows=10&q=tsn:173717'}]}"
      ]
     },
     "metadata": {},
     "output_type": "display_data"
    },
    {
     "name": "stdout",
     "output_type": "stream",
     "text": [
      "ITIS TSN used in lookup: 567231\n"
     ]
    },
    {
     "data": {
      "text/plain": [
       "{'status': 'success',\n",
       " 'date_processed': '2019-09-16T17:30:15.761133',\n",
       " 'status_message': 'Followed Accepted TSN',\n",
       " 'details': [{'TSN Search': 'https://services.itis.gov/?wt=json&rows=10&q=tsn:983772'},\n",
       "  {'Exact Match': 'https://services.itis.gov/?wt=json&rows=10&q=tsn:567231'}]}"
      ]
     },
     "metadata": {},
     "output_type": "display_data"
    },
    {
     "name": "stdout",
     "output_type": "stream",
     "text": [
      "ITIS TSN used in lookup: 894872\n"
     ]
    },
    {
     "data": {
      "text/plain": [
       "{'status': 'success',\n",
       " 'date_processed': '2019-09-16T17:30:20.841243',\n",
       " 'status_message': 'Followed Accepted TSN',\n",
       " 'details': [{'TSN Search': 'https://services.itis.gov/?wt=json&rows=10&q=tsn:894898'},\n",
       "  {'Exact Match': 'https://services.itis.gov/?wt=json&rows=10&q=tsn:894872'}]}"
      ]
     },
     "metadata": {},
     "output_type": "display_data"
    },
    {
     "name": "stdout",
     "output_type": "stream",
     "text": [
      "ITIS TSN used in lookup: 524343\n"
     ]
    },
    {
     "data": {
      "text/plain": [
       "{'status': 'success',\n",
       " 'date_processed': '2019-09-16T17:30:21.529003',\n",
       " 'status_message': 'Followed Accepted TSN',\n",
       " 'details': [{'TSN Search': 'https://services.itis.gov/?wt=json&rows=10&q=tsn:517582'},\n",
       "  {'Exact Match': 'https://services.itis.gov/?wt=json&rows=10&q=tsn:524343'}]}"
      ]
     },
     "metadata": {},
     "output_type": "display_data"
    },
    {
     "name": "stdout",
     "output_type": "stream",
     "text": [
      "ITIS TSN used in lookup: 547326\n"
     ]
    },
    {
     "data": {
      "text/plain": [
       "{'status': 'success',\n",
       " 'date_processed': '2019-09-16T17:30:21.969982',\n",
       " 'status_message': 'Followed Accepted TSN',\n",
       " 'details': [{'TSN Search': 'https://services.itis.gov/?wt=json&rows=10&q=tsn:1063038'},\n",
       "  {'Exact Match': 'https://services.itis.gov/?wt=json&rows=10&q=tsn:547326'}]}"
      ]
     },
     "metadata": {},
     "output_type": "display_data"
    },
    {
     "name": "stdout",
     "output_type": "stream",
     "text": [
      "ITIS TSN used in lookup: 609873\n"
     ]
    },
    {
     "data": {
      "text/plain": [
       "{'status': 'success',\n",
       " 'date_processed': '2019-09-16T17:30:27.328918',\n",
       " 'status_message': 'Followed Accepted TSN',\n",
       " 'details': [{'TSN Search': 'https://services.itis.gov/?wt=json&rows=10&q=tsn:102712'},\n",
       "  {'Exact Match': 'https://services.itis.gov/?wt=json&rows=10&q=tsn:609873'}]}"
      ]
     },
     "metadata": {},
     "output_type": "display_data"
    },
    {
     "name": "stdout",
     "output_type": "stream",
     "text": [
      "ITIS TSN used in lookup: 183452\n"
     ]
    },
    {
     "data": {
      "text/plain": [
       "{'status': 'success',\n",
       " 'date_processed': '2019-09-16T17:30:28.305081',\n",
       " 'status_message': 'Followed Accepted TSN',\n",
       " 'details': [{'TSN Search': 'https://services.itis.gov/?wt=json&rows=10&q=tsn:822596'},\n",
       "  {'Exact Match': 'https://services.itis.gov/?wt=json&rows=10&q=tsn:183452'}]}"
      ]
     },
     "metadata": {},
     "output_type": "display_data"
    },
    {
     "name": "stdout",
     "output_type": "stream",
     "text": [
      "ITIS TSN used in lookup: 209559\n"
     ]
    },
    {
     "data": {
      "text/plain": [
       "{'status': 'success',\n",
       " 'date_processed': '2019-09-16T17:30:29.907358',\n",
       " 'status_message': 'Followed Accepted TSN',\n",
       " 'details': [{'TSN Search': 'https://services.itis.gov/?wt=json&rows=10&q=tsn:683027'},\n",
       "  {'Exact Match': 'https://services.itis.gov/?wt=json&rows=10&q=tsn:209559'}]}"
      ]
     },
     "metadata": {},
     "output_type": "display_data"
    },
    {
     "name": "stdout",
     "output_type": "stream",
     "text": [
      "Scientific name used in lookup: Quincuncina mitchelli\n"
     ]
    },
    {
     "data": {
      "text/plain": [
       "{'status': 'success',\n",
       " 'date_processed': '2019-09-16T17:30:32.142369',\n",
       " 'status_message': 'Followed Accepted TSN',\n",
       " 'details': [{'TSN Search': 'https://services.itis.gov/?wt=json&rows=10&q=tsn:906951'},\n",
       "  {'Exact Match': 'https://services.itis.gov/?wt=json&rows=10&q=nameWOInd:Quincuncina\\\\%20mitchelli'}]}"
      ]
     },
     "metadata": {},
     "output_type": "display_data"
    },
    {
     "name": "stdout",
     "output_type": "stream",
     "text": [
      "Scientific name used in lookup: Quadrula houstonensis\n"
     ]
    },
    {
     "data": {
      "text/plain": [
       "{'status': 'success',\n",
       " 'date_processed': '2019-09-16T17:30:32.824546',\n",
       " 'status_message': 'Followed Accepted TSN',\n",
       " 'details': [{'TSN Search': 'https://services.itis.gov/?wt=json&rows=10&q=tsn:983629'},\n",
       "  {'Exact Match': 'https://services.itis.gov/?wt=json&rows=10&q=nameWOInd:Quadrula\\\\%20houstonensis'}]}"
      ]
     },
     "metadata": {},
     "output_type": "display_data"
    },
    {
     "name": "stdout",
     "output_type": "stream",
     "text": [
      "Scientific name used in lookup: Macrhybopsis aestivalis tetranemus\n"
     ]
    },
    {
     "data": {
      "text/plain": [
       "{'status': 'success',\n",
       " 'date_processed': '2019-09-16T17:30:32.933443',\n",
       " 'status_message': 'Followed Accepted TSN',\n",
       " 'details': [{'TSN Search': 'https://services.itis.gov/?wt=json&rows=10&q=tsn:553282'},\n",
       "  {'Exact Match': 'https://services.itis.gov/?wt=json&rows=10&q=nameWOInd:Macrhybopsis\\\\%20aestivalis\\\\%20tetranemus'}]}"
      ]
     },
     "metadata": {},
     "output_type": "display_data"
    },
    {
     "name": "stdout",
     "output_type": "stream",
     "text": [
      "Scientific name used in lookup: Aster puniceus scabricaulis\n"
     ]
    },
    {
     "data": {
      "text/plain": [
       "{'status': 'success',\n",
       " 'date_processed': '2019-09-16T17:30:33.430622',\n",
       " 'status_message': 'Followed Accepted TSN',\n",
       " 'details': [{'TSN Search': 'https://services.itis.gov/?wt=json&rows=10&q=tsn:541115'},\n",
       "  {'Exact Match': 'https://services.itis.gov/?wt=json&rows=10&q=nameWOInd:Aster\\\\%20puniceus\\\\%20scabricaulis'}]}"
      ]
     },
     "metadata": {},
     "output_type": "display_data"
    },
    {
     "name": "stdout",
     "output_type": "stream",
     "text": [
      "Scientific name used in lookup: Aspidoscelis arizonae\n"
     ]
    },
    {
     "data": {
      "text/plain": [
       "{'status': 'success',\n",
       " 'date_processed': '2019-09-16T17:30:34.235656',\n",
       " 'status_message': 'Followed Accepted TSN',\n",
       " 'details': [{'TSN Search': 'https://services.itis.gov/?wt=json&rows=10&q=tsn:208930'},\n",
       "  {'Exact Match': 'https://services.itis.gov/?wt=json&rows=10&q=nameWOInd:Aspidoscelis\\\\%20arizonae'}]}"
      ]
     },
     "metadata": {},
     "output_type": "display_data"
    },
    {
     "name": "stdout",
     "output_type": "stream",
     "text": [
      "Scientific name used in lookup: Sistrurus catenatus edwardsii\n"
     ]
    },
    {
     "data": {
      "text/plain": [
       "{'status': 'success',\n",
       " 'date_processed': '2019-09-16T17:30:34.541900',\n",
       " 'status_message': 'Followed Accepted TSN',\n",
       " 'details': [{'TSN Search': 'https://services.itis.gov/?wt=json&rows=10&q=tsn:1058793'},\n",
       "  {'Exact Match': 'https://services.itis.gov/?wt=json&rows=10&q=nameWOInd:Sistrurus\\\\%20catenatus\\\\%20edwardsii'}]}"
      ]
     },
     "metadata": {},
     "output_type": "display_data"
    },
    {
     "name": "stdout",
     "output_type": "stream",
     "text": [
      "Scientific name used in lookup: Alces alces andersoni\n"
     ]
    },
    {
     "data": {
      "text/plain": [
       "{'status': 'success',\n",
       " 'date_processed': '2019-09-16T17:30:35.327639',\n",
       " 'status_message': 'Followed Accepted TSN',\n",
       " 'details': [{'TSN Search': 'https://services.itis.gov/?wt=json&rows=10&q=tsn:898420'},\n",
       "  {'Exact Match': 'https://services.itis.gov/?wt=json&rows=10&q=nameWOInd:Alces\\\\%20alces\\\\%20andersoni'}]}"
      ]
     },
     "metadata": {},
     "output_type": "display_data"
    },
    {
     "name": "stdout",
     "output_type": "stream",
     "text": [
      "Scientific name used in lookup: Oncidium undulatum\n"
     ]
    },
    {
     "data": {
      "text/plain": [
       "{'status': 'success',\n",
       " 'date_processed': '2019-09-16T17:30:36.258735',\n",
       " 'status_message': 'Followed Accepted TSN',\n",
       " 'details': [{'TSN Search': 'https://services.itis.gov/?wt=json&rows=10&q=tsn:894691'},\n",
       "  {'Exact Match': 'https://services.itis.gov/?wt=json&rows=10&q=nameWOInd:Oncidium\\\\%20undulatum'}]}"
      ]
     },
     "metadata": {},
     "output_type": "display_data"
    },
    {
     "name": "stdout",
     "output_type": "stream",
     "text": [
      "Scientific name used in lookup: Macroclemys temmincki\n"
     ]
    },
    {
     "data": {
      "text/plain": [
       "{'status': 'success',\n",
       " 'date_processed': '2019-09-16T17:30:36.393658',\n",
       " 'status_message': 'Followed Accepted TSN',\n",
       " 'details': [{'Exact Match Fail': 'https://services.itis.gov/?wt=json&rows=10&q=nameWOInd:Macroclemys\\\\%20temmincki'},\n",
       "  {'TSN Search': 'https://services.itis.gov/?wt=json&rows=10&q=tsn:668671'},\n",
       "  {'Fuzzy Match': 'https://services.itis.gov/?wt=json&rows=10&q=nameWOInd:Macroclemys\\\\%20temmincki~0.8'}]}"
      ]
     },
     "metadata": {},
     "output_type": "display_data"
    },
    {
     "name": "stdout",
     "output_type": "stream",
     "text": [
      "Scientific name used in lookup: Stilosoma extenuatum\n"
     ]
    },
    {
     "data": {
      "text/plain": [
       "{'status': 'success',\n",
       " 'date_processed': '2019-09-16T17:30:36.984547',\n",
       " 'status_message': 'Followed Accepted TSN',\n",
       " 'details': [{'TSN Search': 'https://services.itis.gov/?wt=json&rows=10&q=tsn:1082386'},\n",
       "  {'Exact Match': 'https://services.itis.gov/?wt=json&rows=10&q=nameWOInd:Stilosoma\\\\%20extenuatum'}]}"
      ]
     },
     "metadata": {},
     "output_type": "display_data"
    },
    {
     "name": "stdout",
     "output_type": "stream",
     "text": [
      "Scientific name used in lookup: Pseudanophthalmus potomaca potomaca\n"
     ]
    },
    {
     "data": {
      "text/plain": [
       "{'status': 'success',\n",
       " 'date_processed': '2019-09-16T17:30:38.360092',\n",
       " 'status_message': 'Followed Accepted TSN',\n",
       " 'details': [{'TSN Search': 'https://services.itis.gov/?wt=json&rows=10&q=tsn:110131'},\n",
       "  {'Exact Match': 'https://services.itis.gov/?wt=json&rows=10&q=nameWOInd:Pseudanophthalmus\\\\%20potomaca\\\\%20potomaca'}]}"
      ]
     },
     "metadata": {},
     "output_type": "display_data"
    },
    {
     "name": "stdout",
     "output_type": "stream",
     "text": [
      "Scientific name used in lookup: Martes pennanti\n"
     ]
    },
    {
     "data": {
      "text/plain": [
       "{'status': 'success',\n",
       " 'date_processed': '2019-09-16T17:30:38.798108',\n",
       " 'status_message': 'Followed Accepted TSN',\n",
       " 'details': [{'TSN Search': 'https://services.itis.gov/?wt=json&rows=10&q=tsn:1086356'},\n",
       "  {'Exact Match': 'https://services.itis.gov/?wt=json&rows=10&q=nameWOInd:Martes\\\\%20pennanti'}]}"
      ]
     },
     "metadata": {},
     "output_type": "display_data"
    }
   ],
   "source": [
    "for r in [i for i in itis_cache if \"data\" in i.keys() and len(i[\"data\"]) > 1]:\n",
    "    source_url = next((o for o in r[\"processing_metadata\"][\"details\"] if \"Exact Match\" in o.keys()), None)\n",
    "    if not source_url:\n",
    "        source_url = next((o for o in r[\"processing_metadata\"][\"details\"] if \"Exact Match Fail\" in o.keys()), None)\n",
    "    source_url = next((v for k, v in source_url.items()), None)\n",
    "    source_identifier = source_url.split(\":\")[-1].replace(\"\\%20\", \" \")\n",
    "    if source_identifier.isdigit():\n",
    "        print(\"ITIS TSN used in lookup:\", source_identifier)\n",
    "    else:\n",
    "        print(\"Scientific name used in lookup:\", source_identifier)\n",
    "    \n",
    "    display(r[\"processing_metadata\"])\n"
   ]
  },
  {
   "cell_type": "markdown",
   "metadata": {},
   "source": [
    "There are essentially three things that seem to be going on here:\n",
    "\n",
    "1. There are cases where the FWS data declares a TSN for what ITIS considers to be invalid (animals)/unaccepted (plants) taxonomy. It could be that FWS biologists disagree with ITIS or simply a matter of FWS information being out of date. We don't have enough information as yet to make a judgment.\n",
    "2. There are cases where the FWS data uses a scientific name that ITIS considers to be invalid/unaccepted. This is kind of the same issue as no. 1, but it could be that FWS is out of date with whatever has happened in the ITIS taxonomy world.\n",
    "3. There is one case of a misspelling (Macroclemys temmincki should have been Macroclemys temminckii) where the search had to go to a fuzzy match to find the record. In this case, ITIS considers one of its records to be invalid and the other valid, though they are ultimately for the same name. \n",
    "\n",
    "Because there could be disagreement on the part of species biologists with the taxonomic authority, the conservative course of action here is to record the valid ITIS name and other information as an additional potential point of reference. If we run into cases where the FWS name does not find results in another system we are checking for data, we can try the ITIS valid/accepted name to see what we can turn up, flagging that result with some uncertainty factor or note to help determine its utility.\n",
    "\n",
    "The following code block establishes a connection back to the appropriate originating record in the workplan_species data and injects ITIS valid/accepted names into a new attribute, just for these cases where we may want to use that additional information."
   ]
  },
  {
   "cell_type": "code",
   "execution_count": 4,
   "metadata": {},
   "outputs": [],
   "source": [
    "updated_workplan_species = list()\n",
    "\n",
    "for r in [i for i in itis_cache if \"data\" in i.keys() and len(i[\"data\"]) > 1]:\n",
    "    source_url = next((o for o in r[\"processing_metadata\"][\"details\"] if \"Exact Match\" in o.keys()), None)\n",
    "    if not source_url:\n",
    "        source_url = next((o for o in r[\"processing_metadata\"][\"details\"] if \"Exact Match Fail\" in o.keys()), None)\n",
    "    source_url = next((v for k, v in source_url.items()), None)\n",
    "    source_identifier = source_url.split(\":\")[-1].replace(\"\\%20\", \" \")\n",
    "    if source_identifier.isdigit():\n",
    "        source_workplan_species = next((s for s in workplan_species if s[\"ITIS TSN\"] == source_identifier), None)\n",
    "    else:\n",
    "        source_workplan_species = next((s for s in workplan_species if s[\"Lookup Name\"] == source_identifier), None)\n",
    "    \n",
    "    source_workplan_species[\"Valid ITIS Scientific Name\"] = next((i[\"nameWOInd\"] for i in r[\"data\"] if i[\"usage\"] in [\"valid\",\"accepted\"]), None)\n",
    "    source_workplan_species[\"Valid ITIS TSN\"] = next((i[\"tsn\"] for i in r[\"data\"] if i[\"usage\"] in [\"valid\",\"accepted\"]), None)\n",
    "    updated_workplan_species.append(source_workplan_species)\n"
   ]
  },
  {
   "cell_type": "code",
   "execution_count": 5,
   "metadata": {},
   "outputs": [
    {
     "data": {
      "text/plain": [
       "{'Doc Cache File': '../cache/workplan_species.json',\n",
       " 'Number of Documents in Cache': 363,\n",
       " 'Document Number 10': {'Guild': 'Insects',\n",
       "  'Species Name (Common)': \"Franklin's bumblebee\",\n",
       "  'Scientific Name': 'Bombus franklini',\n",
       "  'Lead FWS Regional Office': 'Region 1 - Pacific (Northwest)',\n",
       "  'Proposed FWS Decision Timeframe (Fiscal Year)': 2018,\n",
       "  'Range': 'OR',\n",
       "  'Bin': None,\n",
       "  'Lookup Name': 'Bombus franklini',\n",
       "  'ECOS Link': 'https://ecos.fws.gov/ecp/species/7022',\n",
       "  'ITIS TSN': '714804'}}"
      ]
     },
     "metadata": {},
     "output_type": "display_data"
    }
   ],
   "source": [
    "# Build a new workplan species recordset, injecting the augmented records\n",
    "new_workplan_species = list()\n",
    "for s in workplan_species:\n",
    "    new_record = next((r for r in updated_workplan_species if r[\"Lookup Name\"] == s[\"Lookup Name\"]), None)\n",
    "    if new_record:\n",
    "        new_workplan_species.append(new_record)\n",
    "    else:\n",
    "        new_workplan_species.append(s)\n",
    "\n",
    "# Cache the new set of workplan species information\n",
    "display(bis_utils.doc_cache(\"../cache/workplan_species.json\", new_workplan_species))"
   ]
  },
  {
   "cell_type": "markdown",
   "metadata": {},
   "source": [
    "# Schema Validation\n",
    "Building out the schema for the workplan_species dataset used in subsequent lookup and data assembly steps gave me an opportunity to explore the enum aspect of the JSON Schema specification. This is a way of forcing a set of available values for a property, analogous to specifying enumerated domain values in FGDC metadata or ISO Feature Catalog. There were a few properties in the workplan species list that lend themselves to this approach. As we look toward scaling this methodology, we will develop the semantic infrastructure behind the system such that defined \"code lists\" and more robust vocabularies are used to drive validation mechanisms.\n",
    "\n",
    "I also ran into a technical snag in using the jsonschema package for validation where passing the entire list of workplan species documents resulted in a recursion error that I could not resolve. Alternatively, I iterated through each document to validate against the schema individually, which was not noticeably slower anyway."
   ]
  },
  {
   "cell_type": "code",
   "execution_count": 6,
   "metadata": {},
   "outputs": [
    {
     "data": {
      "text/plain": [
       "{'definitions': {'items': {'$id': '#/items',\n",
       "   'type': ['object', 'array'],\n",
       "   'title': 'Generic container for items in a dataset',\n",
       "   'description': 'A JSON array or object property containing one or more items in a dataset or data structure within a dataset.'}},\n",
       " '$schema': 'http://json-schema.org/draft-07/schema#',\n",
       " '$id': 'http://data.usgs.gov/property_registry/',\n",
       " 'type': ['array', 'object'],\n",
       " 'title': 'FWS National Listing Workplan Species',\n",
       " 'description': 'A processed dataset of the FWS National Listing Workplan species from original source material. Includes the addition of properties to aid in name/identifier lookup from other sources.',\n",
       " 'items': {'$ref': '#/definitions/items',\n",
       "  'required': ['Guild',\n",
       "   'Species Name (Common)',\n",
       "   'Scientific Name',\n",
       "   'Lead FWS Regional Office',\n",
       "   'Proposed FWS Decision Timeframe (Fiscal Year)',\n",
       "   'Range',\n",
       "   'Bin',\n",
       "   'ECOS Link',\n",
       "   'ITIS TSN',\n",
       "   'Lookup Name']},\n",
       " 'properties': {'Guild': {'$id': '#/items/properties/Guild',\n",
       "   'type': 'string',\n",
       "   'title': 'Species Guild',\n",
       "   'description': 'A high level grouping of species into guilds. This property was added by USGS Ecosystems Mission Area staff to help organize the original FWS list.',\n",
       "   'enum': ['Amphibians',\n",
       "    'Birds',\n",
       "    'Flowering Plants',\n",
       "    'Insects',\n",
       "    'Mammals',\n",
       "    'Snails',\n",
       "    'Bivalves',\n",
       "    'Crustaceans',\n",
       "    'Fishes',\n",
       "    'Non-Flowering Plants',\n",
       "    'Reptiles']},\n",
       "  'Species Name (Common)': {'$id': '#/items/properties/Species Name (Common)',\n",
       "   'type': 'string',\n",
       "   'title': 'Species Common Name',\n",
       "   'description': 'A common (vernacular) name for the species.',\n",
       "   'examples': ['Arizona toad']},\n",
       "  'Scientific Name': {'$id': '#/items/properties/Scientific Name',\n",
       "   'type': 'string',\n",
       "   'title': 'Scientific Name',\n",
       "   'description': 'The scientific (latin) name for the species.',\n",
       "   'examples': ['Bufo microscaphus microscaphus']},\n",
       "  'Lead FWS Regional Office': {'$id': '#/items/properties/Lead FWS Regional Office',\n",
       "   'type': 'string',\n",
       "   'title': 'Lead FWS Regional Office',\n",
       "   'description': 'The FWS Regional Office with lead for the listing process.',\n",
       "   'enum': ['Region 1 - Pacific (Northwest)',\n",
       "    'Region 2 - Southwest',\n",
       "    'Region 3 - Midwest',\n",
       "    'Region 4 - Southeast',\n",
       "    'Region 5 - Northeast',\n",
       "    'Region 6 - Mountain-Prairie',\n",
       "    'Region 7 - Alaska',\n",
       "    'Region 8 - Pacific Southwest']},\n",
       "  'Proposed FWS Decision Timeframe (Fiscal Year)': {'$id': '#/items/properties/Proposed FWS Decision Timeframe (Fiscal Year)',\n",
       "   'type': 'integer',\n",
       "   'title': 'Proposed fws decision timeframe (fiscal year)',\n",
       "   'description': 'The proposed time frame in which the FWS will seek to make a decision on listing.',\n",
       "   'enum': [2023, 2022, 2021, 2020, 2017, 2019, 2018]},\n",
       "  'Range': {'$id': '#/items/properties/Range',\n",
       "   'type': 'string',\n",
       "   'title': 'Geographic Range',\n",
       "   'description': 'A list of US states and other areas considered to be in the range of the species.',\n",
       "   'examples': ['AZ, CA, NM, NV, UT']},\n",
       "  'Bin': {'$id': '#/items/properties/Bin',\n",
       "   'type': ['null', 'string'],\n",
       "   'title': 'Bin',\n",
       "   'description': 'A text value for a listing workplan bin assignment.',\n",
       "   'enum': [None, 'LPN 9', 'LPN 2', 'LPN 8', 'LPN 6', 'LPN 5', 'LPN 3']},\n",
       "  'ECOS Link': {'$id': '#/items/properties/ECOS Link',\n",
       "   'type': ['null', 'string'],\n",
       "   'title': 'ECOS Link',\n",
       "   'description': 'Web link to a species information page in the USFWS Ecological Conservation Online System. It is not clear when or by whom this property was added to original source material.',\n",
       "   'examples': ['https://ecos.fws.gov/ecp/species/2077']},\n",
       "  'ITIS TSN': {'$id': '#/items/properties/ITIS TSN',\n",
       "   'type': ['string', 'null'],\n",
       "   'title': 'ITIS TSN',\n",
       "   'description': 'The ITIS Taxonomic Serial Number added into the data from processing steps.',\n",
       "   'examples': ['207135']},\n",
       "  'Lookup Name': {'$id': '#/items/properties/Lookup Name',\n",
       "   'type': 'string',\n",
       "   'title': 'Lookup Name',\n",
       "   'description': 'The most appropriate name to use in species lookup based on processing steps. In some cases, an original name string contained species identification information that would hinder rather than help in API searches, and these were cut down to the best name string available.',\n",
       "   'examples': ['Bufo microscaphus microscaphus']},\n",
       "  'Valid ITIS Scientific Name': {'$id': '#/items/properties/Valid ITIS Scientific Name',\n",
       "   'type': 'string',\n",
       "   'title': 'Valid ITIS scientific Name',\n",
       "   'description': 'Based on previous processing steps, when applicable the valid scientific name according to ITIS was added to serve as an additional name in searches.',\n",
       "   'examples': ['Anaxyrus microscaphus']},\n",
       "  'Valid ITIS TSN': {'$id': '#/items/properties/Valid ITIS TSN',\n",
       "   'type': 'string',\n",
       "   'title': 'Valid ITIS TSN',\n",
       "   'description': 'Based on previous processing steps, when applicable the valid TSN  according to ITIS was added.',\n",
       "   'examples': ['773525']}}}"
      ]
     },
     "metadata": {},
     "output_type": "display_data"
    }
   ],
   "source": [
    "workplan_species_schema = helperfunctions.load_schema('workplan_species')\n",
    "display(workplan_species_schema)\n",
    "\n",
    "for record in new_workplan_species:\n",
    "    jsonschema.validate(record, workplan_species_schema)"
   ]
  },
  {
   "cell_type": "code",
   "execution_count": null,
   "metadata": {},
   "outputs": [],
   "source": []
  }
 ],
 "metadata": {
  "kernelspec": {
   "display_name": "Python 3",
   "language": "python",
   "name": "python3"
  },
  "language_info": {
   "codemirror_mode": {
    "name": "ipython",
    "version": 3
   },
   "file_extension": ".py",
   "mimetype": "text/x-python",
   "name": "python",
   "nbconvert_exporter": "python",
   "pygments_lexer": "ipython3",
   "version": "3.7.3"
  }
 },
 "nbformat": 4,
 "nbformat_minor": 2
}
