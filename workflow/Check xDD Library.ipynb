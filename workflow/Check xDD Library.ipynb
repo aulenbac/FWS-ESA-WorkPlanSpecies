{
 "cells": [
  {
   "cell_type": "markdown",
   "metadata": {},
   "source": [
    "Perhaps one of the most important aspects of building a continuous stream of new information associated with species in the FWS work plan or other circumstances is the ability to identify and access new published literature. Many of the structured databases assembled and organized into this collection are based wholly or partly in literature references and information extracted from literature. We are currently working with the team developing the xDD Digital Library on a number of tools and techniques for a) identifying literature potentially applicable to species-based research and b) using natural language processing tools to pull specific data from those sources for use. This is an ongoing effort that will result in improved production capabilities over time.\n",
    "\n",
    "In the near term, we take advantage of some basic and enhanced search functionality to identify potential articles of interested in the xDD library of millions of documents that are increasing daily. The xdd module in the bispy package contains some search and packaging functionality that interfaces with the xDD REST API.\n",
    "\n",
    "# Data Management Considerations\n",
    "The xDD Library aspect of this overall workflow is likely the most dynamic area of the system we are building as new literature is coming out all the time and the xDD Library is continuing to expand rapidly in its work to index and process as many articles as possible. Through our partnership with University of Wisconsin-Madison and the xDD team, we also have the ability to collaborate on incorporating new sources of papers and meaningful gray literature as we dig further into sources of references that may not have yet found a route into the xDD processing engine."
   ]
  },
  {
   "cell_type": "code",
   "execution_count": 1,
   "metadata": {},
   "outputs": [],
   "source": [
    "import requests\n",
    "import bispy\n",
    "from IPython.display import display\n",
    "from joblib import Parallel, delayed\n",
    "import jsonschema\n",
    "\n",
    "xdd = bispy.xdd.Xdd()\n",
    "bis_utils = bispy.bis.Utils()\n",
    "\n",
    "import helperfunctions"
   ]
  },
  {
   "cell_type": "code",
   "execution_count": 2,
   "metadata": {},
   "outputs": [],
   "source": [
    "name_list = helperfunctions.workplan_species()"
   ]
  },
  {
   "cell_type": "code",
   "execution_count": 3,
   "metadata": {},
   "outputs": [
    {
     "name": "stdout",
     "output_type": "stream",
     "text": [
      "CPU times: user 1.03 s, sys: 131 ms, total: 1.16 s\n",
      "Wall time: 3min 26s\n"
     ]
    }
   ],
   "source": [
    "%%time\n",
    "# Use joblib to run multiple requests for SGCN records in parallel via scientific names\n",
    "xdd_results = Parallel(n_jobs=8)(delayed(xdd.snippets)(name) for name, name_source in name_list)\n"
   ]
  },
  {
   "cell_type": "code",
   "execution_count": 4,
   "metadata": {},
   "outputs": [
    {
     "data": {
      "text/plain": [
       "{'Doc Cache File': '../cache/xdd.json',\n",
       " 'Number of Documents in Cache': 386,\n",
       " 'Document Number 322': {'processing_metadata': {'status': 'failure',\n",
       "   'date_processed': '2019-09-16T18:36:00.022261',\n",
       "   'api': 'https://geodeepdive.org/api/snippets?full_results&clean&term=Rhaphiomidas trochilus',\n",
       "   'status_message': 'No data returned.'},\n",
       "  'parameters': {'Search Term': 'Rhaphiomidas trochilus'}}}"
      ]
     },
     "metadata": {},
     "output_type": "display_data"
    }
   ],
   "source": [
    "# Cache the array of retrieved documents and return/display a random sample for verification\n",
    "display(bis_utils.doc_cache(\"../cache/xdd.json\", xdd_results))"
   ]
  },
  {
   "cell_type": "code",
   "execution_count": 5,
   "metadata": {},
   "outputs": [
    {
     "data": {
      "text/plain": [
       "{'definitions': {'items': {'$id': '#/items',\n",
       "   'type': ['object', 'array'],\n",
       "   'title': 'Generic container for items in a dataset',\n",
       "   'description': 'A JSON array or object property containing one or more items in a dataset or data structure within a dataset.'}},\n",
       " '$schema': 'http://json-schema.org/draft-07/schema#',\n",
       " '$id': 'http://data.usgs.gov/property_registry/',\n",
       " 'type': 'array',\n",
       " 'title': 'xDD Documents',\n",
       " 'description': 'A dataset that contains results of a directed search against the xDD (formerly GeoDeepDive) digital library (geodeepdive.org) for a given search term.',\n",
       " 'items': {'$ref': '#/definitions/items',\n",
       "  'required': ['processing_metadata'],\n",
       "  'properties': {'processing_metadata': {'$ref': 'common_properties.json#/definitions/processing_metadata'},\n",
       "   'parameters': {'$ref': 'common_properties.json#/definitions/parameters',\n",
       "    'properties': {'Search Term': {'$id': '#/items/properties/parameters/properties/Search Term',\n",
       "      'type': 'string',\n",
       "      'title': 'Search Term',\n",
       "      'description': 'The search term used to retrieve relevant documents from the xDD snippets API.',\n",
       "      'examples': ['Rhyacotriton cascadae']}}},\n",
       "   'data': {'$ref': 'common_properties.json#/definitions/data',\n",
       "    'items': {'$ref': '#/definitions/items',\n",
       "     'required': ['pubname',\n",
       "      'publisher',\n",
       "      '_gddid',\n",
       "      'title',\n",
       "      'doi',\n",
       "      'coverDate',\n",
       "      'URL',\n",
       "      'authors',\n",
       "      'highlight'],\n",
       "     'properties': {'document_title': {'$ref': 'common_properties.json#/definitions/document_title'},\n",
       "      'doi': {'$ref': 'common_properties.json#/definitions/doi'},\n",
       "      'document_link': {'$ref': 'common_properties.json#/definitions/document_link'},\n",
       "      'pubname': {'$id': '#/items/properties/xdd_documents/items/properties/pubname',\n",
       "       'type': 'string',\n",
       "       'title': 'Publication Name',\n",
       "       'description': 'The name of the journal or other publication where the result originates.',\n",
       "       'examples': ['Canadian Journal of Forest Research']},\n",
       "      'publisher': {'$id': '#/items/properties/xdd_documents/items/properties/publisher',\n",
       "       'type': 'string',\n",
       "       'title': 'Publisher',\n",
       "       'description': 'The name of the publisher of the journal or other source where the result originates.',\n",
       "       'examples': ['Canadian Science Publishing']},\n",
       "      '_gddid': {'$id': '#/items/properties/xdd_documents/items/properties/_gddid',\n",
       "       'type': 'string',\n",
       "       'title': '_gddid',\n",
       "       'description': 'An internal unique, persistent identifier for the processed document in the xDD system.',\n",
       "       'examples': ['579c2d75cf58f18c08b4f6b4']},\n",
       "      'coverDate': {'$id': '#/items/properties/xdd_documents/items/properties/coverDate',\n",
       "       'type': 'string',\n",
       "       'title': 'Cover Date',\n",
       "       'description': 'A date associated with the article, journal, report, or other document.',\n",
       "       'examples': ['December 2004']},\n",
       "      'authors': {'$id': '#/items/properties/xdd_documents/items/properties/authors',\n",
       "       'type': 'string',\n",
       "       'title': 'Authors',\n",
       "       'description': 'A delimited string of the article authors.',\n",
       "       'examples': ['Wahbe, Tanya R; Bunnell, Fred L; Bury, R Bruce']},\n",
       "      'highlight': {'$id': '#/items/properties/xdd_documents/items/properties/highlight',\n",
       "       'type': 'array',\n",
       "       'title': 'Highlights',\n",
       "       'description': 'The snippets of sentences from the processed and indexed text of the article containing the search term.',\n",
       "       'items': {'$ref': '#/definitions/items',\n",
       "        'examples': ['Canada   2466  Can. J. For. Res. Vol. 34, 2004  amander (Rhyacotriton cascadae) in the',\n",
       "         '34, 2004  amander (Rhyacotriton cascadae) in the Columbia River Gorge, Oregon. J.']}}}}}}}}"
      ]
     },
     "metadata": {},
     "output_type": "display_data"
    }
   ],
   "source": [
    "xdd_schema = helperfunctions.load_schema('xdd')\n",
    "display(xdd_schema)\n",
    "\n",
    "jsonschema.validate(xdd_results,xdd_schema)"
   ]
  },
  {
   "cell_type": "code",
   "execution_count": null,
   "metadata": {},
   "outputs": [],
   "source": []
  }
 ],
 "metadata": {
  "kernelspec": {
   "display_name": "Python 3",
   "language": "python",
   "name": "python3"
  },
  "language_info": {
   "codemirror_mode": {
    "name": "ipython",
    "version": 3
   },
   "file_extension": ".py",
   "mimetype": "text/x-python",
   "name": "python",
   "nbconvert_exporter": "python",
   "pygments_lexer": "ipython3",
   "version": "3.7.3"
  }
 },
 "nbformat": 4,
 "nbformat_minor": 2
}
