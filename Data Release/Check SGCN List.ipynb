{
 "cells": [
  {
   "cell_type": "markdown",
   "metadata": {},
   "source": [
    "One interesting thing to know about the work plan species is their connection to State Species of Greatest Conservation Need. The USGS builds and maintains a synthesis of state species, linking species names to taxonomic authorities (ITIS and WoRMS) to produce a synthesized National list for each decadal reporting period (with some periodic updates during the intervening years). This notebook leverages an sgcn module in the bispy package to search the National List SGCN API. It returns and caches the summarized National List records, which include the list of states that have the species in their conservation planning process."
   ]
  },
  {
   "cell_type": "code",
   "execution_count": 1,
   "metadata": {},
   "outputs": [],
   "source": [
    "import requests\n",
    "import bispy\n",
    "from IPython.display import display\n",
    "from joblib import Parallel, delayed\n",
    "from collections import Counter\n",
    "\n",
    "sgcn = bispy.sgcn.Search()\n",
    "bis_utils = bispy.bis.Utils()\n",
    "\n",
    "import helperfunctions"
   ]
  },
  {
   "cell_type": "code",
   "execution_count": 2,
   "metadata": {},
   "outputs": [],
   "source": [
    "name_list = helperfunctions.workplan_species()"
   ]
  },
  {
   "cell_type": "code",
   "execution_count": 3,
   "metadata": {},
   "outputs": [],
   "source": [
    "# Use joblib to run multiple requests for SGCN records in parallel via scientific names\n",
    "sgcn_results = Parallel(n_jobs=8)(delayed(sgcn.search)(name, name_source) for name, name_source in name_list)\n"
   ]
  },
  {
   "cell_type": "code",
   "execution_count": 4,
   "metadata": {},
   "outputs": [],
   "source": [
    "sgcn_results_filtered = [r for r in sgcn_results if r[\"Processing Metadata\"][\"Status\"] == \"success\"]"
   ]
  },
  {
   "cell_type": "code",
   "execution_count": 5,
   "metadata": {},
   "outputs": [
    {
     "data": {
      "text/plain": [
       "{'Doc Cache File': 'cache/sgcn.json',\n",
       " 'Document Number 112': {'Processing Metadata': {'Date Processed': '2019-07-10T14:31:07.192421',\n",
       "   'Name Source': 'Lookup Name',\n",
       "   'Scientific Name': 'Procambarus barbiger',\n",
       "   'Search URL': 'https://sciencebase.usgs.gov/staging/bis/api/v1/swap/nationallist?scientificname=Procambarus barbiger',\n",
       "   'Status': 'success',\n",
       "   'Summary Result': 'Name Match'},\n",
       "  'SGCN Species': {'acceptedauthorityurl': 'https://www.itis.gov/servlet/SingleRpt/SingleRpt?search_topic=TSN&search_value=97578',\n",
       "   'commonname': 'Jackson prairie crayfish',\n",
       "   'gid': 4308,\n",
       "   'matchmethod': 'Exact Match',\n",
       "   'scientificname': 'Procambarus barbiger',\n",
       "   'sgcn2005': 1,\n",
       "   'sgcn2015': 1,\n",
       "   'statelist_2005': 'Mississippi',\n",
       "   'statelist_2015': 'Mississippi',\n",
       "   'taxonomicgroup': 'Crustaceans',\n",
       "   'taxonomicrank': 'Species'}},\n",
       " 'Number of Documents in Cache': 308}"
      ]
     },
     "metadata": {},
     "output_type": "display_data"
    }
   ],
   "source": [
    "# Cache the array of retrieved documents and return/display a random sample for verification\n",
    "display(bis_utils.doc_cache(\"cache/sgcn.json\", sgcn_results_filtered))"
   ]
  },
  {
   "cell_type": "markdown",
   "metadata": {},
   "source": [
    "# Interesting Facet\n",
    "As a point of reference, we were able to find a number of additional matches to the SGCN species based on having established a linkage to a valid ITIS record. The following code block provides a quick reference on the number of SGCN matches found (high number linked to state species of conservation need as we would expect) and the number found by having the ITIS information included in the name lookup."
   ]
  },
  {
   "cell_type": "code",
   "execution_count": 6,
   "metadata": {},
   "outputs": [
    {
     "data": {
      "text/plain": [
       "Counter({'Lookup Name': 293, 'Valid ITIS Scientific Name': 15})"
      ]
     },
     "execution_count": 6,
     "metadata": {},
     "output_type": "execute_result"
    }
   ],
   "source": [
    "Counter(spp[\"Processing Metadata\"][\"Name Source\"] for spp in sgcn_results_filtered)"
   ]
  },
  {
   "cell_type": "code",
   "execution_count": null,
   "metadata": {},
   "outputs": [],
   "source": []
  }
 ],
 "metadata": {
  "kernelspec": {
   "display_name": "Python 3",
   "language": "python",
   "name": "python3"
  },
  "language_info": {
   "codemirror_mode": {
    "name": "ipython",
    "version": 3
   },
   "file_extension": ".py",
   "mimetype": "text/x-python",
   "name": "python",
   "nbconvert_exporter": "python",
   "pygments_lexer": "ipython3",
   "version": "3.6.4"
  }
 },
 "nbformat": 4,
 "nbformat_minor": 2
}
