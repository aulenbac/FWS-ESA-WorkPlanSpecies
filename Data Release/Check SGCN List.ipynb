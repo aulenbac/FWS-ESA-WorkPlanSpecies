{
 "cells": [
  {
   "cell_type": "markdown",
   "metadata": {},
   "source": [
    "One interesting thing to know about the work plan species is their connection to State Species of Greatest Conservation Need. The USGS builds and maintains a synthesis of state species, linking species names to taxonomic authorities (ITIS and WoRMS) to produce a synthesized National list for each decadal reporting period (with some periodic updates during the intervening years). This notebook leverages an sgcn module in the bispy package to search the National List SGCN API. It returns and caches the summarized National List records, which include the list of states that have the species in their conservation planning process."
   ]
  },
  {
   "cell_type": "code",
   "execution_count": 1,
   "metadata": {},
   "outputs": [],
   "source": [
    "import requests\n",
    "import json\n",
    "import bispy\n",
    "from IPython.display import display\n",
    "from joblib import Parallel, delayed\n",
    "import random\n",
    "\n",
    "sgcn = bispy.sgcn.Search()"
   ]
  },
  {
   "cell_type": "code",
   "execution_count": 2,
   "metadata": {},
   "outputs": [],
   "source": [
    "# Open up the cached workplan species\n",
    "with open(\"cache/workplan_species.json\", \"r\") as f:\n",
    "    workplan_species = json.loads(f.read())"
   ]
  },
  {
   "cell_type": "code",
   "execution_count": 5,
   "metadata": {},
   "outputs": [],
   "source": [
    "# Use joblib to run multiple requests for SGCN records in parallel via scientific names\n",
    "sgcn_cache = Parallel(n_jobs=8)(delayed(sgcn.search)(name) for name in [r[\"Scientific Name\"] for r in workplan_species])"
   ]
  },
  {
   "cell_type": "code",
   "execution_count": 8,
   "metadata": {},
   "outputs": [],
   "source": [
    "# Dump just the records we found to a cache file\n",
    "with open(\"cache/sgcn.json\", \"w\") as f:\n",
    "    f.write(json.dumps([s for s in sgcn_cache if s[\"search_results\"] > 0], indent=4))"
   ]
  },
  {
   "cell_type": "code",
   "execution_count": 10,
   "metadata": {},
   "outputs": [
    {
     "name": "stdout",
     "output_type": "stream",
     "text": [
      "291\n"
     ]
    },
    {
     "data": {
      "text/plain": [
       "{'results': [{'acceptedauthorityurl': 'https://www.itis.gov/servlet/SingleRpt/SingleRpt?search_topic=TSN&search_value=30294',\n",
       "   'commonname': 'prostrate milkweed',\n",
       "   'gid': 9011,\n",
       "   'matchmethod': 'Exact Match',\n",
       "   'scientificname': 'Asclepias prostrata',\n",
       "   'sgcn2005': 0,\n",
       "   'sgcn2015': 1,\n",
       "   'statelist_2005': '',\n",
       "   'statelist_2015': 'Texas',\n",
       "   'taxonomicgroup': 'Plants',\n",
       "   'taxonomicrank': 'Species'}],\n",
       " 'search_api': 'https://sciencebase.usgs.gov/staging/bis/api/v1/swap/nationallist?scientificname=Asclepias prostrata',\n",
       " 'search_date': '2019-07-01T20:02:07.695863',\n",
       " 'search_results': 1}"
      ]
     },
     "metadata": {},
     "output_type": "display_data"
    }
   ],
   "source": [
    "# Open the file back up and verify\n",
    "with open(\"cache/sgcn.json\", \"r\") as f:\n",
    "    sgcn_cache = json.loads(f.read())\n",
    "\n",
    "print(len(sgcn_cache))\n",
    "display(sgcn_cache[random.randint(0,len(sgcn_cache)-1)])"
   ]
  },
  {
   "cell_type": "code",
   "execution_count": null,
   "metadata": {},
   "outputs": [],
   "source": []
  }
 ],
 "metadata": {
  "kernelspec": {
   "display_name": "Python 3",
   "language": "python",
   "name": "python3"
  },
  "language_info": {
   "codemirror_mode": {
    "name": "ipython",
    "version": 3
   },
   "file_extension": ".py",
   "mimetype": "text/x-python",
   "name": "python",
   "nbconvert_exporter": "python",
   "pygments_lexer": "ipython3",
   "version": "3.6.4"
  }
 },
 "nbformat": 4,
 "nbformat_minor": 2
}
