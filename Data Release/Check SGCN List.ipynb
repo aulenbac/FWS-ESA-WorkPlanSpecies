{
 "cells": [
  {
   "cell_type": "markdown",
   "metadata": {},
   "source": [
    "One interesting thing to know about the work plan species is their connection to State Species of Greatest Conservation Need. The USGS builds and maintains a synthesis of state species, linking species names to taxonomic authorities (ITIS and WoRMS) to produce a synthesized National list for each decadal reporting period (with some periodic updates during the intervening years). This notebook leverages an sgcn module in the bispy package to search the National List SGCN API. It returns and caches the summarized National List records, which include the list of states that have the species in their conservation planning process."
   ]
  },
  {
   "cell_type": "code",
   "execution_count": 1,
   "metadata": {},
   "outputs": [],
   "source": [
    "import requests\n",
    "import json\n",
    "import bispy\n",
    "from IPython.display import display\n",
    "from joblib import Parallel, delayed\n",
    "\n",
    "sgcn = bispy.sgcn.Search()\n",
    "bis_utils = bispy.bis.Utils()"
   ]
  },
  {
   "cell_type": "code",
   "execution_count": 2,
   "metadata": {},
   "outputs": [],
   "source": [
    "# Open up the cached workplan species\n",
    "with open(\"cache/workplan_species.json\", \"r\") as f:\n",
    "    workplan_species = json.loads(f.read())"
   ]
  },
  {
   "cell_type": "code",
   "execution_count": 3,
   "metadata": {},
   "outputs": [],
   "source": [
    "# Prepare a list of names to use for lookup that includes the name and its source in the prepared workplan species data\n",
    "lookup_name_list = [{\"name source\": \"Lookup Name\", \"name\": r[\"Lookup Name\"]} for r in workplan_species]\n",
    "lookup_name_list.extend([{\"name source\": \"Valid ITIS Scientific Name\", \"name\": r[\"Valid ITIS Scientific Name\"]} for r in workplan_species if \"Valid ITIS Scientific Name\" in r.keys()])"
   ]
  },
  {
   "cell_type": "code",
   "execution_count": 4,
   "metadata": {},
   "outputs": [],
   "source": [
    "# Use joblib to run multiple requests for SGCN records in parallel via scientific names\n",
    "sgcn_cache = Parallel(n_jobs=8)(delayed(sgcn.search)(name) for name in [r[\"name\"] for r in lookup_name_list])"
   ]
  },
  {
   "cell_type": "code",
   "execution_count": 5,
   "metadata": {},
   "outputs": [],
   "source": [
    "# Filter to just those cases where we found an SGCN species and inject a variable for where the name match came from\n",
    "sgcn_cache_filtered = list()\n",
    "for record in [s for s in sgcn_cache if s[\"sgcn_species\"] is not None]:\n",
    "    record[\"Workplan Species Name Source\"] = next((r[\"name source\"] for r in lookup_name_list if r[\"name\"] == record[\"search_api\"].split(\"=\")[-1]), None)\n",
    "    sgcn_cache_filtered.append(record)"
   ]
  },
  {
   "cell_type": "code",
   "execution_count": 6,
   "metadata": {},
   "outputs": [
    {
     "data": {
      "text/plain": [
       "{'Doc Cache File': 'cache/sgcn.json',\n",
       " 'Document Number 161': {'Workplan Species Name Source': 'Lookup Name',\n",
       "  'search_api': 'https://sciencebase.usgs.gov/staging/bis/api/v1/swap/nationallist?scientificname=Eumeces egregius insularis',\n",
       "  'search_date': '2019-07-07T15:13:06.913082',\n",
       "  'sgcn_species': {'acceptedauthorityurl': 'https://www.itis.gov/servlet/SingleRpt/SingleRpt?search_topic=TSN&search_value=208886',\n",
       "   'commonname': 'Cedar Key Mole Skink',\n",
       "   'gid': 9580,\n",
       "   'matchmethod': 'Exact Match',\n",
       "   'scientificname': 'Eumeces egregius insularis',\n",
       "   'sgcn2005': 1,\n",
       "   'sgcn2015': 0,\n",
       "   'statelist_2005': 'Florida',\n",
       "   'statelist_2015': '',\n",
       "   'taxonomicgroup': 'Reptiles',\n",
       "   'taxonomicrank': 'Subspecies'}},\n",
       " 'Number of Documents in Cache': 308}"
      ]
     },
     "metadata": {},
     "output_type": "display_data"
    }
   ],
   "source": [
    "# Cache the array of retrieved documents and return/display a random sample for verification\n",
    "display(bis_utils.doc_cache(\"cache/sgcn.json\", sgcn_cache_filtered))"
   ]
  },
  {
   "cell_type": "markdown",
   "metadata": {},
   "source": [
    "# Note\n",
    "As a point of reference, we were able to find a number of additional matches to the SGCN species based on having established a linkage to a valid ITIS record. The following code block provides a quick reference on the number of SGCN matches found (high number linked to state species of conservation need as we would expect) and the number found by having the ITIS information included in the name lookup."
   ]
  },
  {
   "cell_type": "code",
   "execution_count": 8,
   "metadata": {},
   "outputs": [
    {
     "name": "stdout",
     "output_type": "stream",
     "text": [
      "Number of SGCN Species Matches: 308\n",
      "Number found with ITIS valid name: 15\n"
     ]
    }
   ],
   "source": [
    "print(\"Number of SGCN Species Matches:\", len(sgcn_cache_filtered))\n",
    "print(\"Number found with ITIS valid name:\", len([r for r in sgcn_cache_filtered if r[\"Workplan Species Name Source\"] != \"Lookup Name\"]))"
   ]
  },
  {
   "cell_type": "code",
   "execution_count": null,
   "metadata": {},
   "outputs": [],
   "source": []
  }
 ],
 "metadata": {
  "kernelspec": {
   "display_name": "Python 3",
   "language": "python",
   "name": "python3"
  },
  "language_info": {
   "codemirror_mode": {
    "name": "ipython",
    "version": 3
   },
   "file_extension": ".py",
   "mimetype": "text/x-python",
   "name": "python",
   "nbconvert_exporter": "python",
   "pygments_lexer": "ipython3",
   "version": "3.6.4"
  }
 },
 "nbformat": 4,
 "nbformat_minor": 2
}
