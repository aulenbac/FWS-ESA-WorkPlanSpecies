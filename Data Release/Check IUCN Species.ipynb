{
 "cells": [
  {
   "cell_type": "markdown",
   "metadata": {},
   "source": [
    "Another source of potential information on species comes from the IUCN Red List. This notebook makes use of the iucn module and a species Red List search in the bispy package that requires an API key to operate against the IUCN API. It caches discovered information on these species for convenience in use.\n",
    "\n",
    "# Data Management Considerations\n",
    "The [IUCN Red List Terms and Conditions](https://www.iucnredlist.org/terms/terms-of-use) are fairly restrictive with regard to reposting, derivative works, and attribution. The API key that must be supplied by the user running our code for access to the IUCN Red List API is obtained by agreeing to adhere to the terms of use. We are currently exploring, with the IUCN team, the best ways that we can leverage these data, comply with the terms of use, and provide value back to the whole community. "
   ]
  },
  {
   "cell_type": "code",
   "execution_count": 2,
   "metadata": {},
   "outputs": [],
   "source": [
    "import requests\n",
    "import bispy\n",
    "from IPython.display import display\n",
    "from joblib import Parallel, delayed\n",
    "from collections import Counter\n",
    "\n",
    "iucn = bispy.iucn.Iucn()\n",
    "bis_utils = bispy.bis.Utils()\n",
    "\n",
    "import helperfunctions"
   ]
  },
  {
   "cell_type": "code",
   "execution_count": 3,
   "metadata": {},
   "outputs": [],
   "source": [
    "name_list = helperfunctions.workplan_species()"
   ]
  },
  {
   "cell_type": "code",
   "execution_count": 4,
   "metadata": {
    "scrolled": true
   },
   "outputs": [],
   "source": [
    "# Use joblib to run multiple requests for SGCN records in parallel via scientific names\n",
    "iucn_results = Parallel(n_jobs=8)(delayed(iucn.search_species)(name, name_source) for name, name_source in name_list)\n"
   ]
  },
  {
   "cell_type": "code",
   "execution_count": 5,
   "metadata": {},
   "outputs": [],
   "source": [
    "iucn_results_filtered = [r for r in iucn_results if r[\"Processing Metadata\"][\"Status\"] not in [\"failure\",\"Error\"]]"
   ]
  },
  {
   "cell_type": "code",
   "execution_count": 6,
   "metadata": {},
   "outputs": [
    {
     "data": {
      "text/plain": [
       "{'Doc Cache File': 'cache/iucn.json',\n",
       " 'Document Number 184': {'IUCN Species Summary': {'Assessment Date': '2014-03-07',\n",
       "   'Citation': 'Cordeiro, J. & Bogan, A.E. 2014. Fusconaia mitchelli. The IUCN Red List of Threatened Species 2014: e.T19056A1954826. http://dx.doi.org/10.2305/IUCN.UK.2014-3.RLTS.T19056A1954826.en .Downloaded on 10 July 2019',\n",
       "   'Population Trend': 'Decreasing',\n",
       "   'Report Link': 'http://dx.doi.org/10.2305/IUCN.UK.2014-3.RLTS.T19056A1954826.en',\n",
       "   'Status': 'Critically Endangered',\n",
       "   'Status Code': 'CR',\n",
       "   'Taxon ID': 19056},\n",
       "  'Processing Metadata': {'Date Processed': '2019-07-10T14:18:14.955401',\n",
       "   'Name Source': 'Valid ITIS Scientific Name',\n",
       "   'Scientific Name': 'Fusconaia mitchelli',\n",
       "   'Search URL': 'http://apiv3.iucnredlist.org/api/v3/species/Fusconaia mitchelli',\n",
       "   'Status': 'success',\n",
       "   'Summary Result': 'Species Name Matched'}},\n",
       " 'Number of Documents in Cache': 190}"
      ]
     },
     "metadata": {},
     "output_type": "display_data"
    }
   ],
   "source": [
    "# Cache the array of retrieved documents and return/display a random sample for verification\n",
    "display(bis_utils.doc_cache(\"cache/iucn.json\", iucn_results_filtered))"
   ]
  },
  {
   "cell_type": "markdown",
   "metadata": {},
   "source": [
    "# Interesting Facet\n",
    "Perhaps the most interesting current use of the IUCN data is in the area of examining the IUCN Red List categories. The following code block reports on the number of work plan species not found in the IUCN system as a whole along with a listing of the numbers of species in each IUCN Red List category."
   ]
  },
  {
   "cell_type": "code",
   "execution_count": 7,
   "metadata": {},
   "outputs": [
    {
     "name": "stdout",
     "output_type": "stream",
     "text": [
      "Not found in IUCN Red List: 0\n"
     ]
    },
    {
     "data": {
      "text/plain": [
       "Counter({'Critically Endangered': 8,\n",
       "         'Data Deficient': 27,\n",
       "         'Endangered': 32,\n",
       "         'Least Concern': 17,\n",
       "         'Near Threatened': 38,\n",
       "         'Near Threatened (in review)': 10,\n",
       "         'Vulnerable': 58})"
      ]
     },
     "execution_count": 7,
     "metadata": {},
     "output_type": "execute_result"
    }
   ],
   "source": [
    "print(\"Not found in IUCN Red List:\", len([r for r in iucn_results if r[\"Processing Metadata\"][\"Status\"] == \"Failure\"]))\n",
    "\n",
    "Counter(spp[\"IUCN Species Summary\"][\"Status\"] for spp in iucn_results_filtered)"
   ]
  },
  {
   "cell_type": "code",
   "execution_count": 9,
   "metadata": {},
   "outputs": [
    {
     "data": {
      "text/plain": [
       "Counter({'Lookup Name': 183, 'Valid ITIS Scientific Name': 7})"
      ]
     },
     "execution_count": 9,
     "metadata": {},
     "output_type": "execute_result"
    }
   ],
   "source": [
    "Counter(spp[\"Processing Metadata\"][\"Name Source\"] for spp in iucn_results_filtered)"
   ]
  },
  {
   "cell_type": "code",
   "execution_count": null,
   "metadata": {},
   "outputs": [],
   "source": []
  }
 ],
 "metadata": {
  "kernelspec": {
   "display_name": "Python 3",
   "language": "python",
   "name": "python3"
  },
  "language_info": {
   "codemirror_mode": {
    "name": "ipython",
    "version": 3
   },
   "file_extension": ".py",
   "mimetype": "text/x-python",
   "name": "python",
   "nbconvert_exporter": "python",
   "pygments_lexer": "ipython3",
   "version": "3.7.3"
  }
 },
 "nbformat": 4,
 "nbformat_minor": 2
}
