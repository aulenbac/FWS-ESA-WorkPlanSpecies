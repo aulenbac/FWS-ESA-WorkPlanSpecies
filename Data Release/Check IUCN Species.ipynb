{
 "cells": [
  {
   "cell_type": "markdown",
   "metadata": {},
   "source": [
    "Another source of potential information on species comes from the IUCN Red List. This notebook makes use of the iucn module and a species Red List search in the bispy package that requires an API key to operate against the IUCN API. It caches discovered information on these species for convenience in use.\n",
    "# Data Management Implications\n",
    "The [IUCN Red List Terms and Conditions](https://www.iucnredlist.org/terms/terms-of-use) are fairly restrictive with regard to reposting, derivative works, and attribution. The API key that must be supplied by the user running our code for access to the IUCN Red List API is obtained by agreeing to adhere to the terms of use. "
   ]
  },
  {
   "cell_type": "code",
   "execution_count": 2,
   "metadata": {},
   "outputs": [],
   "source": [
    "import requests\n",
    "import json\n",
    "import bispy\n",
    "from IPython.display import display\n",
    "from joblib import Parallel, delayed\n",
    "import random\n",
    "\n",
    "iucn = bispy.iucn.Iucn()"
   ]
  },
  {
   "cell_type": "code",
   "execution_count": 3,
   "metadata": {},
   "outputs": [],
   "source": [
    "# Open up the cached workplan species\n",
    "with open(\"cache/workplan_species.json\", \"r\") as f:\n",
    "    workplan_species = json.loads(f.read())"
   ]
  },
  {
   "cell_type": "code",
   "execution_count": 4,
   "metadata": {},
   "outputs": [],
   "source": [
    "# Use joblib to run multiple requests for SGCN records in parallel via scientific names\n",
    "iucn_results = Parallel(n_jobs=8)(delayed(iucn.search_species)(name) for name in [r[\"Scientific Name\"] for r in workplan_species])\n"
   ]
  },
  {
   "cell_type": "code",
   "execution_count": 14,
   "metadata": {},
   "outputs": [],
   "source": [
    "# Dump the IUCN records we discovered and packaged to a cache file\n",
    "# I need to revisit this once I get some things cleared up with taxonomic matching to hopefully find more GAP records\n",
    "with open(\"cache/iucn.json\", \"w\") as f:\n",
    "    f.write(json.dumps([i for i in iucn_results if \"IUCN Species\" in i.keys() and \"result\" in i[\"IUCN Species\"].keys()], indent=4))"
   ]
  },
  {
   "cell_type": "code",
   "execution_count": 17,
   "metadata": {
    "scrolled": true
   },
   "outputs": [
    {
     "name": "stdout",
     "output_type": "stream",
     "text": [
      "357\n"
     ]
    },
    {
     "data": {
      "text/plain": [
       "{'IUCN Species': {'name': 'Tantilla oolitica',\n",
       "  'result': [{'amended_flag': None,\n",
       "    'amended_reason': None,\n",
       "    'aoo_km2': None,\n",
       "    'assessment_date': '2007-03-01',\n",
       "    'assessor': 'Hammerson, G.A.',\n",
       "    'authority': 'Telford, 1966',\n",
       "    'category': 'EN',\n",
       "    'class': 'REPTILIA',\n",
       "    'criteria': 'B1ab(ii,iii,iv,v)',\n",
       "    'depth_lower': None,\n",
       "    'depth_upper': None,\n",
       "    'elevation_lower': None,\n",
       "    'elevation_upper': None,\n",
       "    'eoo_km2': None,\n",
       "    'errata_flag': None,\n",
       "    'errata_reason': None,\n",
       "    'family': 'COLUBRIDAE',\n",
       "    'freshwater_system': False,\n",
       "    'genus': 'Tantilla',\n",
       "    'kingdom': 'ANIMALIA',\n",
       "    'main_common_name': 'Rim Rock Crowned Snake',\n",
       "    'marine_system': False,\n",
       "    'order': 'SQUAMATA',\n",
       "    'phylum': 'CHORDATA',\n",
       "    'population_trend': 'Decreasing',\n",
       "    'published_year': 2007,\n",
       "    'reviewer': 'Cox, N., Chanson, J.S. & Stuart, S.N. (Global Reptile Assessment Coordinating Team)',\n",
       "    'scientific_name': 'Tantilla oolitica',\n",
       "    'taxonid': 63954,\n",
       "    'terrestrial_system': True}]},\n",
       " 'Processing Metadata': {'Date Processed': '2019-07-01T21:20:10.833669',\n",
       "  'Search URL': 'http://apiv3.iucnredlist.org/api/v3/species/Tantilla oolitica',\n",
       "  'Status': 'Success',\n",
       "  'Summary Result': 'Species Name Matched'}}"
      ]
     },
     "metadata": {},
     "output_type": "display_data"
    }
   ],
   "source": [
    "# Open the file back up and verify\n",
    "with open(\"cache/iucn.json\", \"r\") as f:\n",
    "    iucn_cache = json.loads(f.read())\n",
    "\n",
    "print(len(iucn_cache))\n",
    "display(iucn_cache[random.randint(0,len(iucn_cache)-1)])"
   ]
  },
  {
   "cell_type": "code",
   "execution_count": null,
   "metadata": {},
   "outputs": [],
   "source": []
  },
  {
   "cell_type": "code",
   "execution_count": null,
   "metadata": {},
   "outputs": [],
   "source": []
  }
 ],
 "metadata": {
  "kernelspec": {
   "display_name": "Python 3",
   "language": "python",
   "name": "python3"
  },
  "language_info": {
   "codemirror_mode": {
    "name": "ipython",
    "version": 3
   },
   "file_extension": ".py",
   "mimetype": "text/x-python",
   "name": "python",
   "nbconvert_exporter": "python",
   "pygments_lexer": "ipython3",
   "version": "3.6.4"
  }
 },
 "nbformat": 4,
 "nbformat_minor": 2
}
