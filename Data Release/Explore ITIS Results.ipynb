{
 "cells": [
  {
   "cell_type": "markdown",
   "metadata": {},
   "source": [
    "Before we move on to other data retrieval activities, it is useful to explore what we found in consulting ITIS with either declared TSN identifiers or scientific name searches to see if there is any further work that can be done to improve our ability and accuracy in getting other data sources pulled together. This notebook examines the cached ITIS results and makes some decisions about what to do next."
   ]
  },
  {
   "cell_type": "code",
   "execution_count": 1,
   "metadata": {},
   "outputs": [],
   "source": [
    "import json\n",
    "import bispy\n",
    "\n",
    "bis_utils = bispy.bis.Utils()"
   ]
  },
  {
   "cell_type": "code",
   "execution_count": 2,
   "metadata": {},
   "outputs": [],
   "source": [
    "with open(\"cache/workplan_species.json\", \"r\") as f:\n",
    "    workplan_species = json.loads(f.read())\n",
    "\n",
    "with open(\"cache/itis.json\", \"r\") as f:\n",
    "    itis_cache = json.loads(f.read())"
   ]
  },
  {
   "cell_type": "markdown",
   "metadata": {},
   "source": [
    "All of the cases where we returned more than one ITIS record from the function mean that something interesting happened. We can check this pretty quickly by looking at the \"Processing Metadata\" that our function records. In all of the cases here, our code followed the accepted TSN declared at the point of discovery, whether based on what appears to have been an invalid TSN assignment from the FWS source information or a name lookup that was invalid but for which there is a valid record in ITIS.\n",
    "\n",
    "The following codeblock lets us examine what is going on in these cases. The Processing Metadata structure is what our function records about what it did. It includes the URLs to the ITIS API that resulted in some action. We record both the valid/accepted and invalid/unaccepted names from ITIS and reach back to the workplan_species to show that record."
   ]
  },
  {
   "cell_type": "code",
   "execution_count": 3,
   "metadata": {},
   "outputs": [
    {
     "name": "stdout",
     "output_type": "stream",
     "text": [
      "ITIS TSN used in lookup: 207135\n"
     ]
    },
    {
     "data": {
      "text/plain": [
       "{'Date Processed': '2019-07-03T21:50:19.063333',\n",
       " 'Detailed Results': [{'TSN Search': 'http://services.itis.gov/?wt=json&rows=10&q=tsn:773525'},\n",
       "  {'Exact Match': 'http://services.itis.gov/?wt=json&rows=10&q=tsn:207135'}],\n",
       " 'Status': 'Followed Accepted TSN',\n",
       " 'Summary Result': 'Followed Accepted TSN'}"
      ]
     },
     "metadata": {},
     "output_type": "display_data"
    },
    {
     "name": "stdout",
     "output_type": "stream",
     "text": [
      "ITIS TSN used in lookup: 80066\n"
     ]
    },
    {
     "data": {
      "text/plain": [
       "{'Date Processed': '2019-07-03T21:50:19.063333',\n",
       " 'Detailed Results': [{'TSN Search': 'http://services.itis.gov/?wt=json&rows=10&q=tsn:983630'},\n",
       "  {'Exact Match': 'http://services.itis.gov/?wt=json&rows=10&q=tsn:80066'}],\n",
       " 'Status': 'Followed Accepted TSN',\n",
       " 'Summary Result': 'Followed Accepted TSN'}"
      ]
     },
     "metadata": {},
     "output_type": "display_data"
    },
    {
     "name": "stdout",
     "output_type": "stream",
     "text": [
      "ITIS TSN used in lookup: 80079\n"
     ]
    },
    {
     "data": {
      "text/plain": [
       "{'Date Processed': '2019-07-03T21:50:19.063333',\n",
       " 'Detailed Results': [{'TSN Search': 'http://services.itis.gov/?wt=json&rows=10&q=tsn:983775'},\n",
       "  {'Exact Match': 'http://services.itis.gov/?wt=json&rows=10&q=tsn:80079'}],\n",
       " 'Status': 'Followed Accepted TSN',\n",
       " 'Summary Result': 'Followed Accepted TSN'}"
      ]
     },
     "metadata": {},
     "output_type": "display_data"
    },
    {
     "name": "stdout",
     "output_type": "stream",
     "text": [
      "ITIS TSN used in lookup: 173717\n"
     ]
    },
    {
     "data": {
      "text/plain": [
       "{'Date Processed': '2019-07-03T21:50:19.063333',\n",
       " 'Detailed Results': [{'TSN Search': 'http://services.itis.gov/?wt=json&rows=10&q=tsn:775913'},\n",
       "  {'Exact Match': 'http://services.itis.gov/?wt=json&rows=10&q=tsn:173717'}],\n",
       " 'Status': 'Followed Accepted TSN',\n",
       " 'Summary Result': 'Followed Accepted TSN'}"
      ]
     },
     "metadata": {},
     "output_type": "display_data"
    },
    {
     "name": "stdout",
     "output_type": "stream",
     "text": [
      "ITIS TSN used in lookup: 567231\n"
     ]
    },
    {
     "data": {
      "text/plain": [
       "{'Date Processed': '2019-07-03T21:50:19.063333',\n",
       " 'Detailed Results': [{'TSN Search': 'http://services.itis.gov/?wt=json&rows=10&q=tsn:983772'},\n",
       "  {'Exact Match': 'http://services.itis.gov/?wt=json&rows=10&q=tsn:567231'}],\n",
       " 'Status': 'Followed Accepted TSN',\n",
       " 'Summary Result': 'Followed Accepted TSN'}"
      ]
     },
     "metadata": {},
     "output_type": "display_data"
    },
    {
     "name": "stdout",
     "output_type": "stream",
     "text": [
      "ITIS TSN used in lookup: 894872\n"
     ]
    },
    {
     "data": {
      "text/plain": [
       "{'Date Processed': '2019-07-03T21:50:19.063333',\n",
       " 'Detailed Results': [{'TSN Search': 'http://services.itis.gov/?wt=json&rows=10&q=tsn:894898'},\n",
       "  {'Exact Match': 'http://services.itis.gov/?wt=json&rows=10&q=tsn:894872'}],\n",
       " 'Status': 'Followed Accepted TSN',\n",
       " 'Summary Result': 'Followed Accepted TSN'}"
      ]
     },
     "metadata": {},
     "output_type": "display_data"
    },
    {
     "name": "stdout",
     "output_type": "stream",
     "text": [
      "ITIS TSN used in lookup: 524343\n"
     ]
    },
    {
     "data": {
      "text/plain": [
       "{'Date Processed': '2019-07-03T21:50:19.063333',\n",
       " 'Detailed Results': [{'TSN Search': 'http://services.itis.gov/?wt=json&rows=10&q=tsn:517582'},\n",
       "  {'Exact Match': 'http://services.itis.gov/?wt=json&rows=10&q=tsn:524343'}],\n",
       " 'Status': 'Followed Accepted TSN',\n",
       " 'Summary Result': 'Followed Accepted TSN'}"
      ]
     },
     "metadata": {},
     "output_type": "display_data"
    },
    {
     "name": "stdout",
     "output_type": "stream",
     "text": [
      "ITIS TSN used in lookup: 547326\n"
     ]
    },
    {
     "data": {
      "text/plain": [
       "{'Date Processed': '2019-07-03T21:50:19.063333',\n",
       " 'Detailed Results': [{'TSN Search': 'http://services.itis.gov/?wt=json&rows=10&q=tsn:1063038'},\n",
       "  {'Exact Match': 'http://services.itis.gov/?wt=json&rows=10&q=tsn:547326'}],\n",
       " 'Status': 'Followed Accepted TSN',\n",
       " 'Summary Result': 'Followed Accepted TSN'}"
      ]
     },
     "metadata": {},
     "output_type": "display_data"
    },
    {
     "name": "stdout",
     "output_type": "stream",
     "text": [
      "ITIS TSN used in lookup: 183452\n"
     ]
    },
    {
     "data": {
      "text/plain": [
       "{'Date Processed': '2019-07-03T21:50:19.063333',\n",
       " 'Detailed Results': [{'TSN Search': 'http://services.itis.gov/?wt=json&rows=10&q=tsn:822596'},\n",
       "  {'Exact Match': 'http://services.itis.gov/?wt=json&rows=10&q=tsn:183452'}],\n",
       " 'Status': 'Followed Accepted TSN',\n",
       " 'Summary Result': 'Followed Accepted TSN'}"
      ]
     },
     "metadata": {},
     "output_type": "display_data"
    },
    {
     "name": "stdout",
     "output_type": "stream",
     "text": [
      "ITIS TSN used in lookup: 209559\n"
     ]
    },
    {
     "data": {
      "text/plain": [
       "{'Date Processed': '2019-07-03T21:50:19.063333',\n",
       " 'Detailed Results': [{'TSN Search': 'http://services.itis.gov/?wt=json&rows=10&q=tsn:683027'},\n",
       "  {'Exact Match': 'http://services.itis.gov/?wt=json&rows=10&q=tsn:209559'}],\n",
       " 'Status': 'Followed Accepted TSN',\n",
       " 'Summary Result': 'Followed Accepted TSN'}"
      ]
     },
     "metadata": {},
     "output_type": "display_data"
    },
    {
     "name": "stdout",
     "output_type": "stream",
     "text": [
      "Scientific name used in lookup: Quincuncina mitchelli\n"
     ]
    },
    {
     "data": {
      "text/plain": [
       "{'Date Processed': '2019-07-03T21:50:19.063333',\n",
       " 'Detailed Results': [{'TSN Search': 'http://services.itis.gov/?wt=json&rows=10&q=tsn:906951'},\n",
       "  {'Exact Match': 'http://services.itis.gov/?wt=json&rows=10&q=nameWOInd:Quincuncina\\\\%20mitchelli'}],\n",
       " 'Status': 'Followed Accepted TSN',\n",
       " 'Summary Result': 'Followed Accepted TSN'}"
      ]
     },
     "metadata": {},
     "output_type": "display_data"
    },
    {
     "name": "stdout",
     "output_type": "stream",
     "text": [
      "Scientific name used in lookup: Quadrula houstonensis\n"
     ]
    },
    {
     "data": {
      "text/plain": [
       "{'Date Processed': '2019-07-03T21:50:19.063333',\n",
       " 'Detailed Results': [{'TSN Search': 'http://services.itis.gov/?wt=json&rows=10&q=tsn:983629'},\n",
       "  {'Exact Match': 'http://services.itis.gov/?wt=json&rows=10&q=nameWOInd:Quadrula\\\\%20houstonensis'}],\n",
       " 'Status': 'Followed Accepted TSN',\n",
       " 'Summary Result': 'Followed Accepted TSN'}"
      ]
     },
     "metadata": {},
     "output_type": "display_data"
    },
    {
     "name": "stdout",
     "output_type": "stream",
     "text": [
      "Scientific name used in lookup: Macrhybopsis aestivalis tetranemus\n"
     ]
    },
    {
     "data": {
      "text/plain": [
       "{'Date Processed': '2019-07-03T21:50:19.063333',\n",
       " 'Detailed Results': [{'TSN Search': 'http://services.itis.gov/?wt=json&rows=10&q=tsn:553282'},\n",
       "  {'Exact Match': 'http://services.itis.gov/?wt=json&rows=10&q=nameWOInd:Macrhybopsis\\\\%20aestivalis\\\\%20tetranemus'}],\n",
       " 'Status': 'Followed Accepted TSN',\n",
       " 'Summary Result': 'Followed Accepted TSN'}"
      ]
     },
     "metadata": {},
     "output_type": "display_data"
    },
    {
     "name": "stdout",
     "output_type": "stream",
     "text": [
      "Scientific name used in lookup: Aster puniceus scabricaulis\n"
     ]
    },
    {
     "data": {
      "text/plain": [
       "{'Date Processed': '2019-07-03T21:50:19.063333',\n",
       " 'Detailed Results': [{'TSN Search': 'http://services.itis.gov/?wt=json&rows=10&q=tsn:541115'},\n",
       "  {'Exact Match': 'http://services.itis.gov/?wt=json&rows=10&q=nameWOInd:Aster\\\\%20puniceus\\\\%20scabricaulis'}],\n",
       " 'Status': 'Followed Accepted TSN',\n",
       " 'Summary Result': 'Followed Accepted TSN'}"
      ]
     },
     "metadata": {},
     "output_type": "display_data"
    },
    {
     "name": "stdout",
     "output_type": "stream",
     "text": [
      "Scientific name used in lookup: Aspidoscelis arizonae\n"
     ]
    },
    {
     "data": {
      "text/plain": [
       "{'Date Processed': '2019-07-03T21:50:19.063333',\n",
       " 'Detailed Results': [{'TSN Search': 'http://services.itis.gov/?wt=json&rows=10&q=tsn:208930'},\n",
       "  {'Exact Match': 'http://services.itis.gov/?wt=json&rows=10&q=nameWOInd:Aspidoscelis\\\\%20arizonae'}],\n",
       " 'Status': 'Followed Accepted TSN',\n",
       " 'Summary Result': 'Followed Accepted TSN'}"
      ]
     },
     "metadata": {},
     "output_type": "display_data"
    },
    {
     "name": "stdout",
     "output_type": "stream",
     "text": [
      "Scientific name used in lookup: Sistrurus catenatus edwardsii\n"
     ]
    },
    {
     "data": {
      "text/plain": [
       "{'Date Processed': '2019-07-03T21:50:19.063333',\n",
       " 'Detailed Results': [{'TSN Search': 'http://services.itis.gov/?wt=json&rows=10&q=tsn:1058793'},\n",
       "  {'Exact Match': 'http://services.itis.gov/?wt=json&rows=10&q=nameWOInd:Sistrurus\\\\%20catenatus\\\\%20edwardsii'}],\n",
       " 'Status': 'Followed Accepted TSN',\n",
       " 'Summary Result': 'Followed Accepted TSN'}"
      ]
     },
     "metadata": {},
     "output_type": "display_data"
    },
    {
     "name": "stdout",
     "output_type": "stream",
     "text": [
      "Scientific name used in lookup: Alces alces andersoni\n"
     ]
    },
    {
     "data": {
      "text/plain": [
       "{'Date Processed': '2019-07-03T21:50:19.063333',\n",
       " 'Detailed Results': [{'TSN Search': 'http://services.itis.gov/?wt=json&rows=10&q=tsn:898420'},\n",
       "  {'Exact Match': 'http://services.itis.gov/?wt=json&rows=10&q=nameWOInd:Alces\\\\%20alces\\\\%20andersoni'}],\n",
       " 'Status': 'Followed Accepted TSN',\n",
       " 'Summary Result': 'Followed Accepted TSN'}"
      ]
     },
     "metadata": {},
     "output_type": "display_data"
    },
    {
     "name": "stdout",
     "output_type": "stream",
     "text": [
      "Scientific name used in lookup: Oncidium undulatum\n"
     ]
    },
    {
     "data": {
      "text/plain": [
       "{'Date Processed': '2019-07-03T21:50:19.063333',\n",
       " 'Detailed Results': [{'TSN Search': 'http://services.itis.gov/?wt=json&rows=10&q=tsn:894691'},\n",
       "  {'Exact Match': 'http://services.itis.gov/?wt=json&rows=10&q=nameWOInd:Oncidium\\\\%20undulatum'}],\n",
       " 'Status': 'Followed Accepted TSN',\n",
       " 'Summary Result': 'Followed Accepted TSN'}"
      ]
     },
     "metadata": {},
     "output_type": "display_data"
    },
    {
     "name": "stdout",
     "output_type": "stream",
     "text": [
      "Scientific name used in lookup: Macroclemys temmincki\n"
     ]
    },
    {
     "data": {
      "text/plain": [
       "{'Date Processed': '2019-07-03T21:50:19.063333',\n",
       " 'Detailed Results': [{'Exact Match Fail': 'http://services.itis.gov/?wt=json&rows=10&q=nameWOInd:Macroclemys\\\\%20temmincki'},\n",
       "  {'TSN Search': 'http://services.itis.gov/?wt=json&rows=10&q=tsn:668671'},\n",
       "  {'Fuzzy Match': 'http://services.itis.gov/?wt=json&rows=10&q=nameWOInd:Macroclemys\\\\%20temmincki~0.8'}],\n",
       " 'Status': 'Followed Accepted TSN',\n",
       " 'Summary Result': 'Followed Accepted TSN'}"
      ]
     },
     "metadata": {},
     "output_type": "display_data"
    },
    {
     "name": "stdout",
     "output_type": "stream",
     "text": [
      "Scientific name used in lookup: Stilosoma extenuatum\n"
     ]
    },
    {
     "data": {
      "text/plain": [
       "{'Date Processed': '2019-07-03T21:50:19.063333',\n",
       " 'Detailed Results': [{'TSN Search': 'http://services.itis.gov/?wt=json&rows=10&q=tsn:1082386'},\n",
       "  {'Exact Match': 'http://services.itis.gov/?wt=json&rows=10&q=nameWOInd:Stilosoma\\\\%20extenuatum'}],\n",
       " 'Status': 'Followed Accepted TSN',\n",
       " 'Summary Result': 'Followed Accepted TSN'}"
      ]
     },
     "metadata": {},
     "output_type": "display_data"
    },
    {
     "name": "stdout",
     "output_type": "stream",
     "text": [
      "Scientific name used in lookup: Pseudanophthalmus potomaca potomaca\n"
     ]
    },
    {
     "data": {
      "text/plain": [
       "{'Date Processed': '2019-07-03T21:50:19.063333',\n",
       " 'Detailed Results': [{'TSN Search': 'http://services.itis.gov/?wt=json&rows=10&q=tsn:110131'},\n",
       "  {'Exact Match': 'http://services.itis.gov/?wt=json&rows=10&q=nameWOInd:Pseudanophthalmus\\\\%20potomaca\\\\%20potomaca'}],\n",
       " 'Status': 'Followed Accepted TSN',\n",
       " 'Summary Result': 'Followed Accepted TSN'}"
      ]
     },
     "metadata": {},
     "output_type": "display_data"
    },
    {
     "name": "stdout",
     "output_type": "stream",
     "text": [
      "Scientific name used in lookup: Martes pennanti\n"
     ]
    },
    {
     "data": {
      "text/plain": [
       "{'Date Processed': '2019-07-03T21:50:19.063333',\n",
       " 'Detailed Results': [{'TSN Search': 'http://services.itis.gov/?wt=json&rows=10&q=tsn:1086356'},\n",
       "  {'Exact Match': 'http://services.itis.gov/?wt=json&rows=10&q=nameWOInd:Martes\\\\%20pennanti'}],\n",
       " 'Status': 'Followed Accepted TSN',\n",
       " 'Summary Result': 'Followed Accepted TSN'}"
      ]
     },
     "metadata": {},
     "output_type": "display_data"
    }
   ],
   "source": [
    "for r in [i for i in itis_cache if \"itisData\" in i.keys() and len(i[\"itisData\"]) > 1]:\n",
    "    source_url = next((o for o in r[\"Processing Metadata\"][\"Detailed Results\"] if \"Exact Match\" in o.keys()), None)\n",
    "    if not source_url:\n",
    "        source_url = next((o for o in r[\"Processing Metadata\"][\"Detailed Results\"] if \"Exact Match Fail\" in o.keys()), None)\n",
    "    source_url = next((v for k, v in source_url.items()), None)\n",
    "    source_identifier = source_url.split(\":\")[-1].replace(\"\\%20\", \" \")\n",
    "    if source_identifier.isdigit():\n",
    "        print(\"ITIS TSN used in lookup:\", source_identifier)\n",
    "    else:\n",
    "        print(\"Scientific name used in lookup:\", source_identifier)\n",
    "    \n",
    "    display(r[\"Processing Metadata\"])\n"
   ]
  },
  {
   "cell_type": "markdown",
   "metadata": {},
   "source": [
    "There are essentially three things that seem to be going on here:\n",
    "\n",
    "1. There are cases where the FWS data declares a TSN for what ITIS considers to be invalid (animals)/unaccepted (plants) taxonomy. It could be that FWS biologists disagree with ITIS or simply a matter of FWS information being out of date. We don't have enough information as yet to make a judgment.\n",
    "2. There are cases where the FWS data uses a scientific name that ITIS considers to be invalid/unaccepted. This is kind of the same issue as no. 1, but it could be that FWS is out of date with whatever has happened in the ITIS taxonomy world.\n",
    "3. There is one case of a misspelling (Macroclemys temmincki should have been Macroclemys temminckii) where the search had to go to a fuzzy match to find the record. In this case, ITIS considers one of its records to be invalid and the other valid, though they are ultimately for the same name. \n",
    "\n",
    "Because there could be disagreement on the part of species biologists with the taxonomic authority, the conservative course of action here is to record the valid ITIS name and other information as an additional potential point of reference. If we run into cases where the FWS name does not find results in another system we are checking for data, we can try the ITIS valid/accepted name to see what we can turn up, flagging that result with some uncertainty factor or note to help determine its utility.\n",
    "\n",
    "The following code block establishes a connection back to the appropriate originating record in the workplan_species data and injects ITIS valid/accepted names into a new attribute, just for these cases where we may want to use that additional information."
   ]
  },
  {
   "cell_type": "code",
   "execution_count": 4,
   "metadata": {},
   "outputs": [],
   "source": [
    "updated_workplan_species = list()\n",
    "\n",
    "for r in [i for i in itis_cache if \"itisData\" in i.keys() and len(i[\"itisData\"]) > 1]:\n",
    "    source_url = next((o for o in r[\"Processing Metadata\"][\"Detailed Results\"] if \"Exact Match\" in o.keys()), None)\n",
    "    if not source_url:\n",
    "        source_url = next((o for o in r[\"Processing Metadata\"][\"Detailed Results\"] if \"Exact Match Fail\" in o.keys()), None)\n",
    "    source_url = next((v for k, v in source_url.items()), None)\n",
    "    source_identifier = source_url.split(\":\")[-1].replace(\"\\%20\", \" \")\n",
    "    if source_identifier.isdigit():\n",
    "        source_workplan_species = next((s for s in workplan_species if s[\"ITIS TSN\"] == source_identifier), None)\n",
    "    else:\n",
    "        source_workplan_species = next((s for s in workplan_species if s[\"Lookup Name\"] == source_identifier), None)\n",
    "    \n",
    "    source_workplan_species[\"Valid ITIS Scientific Name\"] = next((i[\"nameWOInd\"] for i in r[\"itisData\"] if i[\"usage\"] in [\"valid\",\"accepted\"]), None)\n",
    "    source_workplan_species[\"Valid ITIS TSN\"] = next((i[\"tsn\"] for i in r[\"itisData\"] if i[\"usage\"] in [\"valid\",\"accepted\"]), None)\n",
    "    updated_workplan_species.append(source_workplan_species)\n"
   ]
  },
  {
   "cell_type": "code",
   "execution_count": 5,
   "metadata": {},
   "outputs": [
    {
     "data": {
      "text/plain": [
       "{'Doc Cache File': 'cache/workplan_species.json',\n",
       " 'Document Number 283': {'Bin': 'LPN 8',\n",
       "  'ECOS Link': 'https://ecos.fws.gov/ecp/species/279',\n",
       "  'Guild': 'Flowering Plants',\n",
       "  'ITIS TSN': '503382',\n",
       "  'Lead FWS Regional Office': 'Region 6 - Mountain-Prairie',\n",
       "  'Lookup Name': 'Lepidium ostleri',\n",
       "  'Proposed FWS Decision Timeframe (Fiscal Year)': 2018,\n",
       "  'Range': 'UT',\n",
       "  'Scientific Name': 'Lepidium ostleri',\n",
       "  'Species Name (Common)': \"Ostler's peppergrass\"},\n",
       " 'Number of Documents in Cache': 363}"
      ]
     },
     "metadata": {},
     "output_type": "display_data"
    }
   ],
   "source": [
    "# Build a new workplan species recordset, injecting the augmented records\n",
    "new_workplan_species = list()\n",
    "for s in workplan_species:\n",
    "    new_record = next((r for r in updated_workplan_species if r[\"Lookup Name\"] == s[\"Lookup Name\"]), None)\n",
    "    if new_record:\n",
    "        new_workplan_species.append(new_record)\n",
    "    else:\n",
    "        new_workplan_species.append(s)\n",
    "\n",
    "# Cache the new set of workplan species information\n",
    "display(bis_utils.doc_cache(\"cache/workplan_species.json\", new_workplan_species))"
   ]
  },
  {
   "cell_type": "code",
   "execution_count": null,
   "metadata": {},
   "outputs": [],
   "source": []
  }
 ],
 "metadata": {
  "kernelspec": {
   "display_name": "Python 3",
   "language": "python",
   "name": "python3"
  },
  "language_info": {
   "codemirror_mode": {
    "name": "ipython",
    "version": 3
   },
   "file_extension": ".py",
   "mimetype": "text/x-python",
   "name": "python",
   "nbconvert_exporter": "python",
   "pygments_lexer": "ipython3",
   "version": "3.6.4"
  }
 },
 "nbformat": 4,
 "nbformat_minor": 2
}
