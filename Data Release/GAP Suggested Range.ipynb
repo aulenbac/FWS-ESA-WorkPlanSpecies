{
 "cells": [
  {
   "cell_type": "markdown",
   "metadata": {},
   "source": [
    "As an additional exploration with the species identified as having GAP habitat maps available, this notebook explores adding a view of GAP habitat metrics to the cache of information. This may be useful in determining where else species may have range within states. The process uses the 2018 US State boundaries from Census, the GAP range bounding box (generated previously in the basic caching of GAP species data from the GAP range services), and a set of pre-calculated GAP metrics that include acres within specific protection status designations in each state. It first finds a basic intersection of the range bounding box with a set of states, retrieves the total state metrics for all GAP species, and then filters to an individual species (no current query criteria for this at the API). This information is then cached for further reference."
   ]
  },
  {
   "cell_type": "code",
   "execution_count": 1,
   "metadata": {},
   "outputs": [],
   "source": [
    "import geopandas as gpd\n",
    "import json\n",
    "import requests\n",
    "from IPython.display import display\n",
    "import bispy\n",
    "from joblib import Parallel, delayed\n",
    "\n",
    "gap = bispy.gap.Gap()\n",
    "bis_utils = bispy.bis.Utils()"
   ]
  },
  {
   "cell_type": "code",
   "execution_count": 2,
   "metadata": {},
   "outputs": [],
   "source": [
    "us_states = gpd.read_file(\"https://www2.census.gov/geo/tiger/TIGER2018/STATE/tl_2018_us_state.zip\")"
   ]
  },
  {
   "cell_type": "code",
   "execution_count": 3,
   "metadata": {},
   "outputs": [],
   "source": [
    "# Open the file back up and verify\n",
    "with open(\"cache/gap.json\", \"r\") as f:\n",
    "    gap_cache = json.loads(f.read())\n"
   ]
  },
  {
   "cell_type": "code",
   "execution_count": null,
   "metadata": {
    "scrolled": true
   },
   "outputs": [],
   "source": [
    "gap_metrics_cache = list()\n",
    "for gap_species in gap_cache:\n",
    "    gap_metrics_cache.append(gap.gap_metrics_species(us_states, gap_species[\"GAP Species\"][\"GAP_SpeciesCode\"], gap_species[\"GAP Species\"][\"Range Bounding Box\"]))\n"
   ]
  },
  {
   "cell_type": "code",
   "execution_count": 4,
   "metadata": {},
   "outputs": [
    {
     "name": "stdout",
     "output_type": "stream",
     "text": [
      "CPU times: user 4.79 s, sys: 2.68 s, total: 7.46 s\n",
      "Wall time: 1min 47s\n"
     ]
    }
   ],
   "source": [
    "%%time\n",
    "# Use joblib to run multiple requests for SGCN records in parallel via scientific names\n",
    "gap_metrics = Parallel(n_jobs=8)(delayed(gap.gap_metrics_species)(us_states, gap_species[\"GAP Species\"][\"GAP_SpeciesCode\"], gap_species[\"GAP Species\"][\"Range Bounding Box\"]) for gap_species in gap_cache)\n"
   ]
  },
  {
   "cell_type": "code",
   "execution_count": 5,
   "metadata": {},
   "outputs": [
    {
     "data": {
      "text/plain": [
       "{'Doc Cache File': 'cache/gap_metrics.json',\n",
       " 'Document Number 8': {'GAP_SpeciesCode': 'aCBSAx',\n",
       "  'State Metrics': [{'gapstat123ac': 143.2222788276,\n",
       "    'gapstat123group': '1-10',\n",
       "    'gapstat123perc': 1.81474906303717,\n",
       "    'gapstat12ac': 98.0761257189,\n",
       "    'gapstat12group': '1-10',\n",
       "    'gapstat12perc': 1.24270859751458,\n",
       "    'gapstat1ac': 0.0,\n",
       "    'gapstat1perc': 0.0,\n",
       "    'gapstat2ac': 98.0761257189,\n",
       "    'gapstat2perc': 1.24270859751458,\n",
       "    'gapstat3ac': 45.1461531087,\n",
       "    'gapstat3perc': 0.572040465522586,\n",
       "    'gapstat4ac': 7748.9035111647,\n",
       "    'gapstat4perc': 98.1852509369628,\n",
       "    'id': 20112,\n",
       "    'spp_comname': 'Comal Blind Salamander',\n",
       "    'spp_sciname': 'Eurycea tridentifera',\n",
       "    'sppcode': 'aCBSAx',\n",
       "    'state_fipscode': '48',\n",
       "    'state_name': 'Texas',\n",
       "    'taxa': 'A',\n",
       "    'totalac': 7892.1257899923}]},\n",
       " 'Number of Documents in Cache': 63}"
      ]
     },
     "metadata": {},
     "output_type": "display_data"
    }
   ],
   "source": [
    "# Cache the array of retrieved documents and return/display a random sample for verification\n",
    "display(bis_utils.doc_cache(\"cache/gap_metrics.json\", gap_metrics))"
   ]
  },
  {
   "cell_type": "code",
   "execution_count": null,
   "metadata": {},
   "outputs": [],
   "source": []
  }
 ],
 "metadata": {
  "kernelspec": {
   "display_name": "Python 3",
   "language": "python",
   "name": "python3"
  },
  "language_info": {
   "codemirror_mode": {
    "name": "ipython",
    "version": 3
   },
   "file_extension": ".py",
   "mimetype": "text/x-python",
   "name": "python",
   "nbconvert_exporter": "python",
   "pygments_lexer": "ipython3",
   "version": "3.6.4"
  }
 },
 "nbformat": 4,
 "nbformat_minor": 2
}
