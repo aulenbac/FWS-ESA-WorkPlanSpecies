{
 "cells": [
  {
   "cell_type": "markdown",
   "metadata": {},
   "source": [
    "The data release for the USFWS Work Plan Species Information Assembly is a fully contained transparent data management process that is fully contained in its codebase (the collection of software codes, documentation, and file artifacts managed via GitHub). As such, it is a process that is \"self documented\" in real time as the concepts are developed and data are produced toward final release. Data inputs and outputs are described via markdown sections in Jupyter Notebooks, including all of the necessary dynamics as to their long-term management implications. Contact information for data managers and contributors to the project are contained mostly within the GitHub project environment via code and comment contributions. Formal coded metadata for the project is also provided and contains a snapshot of the living process.\n",
    "\n",
    "As such, the data management planning and execution dynamics are considered an inherent and integral part of this product, and no separate data management plan is provided."
   ]
  },
  {
   "cell_type": "code",
   "execution_count": null,
   "metadata": {},
   "outputs": [],
   "source": []
  }
 ],
 "metadata": {
  "kernelspec": {
   "display_name": "Python 3",
   "language": "python",
   "name": "python3"
  },
  "language_info": {
   "codemirror_mode": {
    "name": "ipython",
    "version": 3
   },
   "file_extension": ".py",
   "mimetype": "text/x-python",
   "name": "python",
   "nbconvert_exporter": "python",
   "pygments_lexer": "ipython3",
   "version": "3.6.4"
  }
 },
 "nbformat": 4,
 "nbformat_minor": 2
}
