{
 "cells": [
  {
   "cell_type": "markdown",
   "metadata": {},
   "source": [
    "Once we have the best available assertion of what FWS thinks the appropriate ITIS identifier is for as many species as possible (via ECOS scraping and TESS search), we can go consult the ITIS API to retrieve information and cache for later processing. This is done via the ITIS module in the bispy package that uses various search mechanisms against ITIS and slightly repackages the returned data for use."
   ]
  },
  {
   "cell_type": "code",
   "execution_count": 1,
   "metadata": {},
   "outputs": [],
   "source": [
    "import requests\n",
    "import json\n",
    "import bispy\n",
    "from IPython.display import display\n",
    "from joblib import Parallel, delayed\n",
    "import random\n",
    "\n",
    "itis = bispy.itis.Itis()"
   ]
  },
  {
   "cell_type": "code",
   "execution_count": 2,
   "metadata": {},
   "outputs": [],
   "source": [
    "# Open up the cached workplan species\n",
    "with open(\"cache/workplan_species.json\", \"r\") as f:\n",
    "    workplan_species = json.loads(f.read())"
   ]
  },
  {
   "cell_type": "code",
   "execution_count": 3,
   "metadata": {},
   "outputs": [],
   "source": [
    "# Prepare two lists - one of the TSNs we already know about from ECOS scraping and the other of the remaining scientific names\n",
    "tsn_list = [r[\"ITIS TSN\"] for r in workplan_species if r[\"ITIS TSN\"] is not None]\n",
    "names_without_tsns = [r[\"Scientific Name\"] for r in workplan_species if r[\"ITIS TSN\"] is None]\n",
    "itis_search_list = tsn_list\n",
    "itis_search_list.extend(names_without_tsns)\n"
   ]
  },
  {
   "cell_type": "code",
   "execution_count": 4,
   "metadata": {},
   "outputs": [],
   "source": [
    "# Use joblib to run multiple requests for ITIS documents in parallel via known ITIS TSNs\n",
    "itis_cache = Parallel(n_jobs=8)(delayed(itis.search)(name_or_tsn) for name_or_tsn in itis_search_list)"
   ]
  },
  {
   "cell_type": "code",
   "execution_count": 5,
   "metadata": {},
   "outputs": [],
   "source": [
    "# Dump the ITIS data to a cache file\n",
    "with open(\"cache/itis.json\", \"w\") as f:\n",
    "    f.write(json.dumps(itis_cache, indent=4))"
   ]
  },
  {
   "cell_type": "code",
   "execution_count": 6,
   "metadata": {},
   "outputs": [
    {
     "name": "stdout",
     "output_type": "stream",
     "text": [
      "363\n"
     ]
    },
    {
     "data": {
      "text/plain": [
       "{'Processing Metadata': {'Date Processed': '2019-07-01T18:46:49.465344',\n",
       "  'Detailed Results': [{'Exact Match': 'http://services.itis.gov/?wt=json&rows=10&q=tsn:178684'}],\n",
       "  'Status': 'Exact Match',\n",
       "  'Summary Result': 'Exact Match'},\n",
       " 'itisData': [{'cacheDate': '2019-07-01T18:46:57.597814',\n",
       "   'commonnames': [{'language': 'English', 'name': 'Tinian Monarch'}],\n",
       "   'createDate': '1996-06-13 14:51:08',\n",
       "   'hierarchy': ['Animalia',\n",
       "    'Bilateria',\n",
       "    'Deuterostomia',\n",
       "    'Chordata',\n",
       "    'Vertebrata',\n",
       "    'Gnathostomata',\n",
       "    'Tetrapoda',\n",
       "    'Aves',\n",
       "    'Passeriformes',\n",
       "    'Monarchidae',\n",
       "    'Monarcha',\n",
       "    'Monarcha takatsukasae'],\n",
       "   'kingdom': 'Animalia',\n",
       "   'nameWInd': 'Monarcha takatsukasae',\n",
       "   'nameWOInd': 'Monarcha takatsukasae',\n",
       "   'parentTSN': '178682',\n",
       "   'rank': 'Species',\n",
       "   'taxonomy': [{'name': 'Animalia', 'rank': 'Kingdom'},\n",
       "    {'name': 'Bilateria', 'rank': 'Subkingdom'},\n",
       "    {'name': 'Deuterostomia', 'rank': 'Infrakingdom'},\n",
       "    {'name': 'Chordata', 'rank': 'Phylum'},\n",
       "    {'name': 'Vertebrata', 'rank': 'Subphylum'},\n",
       "    {'name': 'Gnathostomata', 'rank': 'Infraphylum'},\n",
       "    {'name': 'Tetrapoda', 'rank': 'Superclass'},\n",
       "    {'name': 'Aves', 'rank': 'Class'},\n",
       "    {'name': 'Passeriformes', 'rank': 'Order'},\n",
       "    {'name': 'Monarchidae', 'rank': 'Family'},\n",
       "    {'name': 'Monarcha', 'rank': 'Genus'},\n",
       "    {'name': 'Monarcha takatsukasae', 'rank': 'Species'}],\n",
       "   'tsn': '178684',\n",
       "   'unit1': 'Monarcha',\n",
       "   'unit2': 'takatsukasae',\n",
       "   'updateDate': '2013-11-04 00:00:00',\n",
       "   'usage': 'valid'}]}"
      ]
     },
     "metadata": {},
     "output_type": "display_data"
    }
   ],
   "source": [
    "# Open the file back up and verify\n",
    "with open(\"cache/itis.json\", \"r\") as f:\n",
    "    itis_cache = json.loads(f.read())\n",
    "\n",
    "print(len(itis_cache))\n",
    "display(itis_cache[random.randint(0,len(itis_cache)-1)])"
   ]
  },
  {
   "cell_type": "code",
   "execution_count": null,
   "metadata": {},
   "outputs": [],
   "source": []
  }
 ],
 "metadata": {
  "kernelspec": {
   "display_name": "Python 3",
   "language": "python",
   "name": "python3"
  },
  "language_info": {
   "codemirror_mode": {
    "name": "ipython",
    "version": 3
   },
   "file_extension": ".py",
   "mimetype": "text/x-python",
   "name": "python",
   "nbconvert_exporter": "python",
   "pygments_lexer": "ipython3",
   "version": "3.6.4"
  }
 },
 "nbformat": 4,
 "nbformat_minor": 2
}
