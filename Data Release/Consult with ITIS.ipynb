{
 "cells": [
  {
   "cell_type": "markdown",
   "metadata": {},
   "source": [
    "Once we have the best available assertion of what FWS thinks the appropriate ITIS identifier is for as many species as possible (via ECOS scraping and TESS search), we can go consult the ITIS API to retrieve information and cache for later processing. This is done via the ITIS module in the bispy package that uses various search mechanisms against ITIS and slightly repackages the returned data for use."
   ]
  },
  {
   "cell_type": "code",
   "execution_count": 1,
   "metadata": {},
   "outputs": [],
   "source": [
    "import requests\n",
    "import json\n",
    "import bispy\n",
    "from IPython.display import display\n",
    "from joblib import Parallel, delayed\n",
    "\n",
    "itis = bispy.itis.Itis()\n",
    "bis_utils = bispy.bis.Utils()"
   ]
  },
  {
   "cell_type": "code",
   "execution_count": 2,
   "metadata": {},
   "outputs": [],
   "source": [
    "# Open up the cached workplan species\n",
    "with open(\"cache/workplan_species.json\", \"r\") as f:\n",
    "    workplan_species = json.loads(f.read())"
   ]
  },
  {
   "cell_type": "code",
   "execution_count": 3,
   "metadata": {},
   "outputs": [],
   "source": [
    "# The ITIS search function is intelligent enough to determine if a TSN is provided as search criteria\n",
    "# Here, we pull lists together of ITIS TSNs where we have them and lookup name where we do not and put both together to run the process\n",
    "tsn_list = [r[\"ITIS TSN\"] for r in workplan_species if r[\"ITIS TSN\"] is not None]\n",
    "names_without_tsns = [r[\"Lookup Name\"] for r in workplan_species if r[\"ITIS TSN\"] is None]\n",
    "itis_search_list = tsn_list\n",
    "itis_search_list.extend(names_without_tsns)"
   ]
  },
  {
   "cell_type": "code",
   "execution_count": 4,
   "metadata": {},
   "outputs": [
    {
     "name": "stdout",
     "output_type": "stream",
     "text": [
      "CPU times: user 1.05 s, sys: 124 ms, total: 1.17 s\n",
      "Wall time: 1min 8s\n"
     ]
    }
   ],
   "source": [
    "%%time\n",
    "# Use joblib to run multiple requests for ITIS documents in parallel via known ITIS TSNs\n",
    "itis_cache = Parallel(n_jobs=8)(delayed(itis.search)(name_or_tsn) for name_or_tsn in itis_search_list)"
   ]
  },
  {
   "cell_type": "code",
   "execution_count": 6,
   "metadata": {},
   "outputs": [
    {
     "data": {
      "text/plain": [
       "{'Doc Cache File': 'cache/itis.json',\n",
       " 'Document Number 148': {'Processing Metadata': {'Date Processed': '2019-07-03T21:50:19.063333',\n",
       "   'Detailed Results': [{'Exact Match': 'http://services.itis.gov/?wt=json&rows=10&q=tsn:36804'}],\n",
       "   'Status': 'Exact Match',\n",
       "   'Summary Result': 'Exact Match'},\n",
       "  'itisData': [{'cacheDate': '2019-07-03T21:50:50.085684',\n",
       "    'commonnames': [{'language': 'English',\n",
       "      'name': 'purpledisk honeycombhead'}],\n",
       "    'createDate': '1996-06-13 14:51:08',\n",
       "    'hierarchy': ['Plantae',\n",
       "     'Viridiplantae',\n",
       "     'Streptophyta',\n",
       "     'Embryophyta',\n",
       "     'Tracheophyta',\n",
       "     'Spermatophytina',\n",
       "     'Magnoliopsida',\n",
       "     'Asteranae',\n",
       "     'Asterales',\n",
       "     'Asteraceae',\n",
       "     'Balduina',\n",
       "     'Balduina atropurpurea'],\n",
       "    'kingdom': 'Plantae',\n",
       "    'nameWInd': 'Balduina atropurpurea',\n",
       "    'nameWOInd': 'Balduina atropurpurea',\n",
       "    'parentTSN': '36803',\n",
       "    'rank': 'Species',\n",
       "    'synonymTSNs': ['36804:$512874$'],\n",
       "    'synonyms': ['36804:$Endorima atropurpurea$'],\n",
       "    'taxonomy': [{'name': 'Plantae', 'rank': 'Kingdom'},\n",
       "     {'name': 'Viridiplantae', 'rank': 'Subkingdom'},\n",
       "     {'name': 'Streptophyta', 'rank': 'Infrakingdom'},\n",
       "     {'name': 'Embryophyta', 'rank': 'Superdivision'},\n",
       "     {'name': 'Tracheophyta', 'rank': 'Division'},\n",
       "     {'name': 'Spermatophytina', 'rank': 'Subdivision'},\n",
       "     {'name': 'Magnoliopsida', 'rank': 'Class'},\n",
       "     {'name': 'Asteranae', 'rank': 'Superorder'},\n",
       "     {'name': 'Asterales', 'rank': 'Order'},\n",
       "     {'name': 'Asteraceae', 'rank': 'Family'},\n",
       "     {'name': 'Balduina', 'rank': 'Genus'},\n",
       "     {'name': 'Balduina atropurpurea', 'rank': 'Species'}],\n",
       "    'tsn': '36804',\n",
       "    'unit1': 'Balduina',\n",
       "    'unit2': 'atropurpurea',\n",
       "    'updateDate': '2010-10-05 00:00:00',\n",
       "    'usage': 'accepted'}]},\n",
       " 'Number of Documents in Cache': 363}"
      ]
     },
     "metadata": {},
     "output_type": "display_data"
    }
   ],
   "source": [
    "# Cache the array of retrieved documents and return/display a random sample for verification\n",
    "display(bis_utils.doc_cache(\"cache/itis.json\", itis_cache))"
   ]
  },
  {
   "cell_type": "code",
   "execution_count": null,
   "metadata": {},
   "outputs": [],
   "source": []
  }
 ],
 "metadata": {
  "kernelspec": {
   "display_name": "Python 3",
   "language": "python",
   "name": "python3"
  },
  "language_info": {
   "codemirror_mode": {
    "name": "ipython",
    "version": 3
   },
   "file_extension": ".py",
   "mimetype": "text/x-python",
   "name": "python",
   "nbconvert_exporter": "python",
   "pygments_lexer": "ipython3",
   "version": "3.6.4"
  }
 },
 "nbformat": 4,
 "nbformat_minor": 2
}
