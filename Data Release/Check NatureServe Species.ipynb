{
 "cells": [
  {
   "cell_type": "markdown",
   "metadata": {},
   "source": [
    "The NatureServe Explorer system contains a number of useful fields of information associated with sensitive species. The bispy package contains a module and set of functions for interacting with the NatureServe API. This notebook searches NatureServe and retrieves species documents for a cache to be used in further evaluation. The NatureServe API is a little bit old, and its XML response is challenging to work with. The Python function in bispy provides a little bit of reformatting into a dictionary object (JSON) for ease of processing.\n",
    "\n",
    "\n",
    "# Data Management Considerations\n",
    "Currently, we are simply working with the one public, open API for NatureServe explorer as we found it was seemingly more reliable than working with the services requiring an access key and contains enough information to get a start at working with what NatureServe has to offer. Private API routes also exist that require an API key for access. In either case, we comply with the posted [usage requirements](https://services.natureserve.org/idd/developer/license.jsp). Our team has had conversations with NatureServe staff and management about our particular usage of NatureServe data, verifying that we are using the information appropriately, including storing relevant \"documents\" associated with species in our lists, sharing selected information via our APIs, and displaying on web apps. The main concern that was expressed in discussions was that we always include the date that a NatureServe species record was last reviewed so that users can be aware of cases where they may be looking at outdated information."
   ]
  },
  {
   "cell_type": "code",
   "execution_count": 1,
   "metadata": {},
   "outputs": [],
   "source": [
    "import requests\n",
    "import bispy\n",
    "from IPython.display import display\n",
    "from joblib import Parallel, delayed\n",
    "from collections import Counter\n",
    "\n",
    "natureserve = bispy.natureserve.Natureserve()\n",
    "bis_utils = bispy.bis.Utils()\n",
    "\n",
    "import helperfunctions"
   ]
  },
  {
   "cell_type": "code",
   "execution_count": 2,
   "metadata": {},
   "outputs": [],
   "source": [
    "name_list = helperfunctions.workplan_species()"
   ]
  },
  {
   "cell_type": "code",
   "execution_count": 3,
   "metadata": {},
   "outputs": [],
   "source": [
    "# Use joblib to run multiple requests for records in parallel via scientific names\n",
    "natureserve_results = Parallel(n_jobs=8)(delayed(natureserve.search)(name, name_source) for name, name_source in name_list)\n"
   ]
  },
  {
   "cell_type": "code",
   "execution_count": 4,
   "metadata": {},
   "outputs": [],
   "source": [
    "natureserve_results_filtered = [r for r in natureserve_results if r[\"Processing Metadata\"][\"Summary Result\"] != \"Not Matched\"]"
   ]
  },
  {
   "cell_type": "code",
   "execution_count": 5,
   "metadata": {},
   "outputs": [
    {
     "data": {
      "text/plain": [
       "{'Doc Cache File': 'cache/natureserve.json',\n",
       " 'Document Number 270': {'NatureServe Species': {'@type': 'Animal',\n",
       "   '@uid': 'ELEMENT_NATIONAL.2.170522',\n",
       "   'jurisdictionNationName': {'#text': 'UNITED STATES', '@code': 'US'},\n",
       "   'metadata': {'references': None},\n",
       "   'nationalCommonName': 'Narrow-foot Hydrotus Diving Beetle',\n",
       "   'nationalConservationStatus': {'#text': 'N1N2',\n",
       "    '@lastChangedDate': '2004-02-23',\n",
       "    '@lastReviewedDate': '2004-02-23'},\n",
       "   'nationalDistributions': {'nationalDistribution': {'currentPresenceAbsence': 'Present',\n",
       "     'distributionConfidence': 'Confident',\n",
       "     'origin': 'Native',\n",
       "     'population': 'Year-round',\n",
       "     'regularity': 'Regularly occurring'}},\n",
       "   'nationalScientificName': {'formattedName': '<i>Hygrotus diversipes</i>',\n",
       "    'nomenclaturalAuthor': 'Leech, 1966',\n",
       "    'unformattedName': 'Hygrotus diversipes'},\n",
       "   'natureServeGlobalConcept': {'@uid': 'ELEMENT_GLOBAL.2.108668',\n",
       "    'classificationStatus': 'Standard',\n",
       "    'globalConservationStatus': 'G1G2',\n",
       "    'globalScientificName': {'formattedName': '<i>Hygrotus diversipes</i>',\n",
       "     'nomenclaturalAuthor': 'Leech, 1966',\n",
       "     'unformattedName': 'Hygrotus diversipes'},\n",
       "    'nameUsedInConceptReference': {'formattedName': '<i>Hygrotus diversipes</i>',\n",
       "     'nomenclaturalAuthor': 'Poole and Gentili',\n",
       "     'unformattedName': 'Hygrotus diversipes'},\n",
       "    'natureServeExplorerURI': 'http://explorer.natureserve.org/servlet/NatureServe?searchSpeciesUid=ELEMENT_GLOBAL.2.108668',\n",
       "    'roundedGlobalConservationStatus': 'G1',\n",
       "    'taxonomicConceptReference': {'@code': 'B96POO01EHUS',\n",
       "     'formattedCitation': 'Poole, R. W., and P. Gentili (eds.). 1996. Nomina Insecta Nearctica: a checklist of the insects of North America. Volume 1 (Coleoptera, Strepsiptera). Entomological Information Services, Rockville, MD. Available online: http://www.nearctica.com/nomina/nomina.htm',\n",
       "     'unformattedCitation': 'Poole, R. W., and P. Gentili (eds.). 1996. Nomina Insecta Nearctica: a checklist of the insects of North America. Volume 1 (Coleoptera, Strepsiptera). Entomological Information Services, Rockville, MD. Available online: http://www.nearctica.com/nomina/nomina.htm'}},\n",
       "   'roundedNationalConservationStatus': 'N1'},\n",
       "  'Processing Metadata': {'Date Processed': '2019-07-10T13:52:57.845561',\n",
       "   'Name Source': 'Lookup Name',\n",
       "   'Scientific Name': 'Hygrotus diversipes',\n",
       "   'Search URL': 'https://services.natureserve.org/idd/rest/v1/nationalSpecies/summary/nameSearch?nationCode=US&name=Hygrotus diversipes',\n",
       "   'Status': 'Success',\n",
       "   'Summary Result': 'Single Match'}},\n",
       " 'Number of Documents in Cache': 351}"
      ]
     },
     "metadata": {},
     "output_type": "display_data"
    }
   ],
   "source": [
    "# Cache the array of retrieved documents and return/display a random sample for verification\n",
    "display(bis_utils.doc_cache(\"cache/natureserve.json\", natureserve_results_filtered))\n"
   ]
  },
  {
   "cell_type": "code",
   "execution_count": 6,
   "metadata": {},
   "outputs": [
    {
     "data": {
      "text/plain": [
       "Counter({'N1': 154,\n",
       "         'N2': 102,\n",
       "         'N3': 66,\n",
       "         'N3B,N3N': 1,\n",
       "         'N4': 10,\n",
       "         'N4B': 2,\n",
       "         'N4B,N4N': 1,\n",
       "         'N5': 6,\n",
       "         'NNR': 7,\n",
       "         'NNRN': 1,\n",
       "         'NU': 1})"
      ]
     },
     "execution_count": 6,
     "metadata": {},
     "output_type": "execute_result"
    }
   ],
   "source": [
    "Counter(spp[\"NatureServe Species\"][\"roundedNationalConservationStatus\"] for spp in natureserve_results_filtered)"
   ]
  },
  {
   "cell_type": "code",
   "execution_count": 7,
   "metadata": {},
   "outputs": [
    {
     "data": {
      "text/plain": [
       "Counter({'Lookup Name': 340, 'Valid ITIS Scientific Name': 11})"
      ]
     },
     "execution_count": 7,
     "metadata": {},
     "output_type": "execute_result"
    }
   ],
   "source": [
    "Counter(spp[\"Processing Metadata\"][\"Name Source\"] for spp in natureserve_results_filtered)"
   ]
  },
  {
   "cell_type": "code",
   "execution_count": null,
   "metadata": {},
   "outputs": [],
   "source": []
  }
 ],
 "metadata": {
  "kernelspec": {
   "display_name": "Python 3",
   "language": "python",
   "name": "python3"
  },
  "language_info": {
   "codemirror_mode": {
    "name": "ipython",
    "version": 3
   },
   "file_extension": ".py",
   "mimetype": "text/x-python",
   "name": "python",
   "nbconvert_exporter": "python",
   "pygments_lexer": "ipython3",
   "version": "3.6.4"
  }
 },
 "nbformat": 4,
 "nbformat_minor": 2
}
