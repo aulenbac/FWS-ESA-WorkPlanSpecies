{
 "cells": [
  {
   "cell_type": "markdown",
   "metadata": {},
   "source": [
    "The NatureServe Explorer system contains a number of useful fields of information associated with sensitive species. The bispy package contains a module and set of functions for interacting with the NatureServe API. This notebook searches NatureServe and retrieves species documents for a cache to be used in further evaluation. The NatureServe API is a little bit old, and its XML response is challenging to work with. The Python function in bispy provides a little bit of reformatting into a dictionary object (JSON) for ease of processing.\n",
    "\n",
    "Currently, we are simply working with the one public, open API for NatureServe explorer as we found it was more reliable and contains enough information to get a start at working with what NatureServe has to offer. Private API routes also exist that require an API key for access."
   ]
  },
  {
   "cell_type": "code",
   "execution_count": 1,
   "metadata": {},
   "outputs": [],
   "source": [
    "import requests\n",
    "import json\n",
    "import bispy\n",
    "from IPython.display import display\n",
    "from joblib import Parallel, delayed\n",
    "import random\n",
    "\n",
    "natureserve = bispy.natureserve.Natureserve()"
   ]
  },
  {
   "cell_type": "code",
   "execution_count": 2,
   "metadata": {},
   "outputs": [],
   "source": [
    "# Open up the cached workplan species\n",
    "with open(\"cache/workplan_species.json\", \"r\") as f:\n",
    "    workplan_species = json.loads(f.read())"
   ]
  },
  {
   "cell_type": "code",
   "execution_count": 3,
   "metadata": {},
   "outputs": [],
   "source": [
    "# Use joblib to run multiple requests for SGCN records in parallel via scientific names\n",
    "natureserve_results = Parallel(n_jobs=8)(delayed(natureserve.search)(name) for name in [r[\"Scientific Name\"] for r in workplan_species])\n"
   ]
  },
  {
   "cell_type": "code",
   "execution_count": 4,
   "metadata": {},
   "outputs": [],
   "source": [
    "# Dump the records we discovered and packaged to a cache file\n",
    "# I need to revisit this once I get some things cleared up with taxonomic matching to hopefully find more records\n",
    "with open(\"cache/natureserve.json\", \"w\") as f:\n",
    "    f.write(json.dumps(natureserve_results, indent=4))"
   ]
  },
  {
   "cell_type": "code",
   "execution_count": 6,
   "metadata": {},
   "outputs": [
    {
     "name": "stdout",
     "output_type": "stream",
     "text": [
      "363\n"
     ]
    },
    {
     "data": {
      "text/plain": [
       "{'NatureServe Species': {'@type': 'Animal',\n",
       "  '@uid': 'ELEMENT_NATIONAL.2.167189',\n",
       "  'jurisdictionNationName': {'#text': 'UNITED STATES', '@code': 'US'},\n",
       "  'metadata': {'references': None},\n",
       "  'nationalCommonName': 'San Marcos Salamander',\n",
       "  'nationalConservationStatus': {'#text': 'N1',\n",
       "   '@lastChangedDate': '1996-11-05',\n",
       "   '@lastReviewedDate': '1996-11-05'},\n",
       "  'nationalDistributions': {'nationalDistribution': {'currentPresenceAbsence': 'Present',\n",
       "    'distributionConfidence': 'Confident',\n",
       "    'origin': 'Native',\n",
       "    'population': 'Year-round',\n",
       "    'regularity': 'Regularly occurring'}},\n",
       "  'nationalScientificName': {'formattedName': '<i>Eurycea nana</i>',\n",
       "   'nomenclaturalAuthor': 'Bishop, 1941',\n",
       "   'unformattedName': 'Eurycea nana'},\n",
       "  'natureServeGlobalConcept': {'@uid': 'ELEMENT_GLOBAL.2.106379',\n",
       "   'classificationStatus': 'Standard',\n",
       "   'globalConservationStatus': 'G1',\n",
       "   'globalScientificName': {'formattedName': '<i>Eurycea nana</i>',\n",
       "    'nomenclaturalAuthor': 'Bishop, 1941',\n",
       "    'unformattedName': 'Eurycea nana'},\n",
       "   'globalTaxonomyComments': 'Chippindale et al. (1998, 2000) reviewed the systematic status of this salamander.',\n",
       "   'nameUsedInConceptReference': {'formattedName': '<i>Eurycea nana</i>',\n",
       "    'nomenclaturalAuthor': 'Frost',\n",
       "    'unformattedName': 'Eurycea nana'},\n",
       "   'natureServeExplorerURI': 'http://explorer.natureserve.org/servlet/NatureServe?searchSpeciesUid=ELEMENT_GLOBAL.2.106379',\n",
       "   'roundedGlobalConservationStatus': 'G1',\n",
       "   'taxonomicConceptReference': {'@code': 'B85FRO01HQUS',\n",
       "    'formattedCitation': 'Frost, D. R. 1985. Amphibian species of the world. A taxonomic and geographical reference. Allen Press, Inc., and The Association of  Systematics Collections, Lawrence, Kansas. v + 732 pp.',\n",
       "    'unformattedCitation': 'Frost, D. R. 1985. Amphibian species of the world. A taxonomic and geographical reference. Allen Press, Inc., and The Association of  Systematics Collections, Lawrence, Kansas. v + 732 pp.'}},\n",
       "  'roundedNationalConservationStatus': 'N1'},\n",
       " 'Processing Metadata': {'Date Processed': '2019-07-01T21:39:07.498566',\n",
       "  'Search URL': 'https://services.natureserve.org/idd/rest/v1/nationalSpecies/summary/nameSearch?nationCode=US&name=Eurycea nana',\n",
       "  'Status': 'Success',\n",
       "  'Summary Result': 'Single Match'}}"
      ]
     },
     "metadata": {},
     "output_type": "display_data"
    }
   ],
   "source": [
    "# Open the file back up and verify\n",
    "with open(\"cache/natureserve.json\", \"r\") as f:\n",
    "    natureserve_cache = json.loads(f.read())\n",
    "\n",
    "print(len(natureserve_cache))\n",
    "display(natureserve_cache[random.randint(0,len(natureserve_cache)-1)])"
   ]
  },
  {
   "cell_type": "code",
   "execution_count": null,
   "metadata": {},
   "outputs": [],
   "source": []
  }
 ],
 "metadata": {
  "kernelspec": {
   "display_name": "Python 3",
   "language": "python",
   "name": "python3"
  },
  "language_info": {
   "codemirror_mode": {
    "name": "ipython",
    "version": 3
   },
   "file_extension": ".py",
   "mimetype": "text/x-python",
   "name": "python",
   "nbconvert_exporter": "python",
   "pygments_lexer": "ipython3",
   "version": "3.6.4"
  }
 },
 "nbformat": 4,
 "nbformat_minor": 2
}
