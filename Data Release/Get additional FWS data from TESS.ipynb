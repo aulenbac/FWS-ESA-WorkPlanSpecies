{
 "cells": [
  {
   "cell_type": "markdown",
   "metadata": {},
   "source": [
    "The FWS Threatened and Endangered Species (TESS) system is part of their underlying data source. TESS has a set of web services that are a little rudimentary but functional. In this notebook, we retrieve information from TESS, first for all of the species we \"ECOS-scraped\" that have ITIS TSN numbers declared (cached to the cache/workplan_species.json file), and then we look for any other species in the list where we did not get a TSN.\n",
    "\n",
    "The main bispy function here is the search function in the Tess class of the tess module. It takes either an ITIS TSN or scientific name and runs a search. The TESS service returns XML, but the function transforms and tweaks slightly to return a dictionary (JSON) structure."
   ]
  },
  {
   "cell_type": "code",
   "execution_count": 1,
   "metadata": {},
   "outputs": [],
   "source": [
    "import json\n",
    "import bispy\n",
    "from IPython.display import display\n",
    "from joblib import Parallel, delayed\n",
    "import random\n",
    "\n",
    "tess = bispy.tess.Tess()"
   ]
  },
  {
   "cell_type": "code",
   "execution_count": 2,
   "metadata": {},
   "outputs": [],
   "source": [
    "# Open up the cached workplan species\n",
    "with open(\"cache/workplan_species.json\", \"r\") as f:\n",
    "    workplan_species = json.loads(f.read())"
   ]
  },
  {
   "cell_type": "code",
   "execution_count": 3,
   "metadata": {},
   "outputs": [],
   "source": [
    "# Prepare two lists - one of the TSNs we already know about from ECOS scraping and the other of the remaining scientific names\n",
    "tsn_list = [r[\"ITIS TSN\"] for r in workplan_species if r[\"ITIS TSN\"] is not None]\n",
    "names_without_tsns = [r[\"Scientific Name\"] for r in workplan_species if r[\"ITIS TSN\"] is None]"
   ]
  },
  {
   "cell_type": "code",
   "execution_count": 4,
   "metadata": {},
   "outputs": [],
   "source": [
    "# Use joblib to run multiple requests for TESS documents in parallel via known ITIS TSNs\n",
    "tess_cache_from_tsn = Parallel(n_jobs=8)(delayed(tess.search)(tsn) for tsn in tsn_list)"
   ]
  },
  {
   "cell_type": "code",
   "execution_count": 5,
   "metadata": {},
   "outputs": [],
   "source": [
    "# Use joblib to run multiple requests for TESS documents in parallel via scientific names\n",
    "tess_cache_from_names = Parallel(n_jobs=8)(delayed(tess.search)(name) for name in names_without_tsns)"
   ]
  },
  {
   "cell_type": "code",
   "execution_count": 6,
   "metadata": {},
   "outputs": [],
   "source": [
    "# If any new TSNs were found via name search, update those back to the workplan species JSON\n",
    "updated_workplan_species = list()\n",
    "for record in [t for t in tess_cache_from_names if 'TESS Species' in t.keys() and int(t['TESS Species']['SPECIES_DETAIL']['TSN']) > 0]:\n",
    "    workplan_record = next((d for d in workplan_species if d[\"Scientific Name\"] == record['TESS Species']['SPECIES_DETAIL']['SCINAME']), None)\n",
    "    workplan_record[\"ITIS TSN\"] = record[\"TESS Species\"][\"SPECIES_DETAIL\"][\"TSN\"]\n",
    "    updated_workplan_species.append(workplan_record)\n",
    "    updated_species_names = [s[\"Scientific Name\"] for s in updated_workplan_species]\n",
    "\n",
    "if len(updated_workplan_species) > 0:\n",
    "    new_workplan_species = list(filter(lambda i: i['Scientific Name'] not in updated_species_names, workplan_species))\n",
    "    new_workplan_species.extend(updated_workplan_species)\n",
    "    with open(\"cache/workplan_species.json\", \"w\") as f:\n",
    "        f.write(json.dumps(new_workplan_species, indent=4))\n",
    "    "
   ]
  },
  {
   "cell_type": "code",
   "execution_count": 7,
   "metadata": {},
   "outputs": [],
   "source": [
    "# Combine and cache the data from TESS\n",
    "tess_cache_from_tsn.extend(tess_cache_from_names)\n",
    "with open(\"cache/tess_data.json\", \"w\") as f:\n",
    "    f.write(json.dumps(tess_cache_from_tsn, indent=4))"
   ]
  },
  {
   "cell_type": "code",
   "execution_count": null,
   "metadata": {},
   "outputs": [],
   "source": []
  }
 ],
 "metadata": {
  "kernelspec": {
   "display_name": "Python 3",
   "language": "python",
   "name": "python3"
  },
  "language_info": {
   "codemirror_mode": {
    "name": "ipython",
    "version": 3
   },
   "file_extension": ".py",
   "mimetype": "text/x-python",
   "name": "python",
   "nbconvert_exporter": "python",
   "pygments_lexer": "ipython3",
   "version": "3.6.4"
  }
 },
 "nbformat": 4,
 "nbformat_minor": 2
}
