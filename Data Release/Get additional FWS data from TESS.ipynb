{
 "cells": [
  {
   "cell_type": "markdown",
   "metadata": {},
   "source": [
    "The FWS Threatened and Endangered Species (TESS) system is part of their underlying data source. TESS has a set of web services that are a little rudimentary but functional. In this notebook, we retrieve information from TESS, first for all of the species we \"ECOS-scraped\" that have ITIS TSN numbers declared (cached to the cache/workplan_species.json file), and then we look for any other species in the list where we did not get a TSN.\n",
    "\n",
    "The main bispy function here is the search function in the Tess class of the tess module. It takes either an ITIS TSN or scientific name and runs a search. The TESS service returns XML, but the function transforms and tweaks slightly to return a dictionary (JSON) structure."
   ]
  },
  {
   "cell_type": "code",
   "execution_count": 1,
   "metadata": {},
   "outputs": [],
   "source": [
    "import json\n",
    "import bispy\n",
    "from IPython.display import display\n",
    "from joblib import Parallel, delayed\n",
    "\n",
    "tess = bispy.tess.Tess()\n",
    "bis_utils = bispy.bis.Utils()"
   ]
  },
  {
   "cell_type": "code",
   "execution_count": 2,
   "metadata": {},
   "outputs": [],
   "source": [
    "# Open up the cached workplan species\n",
    "with open(\"cache/workplan_species.json\", \"r\") as f:\n",
    "    workplan_species = json.loads(f.read())"
   ]
  },
  {
   "cell_type": "code",
   "execution_count": 3,
   "metadata": {},
   "outputs": [],
   "source": [
    "# Prepare two lists - one of the TSNs we already know about from ECOS scraping and the other of the remaining scientific names\n",
    "tsn_list = [r[\"ITIS TSN\"] for r in workplan_species if r[\"ITIS TSN\"] is not None]\n",
    "names_without_tsns = [r[\"Lookup Name\"] for r in workplan_species if r[\"ITIS TSN\"] is None]"
   ]
  },
  {
   "cell_type": "code",
   "execution_count": 5,
   "metadata": {},
   "outputs": [
    {
     "name": "stdout",
     "output_type": "stream",
     "text": [
      "CPU times: user 734 ms, sys: 111 ms, total: 845 ms\n",
      "Wall time: 24.3 s\n"
     ]
    }
   ],
   "source": [
    "%%time\n",
    "# Use joblib to run multiple requests for TESS documents in parallel via known ITIS TSNs\n",
    "tess_cache_from_tsn = Parallel(n_jobs=8)(delayed(tess.search)(tsn) for tsn in tsn_list)"
   ]
  },
  {
   "cell_type": "code",
   "execution_count": 6,
   "metadata": {},
   "outputs": [
    {
     "name": "stdout",
     "output_type": "stream",
     "text": [
      "CPU times: user 239 ms, sys: 16.6 ms, total: 256 ms\n",
      "Wall time: 9.64 s\n"
     ]
    }
   ],
   "source": [
    "%%time\n",
    "# Use joblib to run multiple requests for TESS documents in parallel via scientific names\n",
    "tess_cache_from_names = Parallel(n_jobs=8)(delayed(tess.search)(name) for name in names_without_tsns)"
   ]
  },
  {
   "cell_type": "code",
   "execution_count": 17,
   "metadata": {},
   "outputs": [
    {
     "data": {
      "text/plain": [
       "{'Doc Cache File': 'cache/workplan_species.json',\n",
       " 'Document Number 133': {'Bin': None,\n",
       "  'ECOS Link': 'https://ecos.fws.gov/ecp/species/4851',\n",
       "  'Guild': 'Crustaceans',\n",
       "  'ITIS TSN': '97369',\n",
       "  'Lead FWS Regional Office': 'Region 4 - Southeast',\n",
       "  'Lookup Name': 'Cambarus georgiae',\n",
       "  'Proposed FWS Decision Timeframe (Fiscal Year)': 2023,\n",
       "  'Range': 'GA, NC',\n",
       "  'Scientific Name': 'Cambarus georgiae',\n",
       "  'Species Name (Common)': 'Little Tennessee crayfish'},\n",
       " 'Number of Documents in Cache': 363}"
      ]
     },
     "metadata": {},
     "output_type": "display_data"
    }
   ],
   "source": [
    "# If any new TSNs were found via name search, update those back to the workplan species JSON\n",
    "updated_workplan_species = list()\n",
    "for record in [t for t in tess_cache_from_names if 'TESS Species' in t.keys() and int(t['TESS Species']['SPECIES_DETAIL']['TSN']) > 0]:\n",
    "    workplan_record = next((d for d in workplan_species if d[\"Lookup Name\"] == record['TESS Species']['SPECIES_DETAIL']['SCINAME']), None)\n",
    "    workplan_record[\"ITIS TSN\"] = record[\"TESS Species\"][\"SPECIES_DETAIL\"][\"TSN\"]\n",
    "    updated_workplan_species.append(workplan_record)\n",
    "    updated_species_names = [s[\"Scientific Name\"] for s in updated_workplan_species]\n",
    "\n",
    "if len(updated_workplan_species) > 0:\n",
    "    new_workplan_species = list(filter(lambda i: i['Scientific Name'] not in updated_species_names, workplan_species))\n",
    "    new_workplan_species.extend(updated_workplan_species)\n",
    "    display(bis_utils.doc_cache(\"cache/workplan_species.json\", new_workplan_species))\n",
    "    "
   ]
  },
  {
   "cell_type": "code",
   "execution_count": 18,
   "metadata": {},
   "outputs": [
    {
     "data": {
      "text/plain": [
       "{'Doc Cache File': 'cache/tess.json',\n",
       " 'Document Number 249': {'Processing Metadata': {'Date Processed': '2019-07-03T21:14:36.897605',\n",
       "   'Search URL': 'https://ecos.fws.gov/ecp0/TessQuery?request=query&xquery=/SPECIES_DETAIL[TSN=568412]',\n",
       "   'Status': 'Successful Match'},\n",
       "  'TESS Species': {'SPECIES_DETAIL': {'COMNAME': 'Amargosa tryonia',\n",
       "    'COUNTRY': '1',\n",
       "    'DPS': '0',\n",
       "    'ENTITY_ID': '7000',\n",
       "    'FAMILY': 'Hydrobiidae',\n",
       "    'INVNAME': 'Tryonia, Amargosa',\n",
       "    'LEAD_AGENCY': '1',\n",
       "    'LEAD_REGION': '8',\n",
       "    'POP_ABBREV': 'Wherever found',\n",
       "    'POP_DESC': 'Wherever found',\n",
       "    'REFUGE_OCCURRENCE': None,\n",
       "    'SCINAME': 'Tryonia variegata',\n",
       "    'SPCODE': 'G011',\n",
       "    'STATUS': 'UR',\n",
       "    'STATUS_TEXT': 'Under Review in the Candidate or Petition Process',\n",
       "    'TSN': '568412',\n",
       "    'VIPCODE': 'I01'}}},\n",
       " 'Number of Documents in Cache': 266}"
      ]
     },
     "metadata": {},
     "output_type": "display_data"
    }
   ],
   "source": [
    "# Cache the array of retrieved documents and return/display a random sample for verification\n",
    "display(bis_utils.doc_cache(\"cache/tess.json\", tess_cache_from_tsn))"
   ]
  },
  {
   "cell_type": "code",
   "execution_count": null,
   "metadata": {},
   "outputs": [],
   "source": []
  }
 ],
 "metadata": {
  "kernelspec": {
   "display_name": "Python 3",
   "language": "python",
   "name": "python3"
  },
  "language_info": {
   "codemirror_mode": {
    "name": "ipython",
    "version": 3
   },
   "file_extension": ".py",
   "mimetype": "text/x-python",
   "name": "python",
   "nbconvert_exporter": "python",
   "pygments_lexer": "ipython3",
   "version": "3.6.4"
  }
 },
 "nbformat": 4,
 "nbformat_minor": 2
}
