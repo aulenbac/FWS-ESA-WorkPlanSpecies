{
 "cells": [
  {
   "cell_type": "markdown",
   "metadata": {},
   "source": [
    "A survey of USGS Science Centers and university Cooperative Research Units was conducted to find areas where USGS research is being conducted into issues associated with species on the work plan. The results of this are captured in the source spreadsheet. This notebook pulls out a summary of this knowledge to serve as an additional source of information in the dataset."
   ]
  },
  {
   "cell_type": "code",
   "execution_count": 1,
   "metadata": {},
   "outputs": [],
   "source": [
    "import requests\n",
    "import pandas as pd\n",
    "import numpy as np\n",
    "import bispy\n",
    "from IPython.display import display\n",
    "from joblib import Parallel, delayed\n",
    "import json\n",
    "import random"
   ]
  },
  {
   "cell_type": "code",
   "execution_count": 2,
   "metadata": {},
   "outputs": [],
   "source": [
    "usgs_sc_summary = pd.read_excel(\n",
    "    \"sources/Prelisting Science USGS Master_19Mar2018.xlsx\", \n",
    "    sheet_name=\"Center_Information\", \n",
    "    nrows=21\n",
    ")\n",
    "usgs_survey_responses = pd.read_excel(\n",
    "    \"sources/Prelisting Science USGS Master_19Mar2018.xlsx\", \n",
    "    sheet_name=\"USGS_Responses\", \n",
    "    usecols=\"C,I:AA\", \n",
    "    skiprows=1\n",
    ")\n",
    "cru_survey_responses = pd.read_excel(\n",
    "    \"sources/Prelisting Science USGS Master_19Mar2018.xlsx\", \n",
    "    sheet_name=\"CRU_responses\", \n",
    "    usecols=\"C,H:K\"\n",
    ")\n",
    "general_capabilities = pd.read_excel(\n",
    "    \"sources/Prelisting Science USGS Master_19Mar2018.xlsx\", \n",
    "    sheet_name=\"USGS General Capabilites\", \n",
    "    skiprows=3, \n",
    "    header=None,\n",
    "    usecols=\"A:B\",\n",
    "    names=[\"Center\",\"Guild/Expertise\"]\n",
    ")\n",
    "usgs_org_links = pd.read_excel(\n",
    "    \"sources/AdditionalSourceData.xlsx\", \n",
    "    sheet_name=\"USGS Org Links\"\n",
    ")\n"
   ]
  },
  {
   "cell_type": "code",
   "execution_count": 3,
   "metadata": {
    "scrolled": true
   },
   "outputs": [],
   "source": [
    "def get_sb_org(acronym, url):\n",
    "    sb_result = requests.get(f'{url}?format=json').json()\n",
    "    sb_result[\"acronym\"] = acronym\n",
    "    return sb_result"
   ]
  },
  {
   "cell_type": "code",
   "execution_count": 4,
   "metadata": {},
   "outputs": [],
   "source": [
    "# Use joblib to run multiple requests for ECOS documents in parallel\n",
    "org_cache = Parallel(n_jobs=8)(delayed(get_sb_org)(row[1], row[2]) for row in usgs_org_links.itertuples())"
   ]
  },
  {
   "cell_type": "code",
   "execution_count": 5,
   "metadata": {},
   "outputs": [],
   "source": [
    "# Dump the cache of data to a JSON file for later use\n",
    "with open(\"cache/usgs_orgs.json\", 'w') as f:\n",
    "    f.write(json.dumps(org_cache, indent=4))"
   ]
  },
  {
   "cell_type": "code",
   "execution_count": 6,
   "metadata": {},
   "outputs": [
    {
     "name": "stdout",
     "output_type": "stream",
     "text": [
      "42\n"
     ]
    },
    {
     "data": {
      "text/plain": [
       "{'_classSimpleName': 'UsgsOrganization',\n",
       " 'acronym': 'VACFWRU',\n",
       " 'active': True,\n",
       " 'aliases': [{'annotation': 'old FFS Name',\n",
       "   'id': 743,\n",
       "   'name': 'VIRGINIA COOP F&W UNIT'},\n",
       "  {'annotation': 'FBMS Name (and old FPPS)',\n",
       "   'id': 129,\n",
       "   'name': 'VIRGINIA CF & WRU'}],\n",
       " 'description': 'Virginia Cooperative Fish and Wildlife Research Unit',\n",
       " 'displayText': 'Virginia Cooperative Fish and Wildlife Research Unit',\n",
       " 'extensions': {'usgsOrganization': {'fbmsCode': 'GGHEBD1700',\n",
       "   'fbmsName': 'VIRGINIA CF & WRU',\n",
       "   'oldFfsName': 'VIRGINIA COOP F&W UNIT',\n",
       "   'oldFppsCode': '133170',\n",
       "   'oldFppsName': 'VIRGINIA CF & WRU',\n",
       "   'oldOrgCode': '13524450',\n",
       "   'orgCode': 'GGHEBD1700'}},\n",
       " 'fbmsCodes': [],\n",
       " 'id': 17067,\n",
       " 'link': {'href': 'https://www.sciencebase.gov/directory/organization/17067',\n",
       "  'rel': 'self',\n",
       "  'url': 'https://www.sciencebase.gov/directory/organization/17067'},\n",
       " 'links': [{'rel': 'self',\n",
       "   'url': 'https://www.sciencebase.gov/directory/organization/17067'}],\n",
       " 'logoUrl': 'http://my.usgs.gov/static-cache/images/dataOwner/v1/logosMed/USGSLogo.gif',\n",
       " 'name': 'Virginia Cooperative Fish and Wildlife Research Unit',\n",
       " 'parent': {'_classSimpleName': 'UsgsProgram',\n",
       "  'displayText': 'Chief Cooperative Research Units',\n",
       "  'id': 17050,\n",
       "  'link': {'href': 'https://www.sciencebase.gov/directory/organization/17050',\n",
       "   'rel': 'self'}},\n",
       " 'parentId': 17050,\n",
       " 'parentName': 'Cooperative Research Units Program',\n",
       " 'partyLocations': [{'displayName': 'VA Cooperative Research Unit [AAE]',\n",
       "   'link': {'href': 'https://www.sciencebase.gov/directory/location/597',\n",
       "    'rel': 'self'},\n",
       "   'locationId': 597,\n",
       "   'primary': True,\n",
       "   'sort': 1}],\n",
       " 'permissions': {'read': {'acl': ['PUBLIC']},\n",
       "  'write': {'acl': ['ROLE:ScienceBase_DataAdmin',\n",
       "    'ROLE:ScienceBase_Directory_DataAdmin']}},\n",
       " 'primaryLocation': {'buildingCode': 'AAE',\n",
       "  'id': 597,\n",
       "  'latitude': 37.2285,\n",
       "  'longitude': -80.4232,\n",
       "  'mailAddress': {'city': 'Blacksburg',\n",
       "   'country': 'USA',\n",
       "   'line1': 'Cheatham Hall',\n",
       "   'line2': 'VPI&SU',\n",
       "   'state': 'VA',\n",
       "   'zip': '24061'},\n",
       "  'name': 'VA Cooperative Research Unit [AAE]',\n",
       "  'streetAddress': {'city': 'Blacksburg',\n",
       "   'country': 'USA',\n",
       "   'line1': 'Cheatham Hall',\n",
       "   'line2': 'VPI&SU',\n",
       "   'state': 'VA',\n",
       "   'zip': '24061'}},\n",
       " 'privateFlag': False,\n",
       " 'smallLogoUrl': 'http://my.usgs.gov/static-cache/images/dataOwner/v1/logosSmall/USGSLogo.gif',\n",
       " 'url': 'http://www.coopunits.org/Virginia/'}"
      ]
     },
     "metadata": {},
     "output_type": "display_data"
    }
   ],
   "source": [
    "# Open up the JSON file and validate that it works showing number of cached records and an example\n",
    "with open(\"cache/usgs_orgs.json\", \"r\") as f:\n",
    "    org_cache = json.loads(f.read())\n",
    "\n",
    "print(len(org_cache))\n",
    "display(org_cache[random.randint(0,len(org_cache)-1)])"
   ]
  },
  {
   "cell_type": "code",
   "execution_count": null,
   "metadata": {},
   "outputs": [],
   "source": []
  }
 ],
 "metadata": {
  "kernelspec": {
   "display_name": "Python 3",
   "language": "python",
   "name": "python3"
  },
  "language_info": {
   "codemirror_mode": {
    "name": "ipython",
    "version": 3
   },
   "file_extension": ".py",
   "mimetype": "text/x-python",
   "name": "python",
   "nbconvert_exporter": "python",
   "pygments_lexer": "ipython3",
   "version": "3.6.4"
  }
 },
 "nbformat": 4,
 "nbformat_minor": 2
}
