{
 "cells": [
  {
   "cell_type": "markdown",
   "metadata": {},
   "source": [
    "The FWS Ecological Conservation Online System contains information about T&E species along with other information. USGS EMA staff (or others?) went through the work plan species list, determined the appropriate links to ECOS species web pages, and recorded those in one of the tables provided in the source inventory. In reviewing the various systems and access points, we found that there is information on ECOS species web pages that is not accessible through the ECOS TESS web services. We also found that the identifiers used on the ECOS species web pages do not seem to be found anywhere in the other accessible TESS interfaces. From this, we determined that we should run a rudimentary web scraping tool to gather a few usable pieces of information from the linked ECOS pages as a first step, cache this information in a file, and use it in later work.\n",
    "\n",
    "One of the main things extracted here is FWS' own determination of the appropriate ITIS species to link to. We use this in favor of running a species search whenever it's available as one avenue of establishing a linkage and retrieving information for later use.\n",
    "\n",
    "In writing the ECOS web scraper, we found that the ECOS pages are really quite hard to deal with. They are assembled dynamically from what appear to be various sources in a somewhat inconsistent way in terms of where and how the information is output to HTML/Javascript on the pages. This first scraper is kind of crude, and we'll revisit as needed down the road."
   ]
  },
  {
   "cell_type": "markdown",
   "metadata": {},
   "source": [
    "# Data prep\n",
    "The ECOS links were contained in the \"FWS 7 Year Workplan Species\" worksheet from the original \"Prelisting Science USGS Master_19Mar2018\" spreadsheet used as source material for this exercise. The links were embedded as hyperlinks on the species \"Scientific Name\" field using Excel proprietary methods. As such, we had to use a simple VBA script to extract out the links to their own field. We did this by copying the scientific name fields over to another Excel file, running the VBA macro there, and then including that as an intermediary file for processing.\n",
    "\n",
    "The ECOS Links and information we scrape from those use the Scientific Name string to link back to the main source file. The other thing that we did in this added file was to create a \"Lookup Name\" field where we corrected a few issues with name strings that make subsequent lookup steps more difficult. It's a common practice to encode some additional meaning or information about a species name in a name string, usually in fairly inconsistent ways. There are ways to tease this out programmatically, but with a list this short and a need to provide this additional file generated in a desktop application anyway, it made sense to simply take care of the few cases by hand."
   ]
  },
  {
   "cell_type": "code",
   "execution_count": 1,
   "metadata": {},
   "outputs": [],
   "source": [
    "import pandas as pd\n",
    "import bispy\n",
    "from IPython.display import display\n",
    "import json\n",
    "from joblib import Parallel, delayed\n",
    "\n",
    "ecos = bispy.tess.Ecos()\n",
    "bis_utils = bispy.bis.Utils()"
   ]
  },
  {
   "cell_type": "code",
   "execution_count": 3,
   "metadata": {},
   "outputs": [],
   "source": [
    "# Retrieve the extraction of ECOS links with scientific names from an excel file\n",
    "spp_ecos_links = pd.read_excel(\n",
    "    \"sources/AdditionalSourceData.xlsx\",\n",
    "    sheet_name=\"Extracted Species ECOS Links\"\n",
    ")\n",
    "# Put just the links into a list for processing\n",
    "ecos_link_list = spp_ecos_links[spp_ecos_links[\"ECOS Link\"].notnull()][\"ECOS Link\"].tolist()"
   ]
  },
  {
   "cell_type": "code",
   "execution_count": 5,
   "metadata": {},
   "outputs": [
    {
     "name": "stdout",
     "output_type": "stream",
     "text": [
      "CPU times: user 888 ms, sys: 95.1 ms, total: 983 ms\n",
      "Wall time: 33.6 s\n"
     ]
    }
   ],
   "source": [
    "%%time\n",
    "# Use joblib to run the scraper function in parallel\n",
    "ecos_cache = Parallel(n_jobs=8)(delayed(ecos.scrape_ecos)(url) for url in ecos_link_list)"
   ]
  },
  {
   "cell_type": "code",
   "execution_count": 7,
   "metadata": {},
   "outputs": [
    {
     "data": {
      "text/plain": [
       "{'Doc Cache File': 'cache/ecos.json',\n",
       " 'Document Number 269': {'Common Name': 'bifid duct Pyrg',\n",
       "  'Current Listing Status Summary': [{'Date Listed': '',\n",
       "    'Lead Region': 'Mountain-Prairie Region (Region 6)',\n",
       "    'Lead Region_link': 'http://www.fws.gov/mountain-prairie/',\n",
       "    'Status': 'displayListingStatus(\"Resolved Taxon\")',\n",
       "    'Where Listed': 'Wherever found'}],\n",
       "  'Federal Register Documents': [{'Citation Page': '82 FR 46618 46645',\n",
       "    'Date': '2017-10-05',\n",
       "    'Title': '12-Month Findings on Petitions To List 25 Species as Endangered or Threatened Species',\n",
       "    'Title_link': 'https://www.govinfo.gov/link/fr/82/46618?link-type=pdf'},\n",
       "   {'Citation Page': '76 FR 56608 56630',\n",
       "    'Date': '2011-09-13',\n",
       "    'Title': '90-Day Finding on a Petition To List 42 Great Basin and Mojave Desert Springsnails as Threatened or Endangered With Critical Habitat',\n",
       "    'Title_link': 'https://www.govinfo.gov/link/fr/76/56608?link-type=pdf'}],\n",
       "  'ITIS TSN': None,\n",
       "  'Processing Metadata': {'Date Processed': '2019-07-03T20:52:20.252289',\n",
       "   'Search URL': 'https://ecos.fws.gov/ecp/species/8994',\n",
       "   'Status': 'Page Successfully Retrieved'},\n",
       "  'Scientific Name': 'Pyrgulopsis peculiaris'},\n",
       " 'Number of Documents in Cache': 342}"
      ]
     },
     "metadata": {},
     "output_type": "display_data"
    }
   ],
   "source": [
    "# Cache the array of retrieved documents and return/display a random sample for verification\n",
    "display(bis_utils.doc_cache(\"cache/ecos.json\", ecos_cache))"
   ]
  },
  {
   "cell_type": "code",
   "execution_count": null,
   "metadata": {},
   "outputs": [],
   "source": []
  }
 ],
 "metadata": {
  "kernelspec": {
   "display_name": "Python 3",
   "language": "python",
   "name": "python3"
  },
  "language_info": {
   "codemirror_mode": {
    "name": "ipython",
    "version": 3
   },
   "file_extension": ".py",
   "mimetype": "text/x-python",
   "name": "python",
   "nbconvert_exporter": "python",
   "pygments_lexer": "ipython3",
   "version": "3.6.4"
  }
 },
 "nbformat": 4,
 "nbformat_minor": 2
}
