{
 "cells": [
  {
   "cell_type": "markdown",
   "metadata": {},
   "source": [
    "Perhaps one of the most important aspects of building a continuous stream of new information associated with species in the FWS work plan or other circumstances is the ability to identify and access new published literature. Many of the structured databases assembled and organized into this collection are based wholly or partly in literature references and information extracted from literature. We are currently working with the team developing the xDD Digital Library on a number of tools and techniques for a) identifying literature potentially applicable to species-based research and b) using natural language processing tools to pull specific data from those sources for use. This is an ongoing effort that will result in improved production capabilities over time.\n",
    "\n",
    "In the near term, we take advantage of some basic and enhanced search functionality to identify potential articles of interested in the xDD library of millions of documents that are increasing daily. The xdd module in the bispy package contains some search and packaging functionality that interfaces with the xDD REST API.\n",
    "\n",
    "# Data Management Considerations\n",
    "The xDD Library aspect of this overall workflow is likely the most dynamic area of the system we are building as new literature is coming out all the time and the xDD Library is continuing to expand rapidly in its work to index and process as many articles as possible. Through our partnership with University of Wisconsin-Madison and the xDD team, we also have the ability to collaborate on incorporating new sources of papers and meaningful gray literature as we dig further into sources of references that may not have yet found a route into the xDD processing engine."
   ]
  },
  {
   "cell_type": "code",
   "execution_count": 1,
   "metadata": {},
   "outputs": [],
   "source": [
    "import requests\n",
    "import bispy\n",
    "from IPython.display import display\n",
    "from joblib import Parallel, delayed\n",
    "\n",
    "xdd = bispy.xdd.Xdd()\n",
    "bis_utils = bispy.bis.Utils()\n",
    "\n",
    "import helperfunctions"
   ]
  },
  {
   "cell_type": "code",
   "execution_count": 2,
   "metadata": {},
   "outputs": [],
   "source": [
    "name_list = helperfunctions.workplan_species()"
   ]
  },
  {
   "cell_type": "code",
   "execution_count": 3,
   "metadata": {},
   "outputs": [],
   "source": [
    "# Use joblib to run multiple requests for SGCN records in parallel via scientific names\n",
    "xdd_results = Parallel(n_jobs=8)(delayed(xdd.snippets)(name) for name, name_source in name_list)\n"
   ]
  },
  {
   "cell_type": "markdown",
   "metadata": {},
   "source": [
    "Since the xDD snippets function used here is not specific to a scientific name search, we run through the results and insert a couple of additional metadata attributes to allow us to compare across collections of available information with scientific name and source."
   ]
  },
  {
   "cell_type": "code",
   "execution_count": 4,
   "metadata": {},
   "outputs": [],
   "source": [
    "xdd_common_structure = list()\n",
    "\n",
    "for result in xdd_results:\n",
    "    name_used = next((r for r in name_list if r[0] == result[\"Processing Metadata\"][\"Search Term\"]), None)\n",
    "    result[\"Processing Metadata\"][\"Scientific Name\"] = name_used[0]\n",
    "    result[\"Processing Metadata\"][\"Name Source\"] = name_used[1]\n",
    "    xdd_common_structure.append(result)\n",
    "    "
   ]
  },
  {
   "cell_type": "code",
   "execution_count": 5,
   "metadata": {},
   "outputs": [
    {
     "data": {
      "text/plain": [
       "{'Doc Cache File': 'cache/xdd.json',\n",
       " 'Document Number 331': {'Data': [{'URL': 'http://www.tandfonline.com/doi/abs/10.1080/03632415.2013.808501',\n",
       "    '_gddid': '5954d6b7cf58f173914c46ea',\n",
       "    'authors': '',\n",
       "    'coverDate': '2013 06',\n",
       "    'doi': '10.1080/03632415.2013.808501',\n",
       "    'highlight': ['Valley Cave, Kentucky; Alabama. Bottom Row (L-R) Pyrgulopsis coloradensis, USNM',\n",
       "     'Bottom Row (L-R) Pyrgulopsis coloradensis, USNM 854641, Blue Point Spring, Nevada;',\n",
       "     'Frest, Liu, and Ash Valley Pyrg Johannes, 2003  E  Pyrgulopsis coloradensis Hershler,',\n",
       "     'Johannes, 2003  E  Pyrgulopsis coloradensis Hershler, 1998  Blue Point Pyrg  E  Pyrgulopsis'],\n",
       "    'publisher': 'Taylor and Francis',\n",
       "    'pubname': 'Fisheries',\n",
       "    'title': 'Full Issue PDF Volume 38, Issue 6'},\n",
       "   {'URL': 'http://www.tandfonline.com/doi/abs/10.1080/03632415.2013.785396',\n",
       "    '_gddid': '5954d6cdcf58f173914c4757',\n",
       "    'authors': 'Johnson, Paul D.; Bogan, Arthur E.; Brown, Kenneth M.; Burkhead, Noel M.; Cordeiro, James R.; Garner, Jeffrey T.; Hartfield, Paul D.; Lepitzki, Dwayne A. W.; Mackie, Gerry L.; Pip, Eva; Tarpley, Thomas A.; Tiemann, Jeremy S.; Whelan, Nathan V.; Strong, Ellen E.',\n",
       "    'coverDate': '2013 06',\n",
       "    'doi': '10.1080/03632415.2013.785396',\n",
       "    'highlight': ['Valley Cave, Kentucky; Alabama. Bottom Row (L-R) Pyrgulopsis coloradensis, USNM',\n",
       "     'Bottom Row (L-R) Pyrgulopsis coloradensis, USNM 854641, Blue Point Spring, Nevada;',\n",
       "     'Frest, Liu, and Ash Valley Pyrg Johannes, 2003  E  Pyrgulopsis coloradensis Hershler,',\n",
       "     'Johannes, 2003  E  Pyrgulopsis coloradensis Hershler, 1998  Blue Point Pyrg  E  Pyrgulopsis'],\n",
       "    'publisher': 'Taylor and Francis',\n",
       "    'pubname': 'Fisheries',\n",
       "    'title': 'Conservation Status of Freshwater Gastropods of Canada and the United States'}],\n",
       "  'Processing Metadata': {'Date Processed': '2019-07-10T14:50:14.198895',\n",
       "   'Name Source': 'Lookup Name',\n",
       "   'Number Documents': 2,\n",
       "   'Scientific Name': 'Pyrgulopsis coloradensis',\n",
       "   'Search Term': 'Pyrgulopsis coloradensis',\n",
       "   'Search URL': 'https://geodeepdive.org/api/snippets?full_results&clean&term=Pyrgulopsis coloradensis',\n",
       "   'Status': 'Success'}},\n",
       " 'Number of Documents in Cache': 385}"
      ]
     },
     "metadata": {},
     "output_type": "display_data"
    }
   ],
   "source": [
    "# Cache the array of retrieved documents and return/display a random sample for verification\n",
    "display(bis_utils.doc_cache(\"cache/xdd.json\", xdd_common_structure))"
   ]
  },
  {
   "cell_type": "code",
   "execution_count": null,
   "metadata": {},
   "outputs": [],
   "source": []
  }
 ],
 "metadata": {
  "kernelspec": {
   "display_name": "Python 3",
   "language": "python",
   "name": "python3"
  },
  "language_info": {
   "codemirror_mode": {
    "name": "ipython",
    "version": 3
   },
   "file_extension": ".py",
   "mimetype": "text/x-python",
   "name": "python",
   "nbconvert_exporter": "python",
   "pygments_lexer": "ipython3",
   "version": "3.6.4"
  }
 },
 "nbformat": 4,
 "nbformat_minor": 2
}
