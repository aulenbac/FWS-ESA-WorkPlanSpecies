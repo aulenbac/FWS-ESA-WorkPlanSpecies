{
 "cells": [
  {
   "cell_type": "markdown",
   "metadata": {},
   "source": [
    "It is often useful to gain a basic understanding of what species observation records may exist for potential use in modeling and analysis. The Global Biodiversity Information Facility (GBIF) is one source of observation data with a robust API that lends itself to a process for relatively rapid summarization in this context of building out a species information catalog. This notebook exercises an experimental function that ties together a couple aspects of the GBIF API to make a reasonable guess at a species identifier (from the GBIF taxonomic hub) and pull back a basic characterization of US-based occurrences. The three facets of the occurrence records that we can reasonably assemble quickly at this time include the following:\n",
    "\n",
    "* basisOfRecord - The Darwin Core term that describes what the basis is for the species occurrence, mostly helping to distinguish between museum specimens (which may or may not have accurate spatial information for where the specimen was collected in the field) and human observations (or other methods of observing) a species.\n",
    "* year - Provides a basic time series by year for the number of occurrences.\n",
    "* institutionCode - Somewhat obscure set of codes/terms for the institution providing the record. Further details exist behind this, but the codes can help provide a basic idea on where the records come from."
   ]
  },
  {
   "cell_type": "code",
   "execution_count": 1,
   "metadata": {},
   "outputs": [],
   "source": [
    "import requests\n",
    "import bispy\n",
    "from IPython.display import display\n",
    "from joblib import Parallel, delayed\n",
    "\n",
    "gbif = bispy.gbif.Gbif()\n",
    "bis_utils = bispy.bis.Utils()\n",
    "\n",
    "import helperfunctions"
   ]
  },
  {
   "cell_type": "code",
   "execution_count": 2,
   "metadata": {},
   "outputs": [],
   "source": [
    "name_list = helperfunctions.workplan_species()"
   ]
  },
  {
   "cell_type": "code",
   "execution_count": 3,
   "metadata": {},
   "outputs": [
    {
     "name": "stdout",
     "output_type": "stream",
     "text": [
      "CPU times: user 1.09 s, sys: 137 ms, total: 1.23 s\n",
      "Wall time: 1min 15s\n"
     ]
    }
   ],
   "source": [
    "%%time\n",
    "# Use joblib to run multiple requests for records in parallel via scientific names\n",
    "gbif_results = Parallel(n_jobs=8)(delayed(gbif.summarize_us_species)(name, name_source) for name, name_source in name_list)\n"
   ]
  },
  {
   "cell_type": "code",
   "execution_count": 4,
   "metadata": {},
   "outputs": [
    {
     "data": {
      "text/plain": [
       "{'Doc Cache File': 'cache/gbif.json',\n",
       " 'Document Number 236': {'GBIF Species Record': {'canonicalName': 'Percina macrocephala',\n",
       "   'class': 'Actinopterygii',\n",
       "   'classKey': 204,\n",
       "   'family': 'Percidae',\n",
       "   'familyKey': 4481,\n",
       "   'genus': 'Percina',\n",
       "   'genusKey': 2382030,\n",
       "   'higherClassificationMap': {'1': 'Animalia',\n",
       "    '204': 'Actinopterygii',\n",
       "    '2382030': 'Percina',\n",
       "    '44': 'Chordata',\n",
       "    '4481': 'Percidae',\n",
       "    '587': 'Perciformes'},\n",
       "   'key': 2382086,\n",
       "   'kingdom': 'Animalia',\n",
       "   'kingdomKey': 1,\n",
       "   'nubKey': 2382086,\n",
       "   'order': 'Perciformes',\n",
       "   'orderKey': 587,\n",
       "   'parent': 'Percina',\n",
       "   'parentKey': 2382030,\n",
       "   'phylum': 'Chordata',\n",
       "   'phylumKey': 44,\n",
       "   'rank': 'SPECIES',\n",
       "   'scientificName': 'Percina macrocephala (Cope, 1867)',\n",
       "   'species': 'Percina macrocephala',\n",
       "   'speciesKey': 2382086,\n",
       "   'status': 'ACCEPTED',\n",
       "   'synonym': False},\n",
       "  'Occurrence Summary': {'count': 315,\n",
       "   'facets': [{'counts': [{'count': 152, 'name': 'ntsrv'},\n",
       "      {'count': 24, 'name': 'cumv'},\n",
       "      {'count': 21, 'name': 'usnm'},\n",
       "      {'count': 20, 'name': 'uwfc'},\n",
       "      {'count': 19, 'name': 'ua'},\n",
       "      {'count': 14, 'name': 'ummz'},\n",
       "      {'count': 9,\n",
       "       'name': 'ohio state university - fish division, columbus, oh (osum)'},\n",
       "      {'count': 6, 'name': 'ypm'},\n",
       "      {'count': 5, 'name': 'cas'},\n",
       "      {'count': 4, 'name': 'fishbase'}],\n",
       "     'field': 'INSTITUTION_CODE'},\n",
       "    {'counts': [{'count': 158, 'name': 'PRESERVED_SPECIMEN'},\n",
       "      {'count': 108, 'name': 'HUMAN_OBSERVATION'},\n",
       "      {'count': 49, 'name': 'UNKNOWN'}],\n",
       "     'field': 'BASIS_OF_RECORD'},\n",
       "    {'counts': [{'count': 15, 'name': '1986'},\n",
       "      {'count': 12, 'name': '1890'},\n",
       "      {'count': 11, 'name': '1985'},\n",
       "      {'count': 10, 'name': '2008'},\n",
       "      {'count': 9, 'name': '1937'},\n",
       "      {'count': 9, 'name': '1961'},\n",
       "      {'count': 8, 'name': '1979'},\n",
       "      {'count': 8, 'name': '1998'},\n",
       "      {'count': 8, 'name': '2004'},\n",
       "      {'count': 7, 'name': '1947'}],\n",
       "     'field': 'YEAR'}]},\n",
       "  'Processing Metadata': {'API': ['https://api.gbif.org/v1/occurrence/search?country=US&limit=0&facet=institutionCode&facet=year&facet=basisOfRecord&taxon-Key=2382086'],\n",
       "   'Date Processed': '2019-07-10T15:21:36.609560',\n",
       "   'Name Source': 'Lookup Name',\n",
       "   'Scientific Name': 'Percina macrocephala',\n",
       "   'Search URL': 'https://api.gbif.org/v1/species/suggest?q=Percina macrocephala',\n",
       "   'Status': 'success',\n",
       "   'Summary Result': 'Matched'}},\n",
       " 'Number of Documents in Cache': 385}"
      ]
     },
     "metadata": {},
     "output_type": "display_data"
    }
   ],
   "source": [
    "# Cache the array of retrieved documents and return/display a random sample for verification\n",
    "display(bis_utils.doc_cache(\"cache/gbif.json\", gbif_results))"
   ]
  },
  {
   "cell_type": "code",
   "execution_count": null,
   "metadata": {},
   "outputs": [],
   "source": []
  }
 ],
 "metadata": {
  "kernelspec": {
   "display_name": "Python 3",
   "language": "python",
   "name": "python3"
  },
  "language_info": {
   "codemirror_mode": {
    "name": "ipython",
    "version": 3
   },
   "file_extension": ".py",
   "mimetype": "text/x-python",
   "name": "python",
   "nbconvert_exporter": "python",
   "pygments_lexer": "ipython3",
   "version": "3.6.4"
  }
 },
 "nbformat": 4,
 "nbformat_minor": 2
}
