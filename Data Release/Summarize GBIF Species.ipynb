{
 "cells": [
  {
   "cell_type": "markdown",
   "metadata": {},
   "source": [
    "It is often useful to gain a basic understanding of what species observation records may exist for potential use in modeling and analysis. The Global Biodiversity Information Facility (GBIF) is one source of observation data with a robust API that lends itself to a process for relatively rapid summarization in this context of building out a species information catalog. This notebook exercises an experimental function that ties together a couple aspects of the GBIF API to make a reasonable guess at a species identifier (from the GBIF taxonomic hub) and pull back a basic characterization of US-based occurrences. The three facets of the occurrence records that we can reasonably assemble quickly at this time include the following:\n",
    "\n",
    "* basisOfRecord - The Darwin Core term that describes what the basis is for the species occurrence, mostly helping to distinguish between museum specimens (which may or may not have accurate spatial information for where the specimen was collected in the field) and human observations (or other methods of observing) a species.\n",
    "* year - Provides a basic time series by year for the number of occurrences.\n",
    "* institutionCode - Somewhat obscure set of codes/terms for the institution providing the record. Further details exist behind this, but the codes can help provide a basic idea on where the records come from."
   ]
  },
  {
   "cell_type": "code",
   "execution_count": 1,
   "metadata": {},
   "outputs": [],
   "source": [
    "import requests\n",
    "import json\n",
    "import bispy\n",
    "from IPython.display import display\n",
    "from joblib import Parallel, delayed\n",
    "import random\n",
    "\n",
    "gbif = bispy.gbif.Gbif()\n",
    "bis_utils = bispy.bis.Utils()"
   ]
  },
  {
   "cell_type": "code",
   "execution_count": 2,
   "metadata": {},
   "outputs": [
    {
     "name": "stdout",
     "output_type": "stream",
     "text": [
      "CPU times: user 2.2 ms, sys: 1.59 ms, total: 3.79 ms\n",
      "Wall time: 4.4 ms\n"
     ]
    }
   ],
   "source": [
    "# Open up the cached workplan species\n",
    "with open(\"cache/workplan_species.json\", \"r\") as f:\n",
    "    workplan_species = json.loads(f.read())"
   ]
  },
  {
   "cell_type": "code",
   "execution_count": 3,
   "metadata": {},
   "outputs": [
    {
     "name": "stdout",
     "output_type": "stream",
     "text": [
      "CPU times: user 1.01 s, sys: 122 ms, total: 1.13 s\n",
      "Wall time: 2min 36s\n"
     ]
    }
   ],
   "source": [
    "%%time\n",
    "# Use joblib to run multiple requests for records in parallel via scientific names\n",
    "gbif_results = Parallel(n_jobs=8)(delayed(gbif.summarize_us_species)(name) for name in [r[\"Scientific Name\"] for r in workplan_species])\n"
   ]
  },
  {
   "cell_type": "code",
   "execution_count": 4,
   "metadata": {},
   "outputs": [
    {
     "data": {
      "text/plain": [
       "{'Doc Cache File': 'cache/gbif.json',\n",
       " 'Document Number 182': {'GBIF Species Record': {'canonicalName': 'Balduina atropurpurea',\n",
       "   'class': 'Magnoliopsida',\n",
       "   'classKey': 220,\n",
       "   'family': 'Asteraceae',\n",
       "   'familyKey': 3065,\n",
       "   'genus': 'Balduina',\n",
       "   'genusKey': 3104987,\n",
       "   'higherClassificationMap': {'220': 'Magnoliopsida',\n",
       "    '3065': 'Asteraceae',\n",
       "    '3104987': 'Balduina',\n",
       "    '414': 'Asterales',\n",
       "    '6': 'Plantae',\n",
       "    '7707728': 'Tracheophyta'},\n",
       "   'key': 3104996,\n",
       "   'kingdom': 'Plantae',\n",
       "   'kingdomKey': 6,\n",
       "   'nubKey': 3104996,\n",
       "   'order': 'Asterales',\n",
       "   'orderKey': 414,\n",
       "   'parent': 'Balduina',\n",
       "   'parentKey': 3104987,\n",
       "   'phylum': 'Tracheophyta',\n",
       "   'phylumKey': 7707728,\n",
       "   'rank': 'SPECIES',\n",
       "   'scientificName': 'Balduina atropurpurea R.M.Harper',\n",
       "   'species': 'Balduina atropurpurea',\n",
       "   'speciesKey': 3104996,\n",
       "   'status': 'ACCEPTED',\n",
       "   'synonym': False},\n",
       "  'Occurrence Summary': {'count': 172,\n",
       "   'facets': [{'counts': [{'count': 81, 'name': 'HUMAN_OBSERVATION'},\n",
       "      {'count': 76, 'name': 'PRESERVED_SPECIMEN'},\n",
       "      {'count': 15, 'name': 'UNKNOWN'}],\n",
       "     'field': 'BASIS_OF_RECORD'},\n",
       "    {'counts': [{'count': 99, 'name': 'ntsrv'},\n",
       "      {'count': 16, 'name': 'flas'},\n",
       "      {'count': 15, 'name': 'ncu'},\n",
       "      {'count': 13, 'name': 'usf'},\n",
       "      {'count': 10, 'name': 'us'},\n",
       "      {'count': 5, 'name': 'usch'},\n",
       "      {'count': 3, 'name': 'tenn'},\n",
       "      {'count': 2, 'name': 'ftg'},\n",
       "      {'count': 2, 'name': 'ny'},\n",
       "      {'count': 1, 'name': 'e'}],\n",
       "     'field': 'INSTITUTION_CODE'},\n",
       "    {'counts': [{'count': 12, 'name': '1968'},\n",
       "      {'count': 12, 'name': '2001'},\n",
       "      {'count': 9, 'name': '1992'},\n",
       "      {'count': 9, 'name': '1995'},\n",
       "      {'count': 8, 'name': '1900'},\n",
       "      {'count': 8, 'name': '1998'},\n",
       "      {'count': 8, 'name': '2012'},\n",
       "      {'count': 5, 'name': '1921'},\n",
       "      {'count': 5, 'name': '1999'},\n",
       "      {'count': 5, 'name': '2003'}],\n",
       "     'field': 'YEAR'}]},\n",
       "  'Processing Metadata': {'API': ['https://api.gbif.org/v1/species/suggest?q=Balduina atropurpurea',\n",
       "    'https://api.gbif.org/v1/occurrence/search?country=US&limit=0&facet=institutionCode&facet=year&facet=basisOfRecord&taxon-Key=3104996'],\n",
       "   'Date Processed': '2019-07-03T18:20:50.939823',\n",
       "   'GBIF Species Suggestions': 1,\n",
       "   'Scientific Name': 'Balduina atropurpurea'}},\n",
       " 'Number of Documents in Cache': 363}"
      ]
     },
     "metadata": {},
     "output_type": "display_data"
    }
   ],
   "source": [
    "# Cache the array of retrieved documents and return/display a random sample for verification\n",
    "display(bis_utils.doc_cache(\"cache/gbif.json\", gbif_results))"
   ]
  },
  {
   "cell_type": "code",
   "execution_count": null,
   "metadata": {},
   "outputs": [],
   "source": []
  }
 ],
 "metadata": {
  "kernelspec": {
   "display_name": "Python 3",
   "language": "python",
   "name": "python3"
  },
  "language_info": {
   "codemirror_mode": {
    "name": "ipython",
    "version": 3
   },
   "file_extension": ".py",
   "mimetype": "text/x-python",
   "name": "python",
   "nbconvert_exporter": "python",
   "pygments_lexer": "ipython3",
   "version": "3.6.4"
  }
 },
 "nbformat": 4,
 "nbformat_minor": 2
}
