{
 "cells": [
  {
   "cell_type": "markdown",
   "metadata": {},
   "source": [
    "The World Register of Marine Species (WoRMS) is another taxonomic authority we use in our work. In the case of the FWS work plan species, we mostly rely on ITIS as that is the taxonomic authority most used by FWS, and ITIS TSNs are determined/declared for most species. This notebook follows the ITIS caching process to retrieve any unmatched names and try them against WoRMS using the worms module of the bispy package."
   ]
  },
  {
   "cell_type": "code",
   "execution_count": 1,
   "metadata": {},
   "outputs": [],
   "source": [
    "import requests\n",
    "import json\n",
    "import bispy\n",
    "from IPython.display import display\n",
    "from joblib import Parallel, delayed\n",
    "import random\n",
    "\n",
    "worms = bispy.worms.Worms()"
   ]
  },
  {
   "cell_type": "code",
   "execution_count": 2,
   "metadata": {},
   "outputs": [],
   "source": [
    "with open(\"cache/itis.json\", \"r\") as f:\n",
    "    itis_cache = json.loads(f.read())"
   ]
  },
  {
   "cell_type": "code",
   "execution_count": 4,
   "metadata": {},
   "outputs": [],
   "source": [
    "#Unwind the ITIS URLs into names\n",
    "unmatched_itis_names = [i[\"Processing Metadata\"][\"Detailed Results\"][0][\"Exact Match Fail\"].replace(\"http://services.itis.gov/?wt=json&rows=10&q=nameWOInd:\", \"\").replace(\"\\\\%20\", \" \") for i in itis_cache if i[\"Processing Metadata\"][\"Summary Result\"] == \"Not Matched\"]\n"
   ]
  },
  {
   "cell_type": "code",
   "execution_count": 5,
   "metadata": {},
   "outputs": [],
   "source": [
    "# Use joblib to run multiple searches for WoRMS species in parallel via species names\n",
    "worms_result = Parallel(n_jobs=8)(delayed(worms.search)(name) for name in unmatched_itis_names)"
   ]
  },
  {
   "cell_type": "code",
   "execution_count": 7,
   "metadata": {},
   "outputs": [],
   "source": [
    "# We're just going to use the exact match records from WoRMS at this point\n",
    "worms_cache = [w for w in worms_result if w[\"Processing Metadata\"][\"Summary Result\"] == \"Exact Match\"]"
   ]
  },
  {
   "cell_type": "code",
   "execution_count": 8,
   "metadata": {},
   "outputs": [],
   "source": [
    "# Dump the WoRMS data to a cache file\n",
    "with open(\"cache/worms.json\", \"w\") as f:\n",
    "    f.write(json.dumps(worms_cache, indent=4))"
   ]
  },
  {
   "cell_type": "code",
   "execution_count": 9,
   "metadata": {},
   "outputs": [
    {
     "name": "stdout",
     "output_type": "stream",
     "text": [
      "24\n"
     ]
    },
    {
     "data": {
      "text/plain": [
       "{'Processing Metadata': {'Date Processed': '2019-07-01T19:08:16.587424',\n",
       "  'Search URL': 'http://www.marinespecies.org/rest/AphiaRecordsByName/Pyrgulopsis coloradensis?like=false&marine_only=false&offset=1',\n",
       "  'Status': 'Error',\n",
       "  'Summary Result': 'Exact Match'},\n",
       " 'wormsData': [{'AphiaID': 1346746,\n",
       "   'authority': 'Hershler, 1998',\n",
       "   'citation': 'MolluscaBase (2019). MolluscaBase. Pyrgulopsis coloradensis Hershler, 1998. Accessed through: World Register of Marine Species at: http://www.marinespecies.org/aphia.php?p=taxdetails&id=1346746 on 2019-07-01',\n",
       "   'class': 'Gastropoda',\n",
       "   'family': 'Hydrobiidae',\n",
       "   'genus': 'Pyrgulopsis',\n",
       "   'isBrackish': 0,\n",
       "   'isExtinct': 0,\n",
       "   'isFreshwater': 1,\n",
       "   'isMarine': 0,\n",
       "   'isTerrestrial': 0,\n",
       "   'kingdom': 'Animalia',\n",
       "   'lsid': 'urn:lsid:marinespecies.org:taxname:1346746',\n",
       "   'match_type': 'exact',\n",
       "   'modified': '2019-05-16T06:59:02.523Z',\n",
       "   'order': 'Littorinimorpha',\n",
       "   'parentNameUsageID': 717226,\n",
       "   'phylum': 'Mollusca',\n",
       "   'rank': 'Species',\n",
       "   'scientificname': 'Pyrgulopsis coloradensis',\n",
       "   'status': 'accepted',\n",
       "   'taxonRankID': 220,\n",
       "   'taxonomy': [{'name': 'Animalia', 'rank': 'kingdom'},\n",
       "    {'name': 'Mollusca', 'rank': 'phylum'},\n",
       "    {'name': 'Gastropoda', 'rank': 'class'},\n",
       "    {'name': 'Littorinimorpha', 'rank': 'order'},\n",
       "    {'name': 'Hydrobiidae', 'rank': 'family'},\n",
       "    {'name': 'Pyrgulopsis', 'rank': 'genus'},\n",
       "    {'name': 'Pyrgulopsis coloradensis', 'rank': 'Species'}],\n",
       "   'unacceptreason': None,\n",
       "   'url': 'http://www.marinespecies.org/aphia.php?p=taxdetails&id=1346746',\n",
       "   'valid_AphiaID': 1346746,\n",
       "   'valid_authority': 'Hershler, 1998',\n",
       "   'valid_name': 'Pyrgulopsis coloradensis'}]}"
      ]
     },
     "metadata": {},
     "output_type": "display_data"
    }
   ],
   "source": [
    "# Open the file back up and verify\n",
    "with open(\"cache/worms.json\", \"r\") as f:\n",
    "    worms_cache = json.loads(f.read())\n",
    "\n",
    "print(len(worms_cache))\n",
    "display(worms_cache[random.randint(0,len(worms_cache)-1)])"
   ]
  },
  {
   "cell_type": "code",
   "execution_count": null,
   "metadata": {},
   "outputs": [],
   "source": []
  }
 ],
 "metadata": {
  "kernelspec": {
   "display_name": "Python 3",
   "language": "python",
   "name": "python3"
  },
  "language_info": {
   "codemirror_mode": {
    "name": "ipython",
    "version": 3
   },
   "file_extension": ".py",
   "mimetype": "text/x-python",
   "name": "python",
   "nbconvert_exporter": "python",
   "pygments_lexer": "ipython3",
   "version": "3.6.4"
  }
 },
 "nbformat": 4,
 "nbformat_minor": 2
}
