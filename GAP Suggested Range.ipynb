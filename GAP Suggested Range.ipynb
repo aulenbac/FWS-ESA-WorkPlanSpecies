{
 "cells": [
  {
   "cell_type": "markdown",
   "metadata": {},
   "source": [
    "As an additional exploration with the species identified as having GAP habitat maps available, this notebook explores adding a view of GAP habitat metrics to the cache of information. This may be useful in determining where else species may have range within states. The process uses the 2018 US State boundaries from Census, the GAP range bounding box (generated previously in the basic caching of GAP species data from the GAP range services), and a set of pre-calculated GAP metrics that include acres within specific protection status designations in each state. It first finds a basic intersection of the range bounding box with a set of states, retrieves the total state metrics for all GAP species, and then filters to an individual species (no current query criteria for this at the API). This information is then cached for further reference."
   ]
  },
  {
   "cell_type": "code",
   "execution_count": 1,
   "metadata": {},
   "outputs": [],
   "source": [
    "import geopandas as gpd\n",
    "import json\n",
    "import random\n",
    "import requests\n",
    "from IPython.display import display\n",
    "import bispy\n",
    "\n",
    "gap = bispy.gap.Gap()"
   ]
  },
  {
   "cell_type": "code",
   "execution_count": 2,
   "metadata": {},
   "outputs": [],
   "source": [
    "us_states = gpd.read_file(\"https://www2.census.gov/geo/tiger/TIGER2018/STATE/tl_2018_us_state.zip\")"
   ]
  },
  {
   "cell_type": "code",
   "execution_count": 3,
   "metadata": {},
   "outputs": [],
   "source": [
    "# Open the file back up and verify\n",
    "with open(\"cache/gap.json\", \"r\") as f:\n",
    "    gap_cache = json.loads(f.read())\n"
   ]
  },
  {
   "cell_type": "code",
   "execution_count": 7,
   "metadata": {
    "scrolled": true
   },
   "outputs": [],
   "source": [
    "gap_metrics_cache = list()\n",
    "for gap_species in gap_cache:\n",
    "    gap_metrics_cache.append(gap.gap_metrics_species(us_states, gap_species[\"GAP Species\"][\"GAP_SpeciesCode\"], gap_species[\"GAP Species\"][\"Range Bounding Box\"]))\n"
   ]
  },
  {
   "cell_type": "code",
   "execution_count": 8,
   "metadata": {},
   "outputs": [],
   "source": [
    "# Dump the records we discovered and package to a cache file\n",
    "# I need to revisit this once I get some things cleared up with taxonomic matching to hopefully find more GAP records\n",
    "with open(\"cache/gap_metrics.json\", \"w\") as f:\n",
    "    f.write(json.dumps(gap_metrics_cache, indent=4))"
   ]
  },
  {
   "cell_type": "code",
   "execution_count": 9,
   "metadata": {},
   "outputs": [
    {
     "name": "stdout",
     "output_type": "stream",
     "text": [
      "58\n"
     ]
    },
    {
     "data": {
      "text/plain": [
       "{'GAP_SpeciesCode': 'bLEPCx',\n",
       " 'State Metrics': [{'gapstat123ac': 75469.689938115,\n",
       "   'gapstat123group': '1-10',\n",
       "   'gapstat123perc': 5.71040962155642,\n",
       "   'gapstat12ac': 40555.4787615582,\n",
       "   'gapstat12group': '1-10',\n",
       "   'gapstat12perc': 3.06862789971353,\n",
       "   'gapstat1ac': 0.0,\n",
       "   'gapstat1perc': 0.0,\n",
       "   'gapstat2ac': 40555.4787615582,\n",
       "   'gapstat2perc': 3.06862789971353,\n",
       "   'gapstat3ac': 34914.2111765568,\n",
       "   'gapstat3perc': 2.64178172184289,\n",
       "   'gapstat4ac': 1246146.3575906274,\n",
       "   'gapstat4perc': 94.2895903784436,\n",
       "   'id': 14800,\n",
       "   'spp_comname': 'Lesser Prairie-chicken',\n",
       "   'spp_sciname': 'Tympanuchus pallidicinctus',\n",
       "   'sppcode': 'bLEPCx',\n",
       "   'state_fipscode': '35',\n",
       "   'state_name': 'New Mexico',\n",
       "   'taxa': 'B',\n",
       "   'totalac': 1321616.0475287423},\n",
       "  {'gapstat123ac': 174910.6528078923,\n",
       "   'gapstat123group': '1-10',\n",
       "   'gapstat123perc': 6.64037883121997,\n",
       "   'gapstat12ac': 48320.1723065688,\n",
       "   'gapstat12group': '1-10',\n",
       "   'gapstat12perc': 1.83444658260954,\n",
       "   'gapstat1ac': 0.0,\n",
       "   'gapstat1perc': 0.0,\n",
       "   'gapstat2ac': 48320.1723065688,\n",
       "   'gapstat2perc': 1.83444658260954,\n",
       "   'gapstat3ac': 126590.4805013235,\n",
       "   'gapstat3perc': 4.80593224861044,\n",
       "   'gapstat4ac': 2459135.645658451,\n",
       "   'gapstat4perc': 93.35962116878,\n",
       "   'id': 4299,\n",
       "   'spp_comname': 'Lesser Prairie-chicken',\n",
       "   'spp_sciname': 'Tympanuchus pallidicinctus',\n",
       "   'sppcode': 'bLEPCx',\n",
       "   'state_fipscode': '08',\n",
       "   'state_name': 'Colorado',\n",
       "   'taxa': 'B',\n",
       "   'totalac': 2634046.2984663434},\n",
       "  {'gapstat123ac': 30835.2673629279,\n",
       "   'gapstat123group': '<1',\n",
       "   'gapstat123perc': 0.456276624651456,\n",
       "   'gapstat12ac': 29439.0725392017,\n",
       "   'gapstat12group': '<1',\n",
       "   'gapstat12perc': 0.435616805035573,\n",
       "   'gapstat1ac': 0.0,\n",
       "   'gapstat1perc': 0.0,\n",
       "   'gapstat2ac': 29439.0725392017,\n",
       "   'gapstat2perc': 0.435616805035573,\n",
       "   'gapstat3ac': 1396.1948237262,\n",
       "   'gapstat3perc': 0.0206598196158833,\n",
       "   'gapstat4ac': 6727185.130127864,\n",
       "   'gapstat4perc': 99.5437233753485,\n",
       "   'id': 20411,\n",
       "   'spp_comname': 'Lesser Prairie-chicken',\n",
       "   'spp_sciname': 'Tympanuchus pallidicinctus',\n",
       "   'sppcode': 'bLEPCx',\n",
       "   'state_fipscode': '48',\n",
       "   'state_name': 'Texas',\n",
       "   'taxa': 'B',\n",
       "   'totalac': 6758020.397490792},\n",
       "  {'gapstat123ac': 115221.2113425897,\n",
       "   'gapstat123group': '1-10',\n",
       "   'gapstat123perc': 2.40376359953082,\n",
       "   'gapstat12ac': 78215.3766685584,\n",
       "   'gapstat12group': '1-10',\n",
       "   'gapstat12perc': 1.63174187433644,\n",
       "   'gapstat1ac': 0.0,\n",
       "   'gapstat1perc': 0.0,\n",
       "   'gapstat2ac': 78215.3766685584,\n",
       "   'gapstat2perc': 1.63174187433644,\n",
       "   'gapstat3ac': 37005.8346740313,\n",
       "   'gapstat3perc': 0.772021725194376,\n",
       "   'gapstat4ac': 4678145.797171856,\n",
       "   'gapstat4perc': 97.5962364004692,\n",
       "   'id': 17149,\n",
       "   'spp_comname': 'Lesser Prairie-chicken',\n",
       "   'spp_sciname': 'Tympanuchus pallidicinctus',\n",
       "   'sppcode': 'bLEPCx',\n",
       "   'state_fipscode': '40',\n",
       "   'state_name': 'Oklahoma',\n",
       "   'taxa': 'B',\n",
       "   'totalac': 4793367.008514446},\n",
       "  {'gapstat123ac': 67857.5592553338,\n",
       "   'gapstat123group': '<1',\n",
       "   'gapstat123perc': 0.613089310705626,\n",
       "   'gapstat12ac': 20420.9616596067,\n",
       "   'gapstat12group': '<1',\n",
       "   'gapstat12perc': 0.184502263936795,\n",
       "   'gapstat1ac': 0.0,\n",
       "   'gapstat1perc': 0.0,\n",
       "   'gapstat2ac': 20420.9616596067,\n",
       "   'gapstat2perc': 0.184502263936795,\n",
       "   'gapstat3ac': 47436.5975957271,\n",
       "   'gapstat3perc': 0.428587046768831,\n",
       "   'gapstat4ac': 11000278.52963425,\n",
       "   'gapstat4perc': 99.3869106892944,\n",
       "   'id': 8518,\n",
       "   'spp_comname': 'Lesser Prairie-chicken',\n",
       "   'spp_sciname': 'Tympanuchus pallidicinctus',\n",
       "   'sppcode': 'bLEPCx',\n",
       "   'state_fipscode': '20',\n",
       "   'state_name': 'Kansas',\n",
       "   'taxa': 'B',\n",
       "   'totalac': 11068136.088889584}]}"
      ]
     },
     "metadata": {},
     "output_type": "display_data"
    }
   ],
   "source": [
    "# Open the file back up and verify\n",
    "with open(\"cache/gap_metrics.json\", \"r\") as f:\n",
    "    gap_metrics_cache = json.loads(f.read())\n",
    "\n",
    "print(len(gap_metrics_cache))\n",
    "display(gap_metrics_cache[random.randint(0,len(gap_metrics_cache)-1)])"
   ]
  },
  {
   "cell_type": "code",
   "execution_count": null,
   "metadata": {},
   "outputs": [],
   "source": []
  }
 ],
 "metadata": {
  "kernelspec": {
   "display_name": "Python 3",
   "language": "python",
   "name": "python3"
  },
  "language_info": {
   "codemirror_mode": {
    "name": "ipython",
    "version": 3
   },
   "file_extension": ".py",
   "mimetype": "text/x-python",
   "name": "python",
   "nbconvert_exporter": "python",
   "pygments_lexer": "ipython3",
   "version": "3.6.4"
  }
 },
 "nbformat": 4,
 "nbformat_minor": 2
}
