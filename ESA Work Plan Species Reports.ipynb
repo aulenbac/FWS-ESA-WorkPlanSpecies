{
 "cells": [
  {
   "cell_type": "markdown",
   "metadata": {},
   "source": [
    "The \"ESA WP Species TIR Processing\" notebook ran through the basic processing of the set of work plan species using Taxa Information Registry functions to populate a bunch of data for further exploration and analysis. These data were placed into a MongoDB collection as part of an experimental platform we work with on the ESIP Testbed. The data are accessible right now through a low level API with authentication through Python, R, or other code. Once we determine what aspects of these data are interesting for further use, we will build out a higher level API and features for more simplified access for other users, including making data public or providing simple authentication methods.\n",
    "\n",
    "This notebook runs through a series of sections that attempt to tease out potentially interesting dynamics from the data for further use in conversations with USGS Ecosystems Mission Area folks and FWS personnel involved in this work."
   ]
  },
  {
   "cell_type": "code",
   "execution_count": 9,
   "metadata": {},
   "outputs": [],
   "source": [
    "from pybis import db\n",
    "from IPython.display import display\n",
    "import pandas as pd\n",
    "\n",
    "bisDB = db.Db.connect_mongodb(\"bis\")\n",
    "esaWPSpecies = bisDB[\"FWS_Work_Plan_Species\"]"
   ]
  },
  {
   "cell_type": "markdown",
   "metadata": {},
   "source": [
    "# Names and Taxonomy\n",
    "We started with just the original names from a supplied spreadsheet that we believe started with the common names in the [National Listing Work Plan](https://www.fws.gov/endangered/esa-library/pdf/Listing%207-Year%20Workplan%20Sept%202016.pdf) but added in scientific names. Most of these records also had links to the USFWS Ecological Conservation Online System (ECOS) where we were able to further reduce ambiguity in the species being identified. We were able to pick up ITIS Taxonomic Serial Numbers from the referenced ECOS pages, and from these we tapped into species data from the USFWS Threatened and Endangered Species System and consulted ITIS itself. Through all of these steps we continued to build more and more data into the system that can then be evaluated for various uses."
   ]
  },
  {
   "cell_type": "markdown",
   "metadata": {},
   "source": [
    "This next codeblock uses the generated array of unique scientific names to output a summary of names and their sources for further examination. A few of these are anomalies based on slight string mismatches that are no big deal and could have been dealt with previously. Notable things for future examination include:\n",
    "\n",
    "* The majority of these are cases where there appears to be a disagreement in ITIS for the supplied scientific name. These mostly show up here where you'll see more than one ITIS name, followed by an \"invalid\" or \"unaccepted\" flag and a TSN that matches the TSN picked up from ECOS. The FWS system has a TSN that ITIS considers to be invalid for some reason. There may be good case for argument on these, but they could be noted for FWS biologists to consider if they haven't already done so. Some of the more notable cases are where two different identified species names are the same taxonomy according to ITIS. This may already be well known to the relevant FWS biologists and is likely a part of the petition review process.\n",
    "* There are a few cases where only a genus name was supplied, and we didn't perhaps deal with these quite as elegantly as we could have in this synthesis exercise.\n",
    "* There are a few other cases here where an explicit name match between different sources simply turned up a slight but insignificant difference and have no meaningful impact.\n",
    "\n",
    "We likely need to add some additional annotation to the data based on a human review of these dynamics to help determine which name we want to use in connecting to other data systems. For now, we will try first to use the originally supplied scientific name in pulling other data in and then look at other names when that fails. The intent will be to remain true to what the original data supplied."
   ]
  },
  {
   "cell_type": "code",
   "execution_count": null,
   "metadata": {},
   "outputs": [],
   "source": [
    "for record in esaWPSpecies.find({\"Synthesis.Unique Scientific Names.1\":{\"$exists\":True}}):\n",
    "    print (\"Submitted Name:\", record[\"Submitted Data\"][\"Scientific Name\"])\n",
    "    try:\n",
    "        print (\"ECOS Name:\", record[\"ECOS Scrape\"][\"Scientific Name\"])\n",
    "        print (\"ECOS TSN:\", record[\"ECOS Scrape\"][\"TSN\"])\n",
    "    except:\n",
    "        pass\n",
    "    try:\n",
    "        print (\"TESS Name:\", record[\"TESS\"][\"SCINAME\"])\n",
    "    except:\n",
    "        pass\n",
    "    for itisRecord in record[\"ITIS\"]:\n",
    "        print (\"ITIS:\", itisRecord[\"nameWInd\"], itisRecord[\"usage\"], itisRecord[\"tsn\"])\n",
    "    print (\"----------\")"
   ]
  },
  {
   "cell_type": "markdown",
   "metadata": {},
   "source": [
    "# State Species of Greatest Conservation Need\n",
    "One of the data sources we compared with is the synthesis of SGCN species that our program pulls together. This report shows a quick summary of the species that were found in the state SGCN synthesis. What might be interesting here is to think about cases where states that are part of the species range have not determined that the species should be on their list of conservation needs. If that kind of comparative analysis is interesting, we can work that into the process."
   ]
  },
  {
   "cell_type": "code",
   "execution_count": null,
   "metadata": {},
   "outputs": [],
   "source": [
    "for record in esaWPSpecies.find({\"SGCN\":{\"$exists\":True}},{\"Submitted Data\":1,\"SGCN.State List Summary\":1}):\n",
    "    print (\"Scientific Name:\", record[\"Submitted Data\"][\"Scientific Name\"])\n",
    "    print (\"Common Name:\", record[\"Submitted Data\"][\"Common Name\"])\n",
    "    print (\"Lead FWS Region:\", record[\"Submitted Data\"][\"Lead FWS Region\"])\n",
    "    print (\"Species Range (FWS):\", record[\"Submitted Data\"][\"Species Range\"])\n",
    "    print (\"ECOS Link:\", record[\"Submitted Data\"][\"Species Record Reference\"])\n",
    "    for sgcnSummary in record[\"SGCN\"][\"State List Summary\"]:\n",
    "        print (next(iter(sgcnSummary.keys())), \"SGCN Summary Data\")\n",
    "        display (next(iter(sgcnSummary.values())))\n",
    "    print (\"----------\")\n",
    "    "
   ]
  },
  {
   "cell_type": "markdown",
   "metadata": {},
   "source": [
    "# Species Range\n",
    "The data from the FWS 7-year work plan has a listing of states considered part of the range of the species. It's not completely clear at this point how those are designated, but we have a number of other sources to consult about what the range of the species might include.\n",
    "\n",
    "## BISON Occurrence Data\n",
    "The following code block examines the lists of states in the FWS range with a list of states that returned BISON records for the species. Three potentially interesting lists that you'll see in this section include the following:\n",
    "\n",
    "* States included in the FWS range that do have occurrence records in BISON\n",
    "* States from the FWS range that do not have any occurrence records in BISON\n",
    "* Additional states where the species has occurrence records in BISON but not included in the FWS range\n",
    "\n",
    "These dynamics would require quite a bit of additional exploration to do examine things like the type of occurrence record (fossils, museum specimens, etc. are all included here), date of last occurrence, and other attributes in the BISON data."
   ]
  },
  {
   "cell_type": "code",
   "execution_count": null,
   "metadata": {},
   "outputs": [],
   "source": [
    "for record in esaWPSpecies.find({},{\"Submitted Data\":1,\"Synthesis\":1}):\n",
    "    print (\"Scientific Name:\", record[\"Submitted Data\"][\"Scientific Name\"])\n",
    "    print (\"Common Name:\", record[\"Submitted Data\"][\"Common Name\"])\n",
    "    print (\"Lead FWS Region:\", record[\"Submitted Data\"][\"Lead FWS Region\"])\n",
    "    print (\"ECOS Link:\", record[\"Submitted Data\"][\"Species Record Reference\"])\n",
    "\n",
    "    statesAligningWithBISON = [s for s in record[\"Synthesis\"][\"FWS Range List\"] if s in record[\"Synthesis\"][\"States with BISON Occurrence Data\"]]\n",
    "    if len(statesAligningWithBISON) > 0:\n",
    "        print (\"States where FWS range of states align with BISON occurrence data\")\n",
    "        display (statesAligningWithBISON)\n",
    "\n",
    "    fwsStatesWithNoBISONRecords = [s for s in record[\"Synthesis\"][\"FWS Range List\"] if s not in record[\"Synthesis\"][\"States with BISON Occurrence Data\"]]\n",
    "    if len(fwsStatesWithNoBISONRecords) > 0:\n",
    "        print (\"States where FWS range of states had no BISON occurrence data\")\n",
    "        display (fwsStatesWithNoBISONRecords)\n",
    "\n",
    "    additionalStatesFromBISON = list(set(record[\"Synthesis\"][\"States with BISON Occurrence Data\"]) - set(record[\"Synthesis\"][\"FWS Range List\"]))\n",
    "    if len(additionalStatesFromBISON) > 0:\n",
    "        additionalStatesFromBISON.sort()\n",
    "        print (\"Additional states where BISON records occurrence data\")\n",
    "        display (additionalStatesFromBISON)\n",
    "    print (\"----------\")\n"
   ]
  },
  {
   "cell_type": "markdown",
   "metadata": {},
   "source": [
    "## GAP Species Habitat Maps\n",
    "The Gap Analysis Project in Core Science Analytics, Synthesis and Library has produced species distribution maps for the terrestrial vertebrate species with range in CONUS. These are 30m raster products based on the GAP Land Cover data from 2001. Many of these distribution maps have been online for many years, particularly those that were started as regional products. The full set of maps is currently in USGS data review and will be released soon.\n",
    "\n",
    "The following code block lists the FWS work plan species where GAP models exist."
   ]
  },
  {
   "cell_type": "code",
   "execution_count": 10,
   "metadata": {},
   "outputs": [
    {
     "name": "stdout",
     "output_type": "stream",
     "text": [
      "Ambystoma barbouri -- streamside salamander -- GAP Species Code: aSTRSx\n",
      "Batrachoseps campi -- Inyo Mountains slender salamander -- GAP Species Code: aINSAx\n",
      "Batrachoseps minor -- lesser slender salamander -- GAP Species Code: aLSSAx\n",
      "Batrachoseps relictus -- relictual slender salamander -- GAP Species Code: aRSSAx\n",
      "Batrachoseps robustus -- Kern Plateau salamander -- GAP Species Code: aKPSAx\n",
      "Batrachoseps simatus -- Kern Canyon slender salamander -- GAP Species Code: aKCSSx\n",
      "Bufo microscaphus microscaphus -- Arizona toad -- GAP Species Code: aAZTOx\n",
      "Cryptobranchus alleganiensis -- hellbender -- GAP Species Code: aHELLx\n",
      "Eurycea latitans -- Cascade Caverns salamander -- GAP Species Code: aCCSAx\n",
      "Eurycea nana -- Texas salamander -- GAP Species Code: aSMSAx\n",
      "Eurycea robusta -- Blanco blind salamander -- GAP Species Code: aBLSAx\n",
      "Eurycea sp. -- Comal Springs salamander -- GAP Species Code: aBLSAx\n",
      "Eurycea tridentifera -- Comal blind salamander -- GAP Species Code: aCBSAx\n",
      "Eurycea tynerensis -- Oklahoma salamander -- GAP Species Code: aOKSAx\n",
      "Gyrinophilus gulolineatus -- Berry Cave Salamander -- GAP Species Code: aBCSAx\n",
      "Gyrinophilus palleucus -- Tennessee Cave salamander -- GAP Species Code: aTCSAx\n",
      "Gyrinophilus subterraneus -- West Virginia spring salamander -- GAP Species Code: aWVSSx\n",
      "Haideotriton wallacei -- Georgia blind salamander -- GAP Species Code: aGBSAx\n",
      "Hydromantes brunus -- limestone salamander -- GAP Species Code: aLISAx\n",
      "Hydromantes shastae -- Shasta salamander -- GAP Species Code: aSHSAx\n",
      "Necturus lewisi -- Neuse River waterdog -- GAP Species Code: aNRWAx\n",
      "Notophthalmus perstriatus -- striped newt -- GAP Species Code: aSTNEx\n",
      "Plethodon hubrichti -- Peaks of Otter salamander -- GAP Species Code: aPOSAx\n",
      "Pseudacris illinoensis -- Illinois chorus frog -- GAP Species Code: aILGRx\n",
      "Rana boylii -- foothill yellow-legged frog -- GAP Species Code: aFYLFx\n",
      "Rana cascadae -- Cascades frog -- GAP Species Code: aCSFRx\n",
      "Rhyacotriton cascadae -- Cascade torrent salamander -- GAP Species Code: aCTRSx\n",
      "Rhyacotriton kezeri -- Columbia torrent salamander -- GAP Species Code: aCTOSx\n",
      "Spea hammondii -- western spadefoot -- GAP Species Code: aWESPx\n",
      "Agelaius tricolor -- tricolor blackbird -- GAP Species Code: bTRBLx\n",
      "Amazona viridigenalis -- red-crowned parrot -- GAP Species Code: bRCPAx\n",
      "Ammodramus caudacutus -- salt marsh sharp-tailed sparrow -- GAP Species Code: bSSTSx\n",
      "Catharus bicknelli -- Bicknell's thrush -- GAP Species Code: bBITHx\n",
      "Fratercula cirrhata -- tufted puffin -- GAP Species Code: bTUPUx\n",
      "Grus canadensis pratensis -- Florida sandhill crane -- GAP Species Code: bTUPUx\n",
      "Laterallus jamaicensis -- black rail -- GAP Species Code: bBLRAx\n",
      "picoides arcticus -- black-backed woodpecker (Black Hills population) -- GAP Species Code: bBBWOx\n",
      "picoides arcticus -- black-backed woodpecker (Oregon Cascades-California population) -- GAP Species Code: bBBWOx\n",
      "Strix occidentalis caurina -- northern spotted owl -- GAP Species Code: bSPOWc\n",
      "Strix occidentalis occidentalis -- California spotted owl -- GAP Species Code: bSPOWo\n",
      "Tympanuchus pallidicinctus -- lesser prairie-chicken -- GAP Species Code: bLEPCx\n",
      "Vermivora chrysoptera -- golden-winged warbler -- GAP Species Code: bGWWAx\n",
      "Arborimus longicaudus -- red tree vole -- GAP Species Code: mRTVOx\n",
      "Cynomys leucurus -- white-tailed prairie dog -- GAP Species Code: mWTPDx\n",
      "Dipodomys elator -- Texas kangaroo rat -- GAP Species Code: mTKRAx\n",
      "Martes pennanti -- Fisher (Northern Rocky Mountains population) -- GAP Species Code: mFISHx\n",
      "Myotis lucifugus -- little brown bat -- GAP Species Code: mLBMYx\n",
      "Tamias minimus atristriatus -- Penasco least chipmunk -- GAP Species Code: mLECHt\n",
      "Vulpes vulpes necator -- Sierra Nevada red fox -- GAP Species Code: mREFOn\n",
      "Actinemys marmorata -- western pond turtle -- GAP Species Code: rWPTUx\n",
      "aspidoscelis arizonae -- Arizona striped whiptail -- GAP Species Code: rWPTUx\n",
      "Charina bottae umbratica -- southern rubber boa -- GAP Species Code: rSRBOx\n",
      "Clemmys guttata -- spotted turtle -- GAP Species Code: rSPTUx\n",
      "Clonophis kirtlandii -- Kirtland's snake -- GAP Species Code: rKISNx\n",
      "Elgaria panamintina -- Panamint alligator lizard -- GAP Species Code: rPALIx\n",
      "Emydoidea blandingii -- Blanding's turtle -- GAP Species Code: rBTURx\n",
      "Glyptemys insculpta -- wood turtle -- GAP Species Code: rWOTUx\n",
      "Gopherus polyphemus -- gopher tortoise -- GAP Species Code: rGOTOx\n",
      "Graptemys barbouri -- Barbour's map turtle -- GAP Species Code: rBMTUx\n",
      "Heterodon simus -- southern hognose snake -- GAP Species Code: rSHNSx\n",
      "Holbrookia lacerata -- spot-tailed earless lizard -- GAP Species Code: rSTELx\n",
      "Macroclemys temmincki -- alligator snapping turtle -- GAP Species Code: rSTELx\n",
      "Pituophis melanoleucus mugitus -- Florida pine snake -- GAP Species Code: rPINEu\n",
      "Pseudemys gorzugi -- Rio Grande cooter -- GAP Species Code: rRGCOx\n",
      "Pseudemys rubriventris -- northern red-bellied cooter (range- wide) -- GAP Species Code: rNRBCx\n",
      "Tantilla oolitica -- Rim Rock crowned snake -- GAP Species Code: rRRCSx\n"
     ]
    }
   ],
   "source": [
    "for record in esaWPSpecies.find({\"GAP\":{\"$exists\":True}},{\"Submitted Data\":1,\"GAP\":1}):\n",
    "    print (record[\"Submitted Data\"][\"Scientific Name\"], \"--\", record[\"Submitted Data\"][\"Common Name\"], \"-- GAP Species Code:\", record[\"GAP\"][\"gap_speciescode\"])"
   ]
  },
  {
   "cell_type": "markdown",
   "metadata": {},
   "source": [
    "# Next Steps\n",
    "I've just begun working through the various things we can do with the data we've already assembled for the FWS ESA work plan species in the Taxa Information Registry. And there are other sources to tap into as well such as IUCN Red List. I'm checking in this code for now but will come back to it as time allows. We'll also have to see what kind of appetite there is for digging into this further with Ecosystems folks.\n",
    "\n",
    "For now, here is a quick example of a full species document in its raw form from the database."
   ]
  },
  {
   "cell_type": "code",
   "execution_count": null,
   "metadata": {},
   "outputs": [],
   "source": [
    "display(esaWPSpecies.find_one())"
   ]
  },
  {
   "cell_type": "code",
   "execution_count": null,
   "metadata": {},
   "outputs": [],
   "source": []
  }
 ],
 "metadata": {
  "kernelspec": {
   "display_name": "Python 3",
   "language": "python",
   "name": "python3"
  },
  "language_info": {
   "codemirror_mode": {
    "name": "ipython",
    "version": 3
   },
   "file_extension": ".py",
   "mimetype": "text/x-python",
   "name": "python",
   "nbconvert_exporter": "python",
   "pygments_lexer": "ipython3",
   "version": "3.6.6"
  }
 },
 "nbformat": 4,
 "nbformat_minor": 2
}
